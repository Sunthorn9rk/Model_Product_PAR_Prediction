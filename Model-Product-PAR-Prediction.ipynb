{
 "cells": [
  {
   "cell_type": "markdown",
   "id": "eb976a34",
   "metadata": {
    "_cell_guid": "b1076dfc-b9ad-4769-8c92-a6c4dae69d19",
    "_uuid": "8f2839f25d086af736a60e9eeb907d3b93b6e0e5",
    "papermill": {
     "duration": 0.020626,
     "end_time": "2024-02-15T07:14:47.480862",
     "exception": false,
     "start_time": "2024-02-15T07:14:47.460236",
     "status": "completed"
    },
    "tags": []
   },
   "source": [
    "# **Model Product PAR Prediction**"
   ]
  },
  {
   "cell_type": "markdown",
   "id": "ca7ae74b",
   "metadata": {
    "papermill": {
     "duration": 0.01605,
     "end_time": "2024-02-15T07:14:47.512405",
     "exception": false,
     "start_time": "2024-02-15T07:14:47.496355",
     "status": "completed"
    },
    "tags": []
   },
   "source": [
    "## Load The Train Dataset To Train"
   ]
  },
  {
   "cell_type": "code",
   "execution_count": 1,
   "id": "25cf24d6",
   "metadata": {
    "execution": {
     "iopub.execute_input": "2024-02-15T07:14:47.545212Z",
     "iopub.status.busy": "2024-02-15T07:14:47.544695Z",
     "iopub.status.idle": "2024-02-15T07:14:49.083789Z",
     "shell.execute_reply": "2024-02-15T07:14:49.082565Z"
    },
    "papermill": {
     "duration": 1.558627,
     "end_time": "2024-02-15T07:14:49.086274",
     "exception": false,
     "start_time": "2024-02-15T07:14:47.527647",
     "status": "completed"
    },
    "tags": []
   },
   "outputs": [
    {
     "data": {
      "text/html": [
       "<div>\n",
       "<style scoped>\n",
       "    .dataframe tbody tr th:only-of-type {\n",
       "        vertical-align: middle;\n",
       "    }\n",
       "\n",
       "    .dataframe tbody tr th {\n",
       "        vertical-align: top;\n",
       "    }\n",
       "\n",
       "    .dataframe thead th {\n",
       "        text-align: right;\n",
       "    }\n",
       "</style>\n",
       "<table border=\"1\" class=\"dataframe\">\n",
       "  <thead>\n",
       "    <tr style=\"text-align: right;\">\n",
       "      <th></th>\n",
       "      <th>pr_level1_key</th>\n",
       "      <th>pr_dpcode</th>\n",
       "      <th>iprcode</th>\n",
       "      <th>pack_size</th>\n",
       "      <th>brcode</th>\n",
       "      <th>parqty</th>\n",
       "      <th>sh_daysmin</th>\n",
       "      <th>sd_t_qty_30</th>\n",
       "      <th>on_promotion</th>\n",
       "      <th>Parqty_Cal</th>\n",
       "      <th>Parqty_Adj</th>\n",
       "    </tr>\n",
       "  </thead>\n",
       "  <tbody>\n",
       "    <tr>\n",
       "      <th>0</th>\n",
       "      <td>1</td>\n",
       "      <td>3</td>\n",
       "      <td>213819</td>\n",
       "      <td>10</td>\n",
       "      <td>1007</td>\n",
       "      <td>4</td>\n",
       "      <td>316</td>\n",
       "      <td>4.0</td>\n",
       "      <td>0.0</td>\n",
       "      <td>4.0</td>\n",
       "      <td>6</td>\n",
       "    </tr>\n",
       "    <tr>\n",
       "      <th>1</th>\n",
       "      <td>1</td>\n",
       "      <td>5</td>\n",
       "      <td>229142</td>\n",
       "      <td>12</td>\n",
       "      <td>1024</td>\n",
       "      <td>4</td>\n",
       "      <td>321</td>\n",
       "      <td>3.0</td>\n",
       "      <td>0.0</td>\n",
       "      <td>3.0</td>\n",
       "      <td>6</td>\n",
       "    </tr>\n",
       "    <tr>\n",
       "      <th>2</th>\n",
       "      <td>1</td>\n",
       "      <td>2</td>\n",
       "      <td>170136</td>\n",
       "      <td>36</td>\n",
       "      <td>1006</td>\n",
       "      <td>11</td>\n",
       "      <td>365</td>\n",
       "      <td>3.0</td>\n",
       "      <td>0.0</td>\n",
       "      <td>3.0</td>\n",
       "      <td>6</td>\n",
       "    </tr>\n",
       "    <tr>\n",
       "      <th>3</th>\n",
       "      <td>1</td>\n",
       "      <td>1</td>\n",
       "      <td>214842</td>\n",
       "      <td>1</td>\n",
       "      <td>1012</td>\n",
       "      <td>3</td>\n",
       "      <td>365</td>\n",
       "      <td>0.0</td>\n",
       "      <td>0.0</td>\n",
       "      <td>0.0</td>\n",
       "      <td>6</td>\n",
       "    </tr>\n",
       "    <tr>\n",
       "      <th>4</th>\n",
       "      <td>1</td>\n",
       "      <td>2</td>\n",
       "      <td>182442</td>\n",
       "      <td>24</td>\n",
       "      <td>1046</td>\n",
       "      <td>10</td>\n",
       "      <td>263</td>\n",
       "      <td>17.0</td>\n",
       "      <td>0.0</td>\n",
       "      <td>17.0</td>\n",
       "      <td>17</td>\n",
       "    </tr>\n",
       "    <tr>\n",
       "      <th>...</th>\n",
       "      <td>...</td>\n",
       "      <td>...</td>\n",
       "      <td>...</td>\n",
       "      <td>...</td>\n",
       "      <td>...</td>\n",
       "      <td>...</td>\n",
       "      <td>...</td>\n",
       "      <td>...</td>\n",
       "      <td>...</td>\n",
       "      <td>...</td>\n",
       "      <td>...</td>\n",
       "    </tr>\n",
       "    <tr>\n",
       "      <th>325464</th>\n",
       "      <td>1</td>\n",
       "      <td>3</td>\n",
       "      <td>251129</td>\n",
       "      <td>12</td>\n",
       "      <td>1049</td>\n",
       "      <td>4</td>\n",
       "      <td>270</td>\n",
       "      <td>6.0</td>\n",
       "      <td>0.0</td>\n",
       "      <td>6.0</td>\n",
       "      <td>6</td>\n",
       "    </tr>\n",
       "    <tr>\n",
       "      <th>325465</th>\n",
       "      <td>1</td>\n",
       "      <td>8</td>\n",
       "      <td>247006</td>\n",
       "      <td>6</td>\n",
       "      <td>1014</td>\n",
       "      <td>4</td>\n",
       "      <td>180</td>\n",
       "      <td>1.0</td>\n",
       "      <td>0.0</td>\n",
       "      <td>1.0</td>\n",
       "      <td>6</td>\n",
       "    </tr>\n",
       "    <tr>\n",
       "      <th>325466</th>\n",
       "      <td>1</td>\n",
       "      <td>8</td>\n",
       "      <td>7438</td>\n",
       "      <td>12</td>\n",
       "      <td>1053</td>\n",
       "      <td>12</td>\n",
       "      <td>650</td>\n",
       "      <td>1.0</td>\n",
       "      <td>0.0</td>\n",
       "      <td>1.0</td>\n",
       "      <td>6</td>\n",
       "    </tr>\n",
       "    <tr>\n",
       "      <th>325467</th>\n",
       "      <td>1</td>\n",
       "      <td>9</td>\n",
       "      <td>204519</td>\n",
       "      <td>3</td>\n",
       "      <td>1051</td>\n",
       "      <td>4</td>\n",
       "      <td>658</td>\n",
       "      <td>3.0</td>\n",
       "      <td>0.0</td>\n",
       "      <td>3.0</td>\n",
       "      <td>6</td>\n",
       "    </tr>\n",
       "    <tr>\n",
       "      <th>325468</th>\n",
       "      <td>2</td>\n",
       "      <td>22</td>\n",
       "      <td>236746</td>\n",
       "      <td>1</td>\n",
       "      <td>1019</td>\n",
       "      <td>3</td>\n",
       "      <td>120</td>\n",
       "      <td>2.0</td>\n",
       "      <td>0.0</td>\n",
       "      <td>2.0</td>\n",
       "      <td>3</td>\n",
       "    </tr>\n",
       "  </tbody>\n",
       "</table>\n",
       "<p>325469 rows × 11 columns</p>\n",
       "</div>"
      ],
      "text/plain": [
       "        pr_level1_key  pr_dpcode  iprcode  pack_size  brcode  parqty  \\\n",
       "0                   1          3   213819         10    1007       4   \n",
       "1                   1          5   229142         12    1024       4   \n",
       "2                   1          2   170136         36    1006      11   \n",
       "3                   1          1   214842          1    1012       3   \n",
       "4                   1          2   182442         24    1046      10   \n",
       "...               ...        ...      ...        ...     ...     ...   \n",
       "325464              1          3   251129         12    1049       4   \n",
       "325465              1          8   247006          6    1014       4   \n",
       "325466              1          8     7438         12    1053      12   \n",
       "325467              1          9   204519          3    1051       4   \n",
       "325468              2         22   236746          1    1019       3   \n",
       "\n",
       "        sh_daysmin  sd_t_qty_30  on_promotion  Parqty_Cal  Parqty_Adj  \n",
       "0              316          4.0           0.0         4.0           6  \n",
       "1              321          3.0           0.0         3.0           6  \n",
       "2              365          3.0           0.0         3.0           6  \n",
       "3              365          0.0           0.0         0.0           6  \n",
       "4              263         17.0           0.0        17.0          17  \n",
       "...            ...          ...           ...         ...         ...  \n",
       "325464         270          6.0           0.0         6.0           6  \n",
       "325465         180          1.0           0.0         1.0           6  \n",
       "325466         650          1.0           0.0         1.0           6  \n",
       "325467         658          3.0           0.0         3.0           6  \n",
       "325468         120          2.0           0.0         2.0           3  \n",
       "\n",
       "[325469 rows x 11 columns]"
      ]
     },
     "execution_count": 1,
     "metadata": {},
     "output_type": "execute_result"
    }
   ],
   "source": [
    "import pandas as pd\n",
    "\n",
    "Data_PAR = pd.read_csv('/kaggle/input/dataset-find-par-qty-coop/train_fulldata.csv')\n",
    "Data_PAR"
   ]
  },
  {
   "cell_type": "markdown",
   "id": "630da2f6",
   "metadata": {
    "papermill": {
     "duration": 0.015377,
     "end_time": "2024-02-15T07:14:49.117349",
     "exception": false,
     "start_time": "2024-02-15T07:14:49.101972",
     "status": "completed"
    },
    "tags": []
   },
   "source": [
    "## Data Preparation"
   ]
  },
  {
   "cell_type": "code",
   "execution_count": 2,
   "id": "484b0245",
   "metadata": {
    "execution": {
     "iopub.execute_input": "2024-02-15T07:14:49.150251Z",
     "iopub.status.busy": "2024-02-15T07:14:49.149881Z",
     "iopub.status.idle": "2024-02-15T07:14:49.177913Z",
     "shell.execute_reply": "2024-02-15T07:14:49.176837Z"
    },
    "papermill": {
     "duration": 0.047064,
     "end_time": "2024-02-15T07:14:49.180037",
     "exception": false,
     "start_time": "2024-02-15T07:14:49.132973",
     "status": "completed"
    },
    "tags": []
   },
   "outputs": [
    {
     "name": "stdout",
     "output_type": "stream",
     "text": [
      "Total amount of data before removing missing values.: 325469\n",
      "Total amount of data after removing missing values.: 314835\n"
     ]
    }
   ],
   "source": [
    "#To remove the NA values\n",
    "print(\"Total amount of data before removing missing values.:\", len(Data_PAR))\n",
    "Data_PAR = Data_PAR.dropna()\n",
    "print(\"Total amount of data after removing missing values.:\", len(Data_PAR))"
   ]
  },
  {
   "cell_type": "code",
   "execution_count": 3,
   "id": "8c9c7ace",
   "metadata": {
    "execution": {
     "iopub.execute_input": "2024-02-15T07:14:49.214277Z",
     "iopub.status.busy": "2024-02-15T07:14:49.213351Z",
     "iopub.status.idle": "2024-02-15T07:14:49.225619Z",
     "shell.execute_reply": "2024-02-15T07:14:49.224535Z"
    },
    "papermill": {
     "duration": 0.032201,
     "end_time": "2024-02-15T07:14:49.228186",
     "exception": false,
     "start_time": "2024-02-15T07:14:49.195985",
     "status": "completed"
    },
    "tags": []
   },
   "outputs": [
    {
     "data": {
      "text/plain": [
       "pr_level1_key    0\n",
       "pr_dpcode        0\n",
       "iprcode          0\n",
       "pack_size        0\n",
       "brcode           0\n",
       "parqty           0\n",
       "sh_daysmin       0\n",
       "sd_t_qty_30      0\n",
       "on_promotion     0\n",
       "Parqty_Cal       0\n",
       "Parqty_Adj       0\n",
       "dtype: int64"
      ]
     },
     "execution_count": 3,
     "metadata": {},
     "output_type": "execute_result"
    }
   ],
   "source": [
    "# checking the number of missing values in the dataset\n",
    "Data_PAR.isnull().sum()"
   ]
  },
  {
   "cell_type": "code",
   "execution_count": 4,
   "id": "c790a2d7",
   "metadata": {
    "execution": {
     "iopub.execute_input": "2024-02-15T07:14:49.262791Z",
     "iopub.status.busy": "2024-02-15T07:14:49.262387Z",
     "iopub.status.idle": "2024-02-15T07:14:49.389667Z",
     "shell.execute_reply": "2024-02-15T07:14:49.388032Z"
    },
    "papermill": {
     "duration": 0.14769,
     "end_time": "2024-02-15T07:14:49.392198",
     "exception": false,
     "start_time": "2024-02-15T07:14:49.244508",
     "status": "completed"
    },
    "tags": []
   },
   "outputs": [
    {
     "name": "stdout",
     "output_type": "stream",
     "text": [
      "Total amount of data before deleting duplicate values : 314835\n",
      "Total amount of data after deleting duplicate values : 314835\n"
     ]
    }
   ],
   "source": [
    "# Delete rows with duplicate values.\n",
    "print(\"Total amount of data before deleting duplicate values :\", len(Data_PAR))\n",
    "Data_PAR = Data_PAR.drop_duplicates()\n",
    "print(\"Total amount of data after deleting duplicate values :\", len(Data_PAR))"
   ]
  },
  {
   "cell_type": "markdown",
   "id": "ecb3cee6",
   "metadata": {
    "papermill": {
     "duration": 0.015917,
     "end_time": "2024-02-15T07:14:49.424339",
     "exception": false,
     "start_time": "2024-02-15T07:14:49.408422",
     "status": "completed"
    },
    "tags": []
   },
   "source": [
    "## EDA (Exploratory data analysis)"
   ]
  },
  {
   "cell_type": "code",
   "execution_count": 5,
   "id": "0c228514",
   "metadata": {
    "execution": {
     "iopub.execute_input": "2024-02-15T07:14:49.458951Z",
     "iopub.status.busy": "2024-02-15T07:14:49.458539Z",
     "iopub.status.idle": "2024-02-15T07:14:49.463518Z",
     "shell.execute_reply": "2024-02-15T07:14:49.462250Z"
    },
    "papermill": {
     "duration": 0.025329,
     "end_time": "2024-02-15T07:14:49.465908",
     "exception": false,
     "start_time": "2024-02-15T07:14:49.440579",
     "status": "completed"
    },
    "tags": []
   },
   "outputs": [],
   "source": [
    "# from ydata_profiling import ProfileReport\n",
    "\n",
    "# pr_df = ProfileReport(Data_PAR)\n",
    "\n",
    "# pr_df.to_file(\"report.html\")"
   ]
  },
  {
   "cell_type": "markdown",
   "id": "9c43decf",
   "metadata": {
    "papermill": {
     "duration": 0.016707,
     "end_time": "2024-02-15T07:14:49.498894",
     "exception": false,
     "start_time": "2024-02-15T07:14:49.482187",
     "status": "completed"
    },
    "tags": []
   },
   "source": [
    "## Split The Data"
   ]
  },
  {
   "cell_type": "code",
   "execution_count": 6,
   "id": "4d63428e",
   "metadata": {
    "execution": {
     "iopub.execute_input": "2024-02-15T07:14:49.532671Z",
     "iopub.status.busy": "2024-02-15T07:14:49.532320Z",
     "iopub.status.idle": "2024-02-15T07:14:49.549799Z",
     "shell.execute_reply": "2024-02-15T07:14:49.548628Z"
    },
    "papermill": {
     "duration": 0.037167,
     "end_time": "2024-02-15T07:14:49.552156",
     "exception": false,
     "start_time": "2024-02-15T07:14:49.514989",
     "status": "completed"
    },
    "tags": []
   },
   "outputs": [
    {
     "data": {
      "text/html": [
       "<div>\n",
       "<style scoped>\n",
       "    .dataframe tbody tr th:only-of-type {\n",
       "        vertical-align: middle;\n",
       "    }\n",
       "\n",
       "    .dataframe tbody tr th {\n",
       "        vertical-align: top;\n",
       "    }\n",
       "\n",
       "    .dataframe thead th {\n",
       "        text-align: right;\n",
       "    }\n",
       "</style>\n",
       "<table border=\"1\" class=\"dataframe\">\n",
       "  <thead>\n",
       "    <tr style=\"text-align: right;\">\n",
       "      <th></th>\n",
       "      <th>pr_level1_key</th>\n",
       "      <th>pr_dpcode</th>\n",
       "      <th>iprcode</th>\n",
       "      <th>pack_size</th>\n",
       "      <th>brcode</th>\n",
       "      <th>parqty</th>\n",
       "      <th>sh_daysmin</th>\n",
       "      <th>sd_t_qty_30</th>\n",
       "      <th>on_promotion</th>\n",
       "      <th>Parqty_Cal</th>\n",
       "      <th>Parqty_Adj</th>\n",
       "    </tr>\n",
       "  </thead>\n",
       "  <tbody>\n",
       "    <tr>\n",
       "      <th>0</th>\n",
       "      <td>1</td>\n",
       "      <td>3</td>\n",
       "      <td>213819</td>\n",
       "      <td>10</td>\n",
       "      <td>1007</td>\n",
       "      <td>4</td>\n",
       "      <td>316</td>\n",
       "      <td>4.0</td>\n",
       "      <td>0.0</td>\n",
       "      <td>4.0</td>\n",
       "      <td>6</td>\n",
       "    </tr>\n",
       "    <tr>\n",
       "      <th>1</th>\n",
       "      <td>1</td>\n",
       "      <td>5</td>\n",
       "      <td>229142</td>\n",
       "      <td>12</td>\n",
       "      <td>1024</td>\n",
       "      <td>4</td>\n",
       "      <td>321</td>\n",
       "      <td>3.0</td>\n",
       "      <td>0.0</td>\n",
       "      <td>3.0</td>\n",
       "      <td>6</td>\n",
       "    </tr>\n",
       "    <tr>\n",
       "      <th>2</th>\n",
       "      <td>1</td>\n",
       "      <td>2</td>\n",
       "      <td>170136</td>\n",
       "      <td>36</td>\n",
       "      <td>1006</td>\n",
       "      <td>11</td>\n",
       "      <td>365</td>\n",
       "      <td>3.0</td>\n",
       "      <td>0.0</td>\n",
       "      <td>3.0</td>\n",
       "      <td>6</td>\n",
       "    </tr>\n",
       "    <tr>\n",
       "      <th>3</th>\n",
       "      <td>1</td>\n",
       "      <td>1</td>\n",
       "      <td>214842</td>\n",
       "      <td>1</td>\n",
       "      <td>1012</td>\n",
       "      <td>3</td>\n",
       "      <td>365</td>\n",
       "      <td>0.0</td>\n",
       "      <td>0.0</td>\n",
       "      <td>0.0</td>\n",
       "      <td>6</td>\n",
       "    </tr>\n",
       "    <tr>\n",
       "      <th>4</th>\n",
       "      <td>1</td>\n",
       "      <td>2</td>\n",
       "      <td>182442</td>\n",
       "      <td>24</td>\n",
       "      <td>1046</td>\n",
       "      <td>10</td>\n",
       "      <td>263</td>\n",
       "      <td>17.0</td>\n",
       "      <td>0.0</td>\n",
       "      <td>17.0</td>\n",
       "      <td>17</td>\n",
       "    </tr>\n",
       "    <tr>\n",
       "      <th>...</th>\n",
       "      <td>...</td>\n",
       "      <td>...</td>\n",
       "      <td>...</td>\n",
       "      <td>...</td>\n",
       "      <td>...</td>\n",
       "      <td>...</td>\n",
       "      <td>...</td>\n",
       "      <td>...</td>\n",
       "      <td>...</td>\n",
       "      <td>...</td>\n",
       "      <td>...</td>\n",
       "    </tr>\n",
       "    <tr>\n",
       "      <th>325464</th>\n",
       "      <td>1</td>\n",
       "      <td>3</td>\n",
       "      <td>251129</td>\n",
       "      <td>12</td>\n",
       "      <td>1049</td>\n",
       "      <td>4</td>\n",
       "      <td>270</td>\n",
       "      <td>6.0</td>\n",
       "      <td>0.0</td>\n",
       "      <td>6.0</td>\n",
       "      <td>6</td>\n",
       "    </tr>\n",
       "    <tr>\n",
       "      <th>325465</th>\n",
       "      <td>1</td>\n",
       "      <td>8</td>\n",
       "      <td>247006</td>\n",
       "      <td>6</td>\n",
       "      <td>1014</td>\n",
       "      <td>4</td>\n",
       "      <td>180</td>\n",
       "      <td>1.0</td>\n",
       "      <td>0.0</td>\n",
       "      <td>1.0</td>\n",
       "      <td>6</td>\n",
       "    </tr>\n",
       "    <tr>\n",
       "      <th>325466</th>\n",
       "      <td>1</td>\n",
       "      <td>8</td>\n",
       "      <td>7438</td>\n",
       "      <td>12</td>\n",
       "      <td>1053</td>\n",
       "      <td>12</td>\n",
       "      <td>650</td>\n",
       "      <td>1.0</td>\n",
       "      <td>0.0</td>\n",
       "      <td>1.0</td>\n",
       "      <td>6</td>\n",
       "    </tr>\n",
       "    <tr>\n",
       "      <th>325467</th>\n",
       "      <td>1</td>\n",
       "      <td>9</td>\n",
       "      <td>204519</td>\n",
       "      <td>3</td>\n",
       "      <td>1051</td>\n",
       "      <td>4</td>\n",
       "      <td>658</td>\n",
       "      <td>3.0</td>\n",
       "      <td>0.0</td>\n",
       "      <td>3.0</td>\n",
       "      <td>6</td>\n",
       "    </tr>\n",
       "    <tr>\n",
       "      <th>325468</th>\n",
       "      <td>2</td>\n",
       "      <td>22</td>\n",
       "      <td>236746</td>\n",
       "      <td>1</td>\n",
       "      <td>1019</td>\n",
       "      <td>3</td>\n",
       "      <td>120</td>\n",
       "      <td>2.0</td>\n",
       "      <td>0.0</td>\n",
       "      <td>2.0</td>\n",
       "      <td>3</td>\n",
       "    </tr>\n",
       "  </tbody>\n",
       "</table>\n",
       "<p>314835 rows × 11 columns</p>\n",
       "</div>"
      ],
      "text/plain": [
       "        pr_level1_key  pr_dpcode  iprcode  pack_size  brcode  parqty  \\\n",
       "0                   1          3   213819         10    1007       4   \n",
       "1                   1          5   229142         12    1024       4   \n",
       "2                   1          2   170136         36    1006      11   \n",
       "3                   1          1   214842          1    1012       3   \n",
       "4                   1          2   182442         24    1046      10   \n",
       "...               ...        ...      ...        ...     ...     ...   \n",
       "325464              1          3   251129         12    1049       4   \n",
       "325465              1          8   247006          6    1014       4   \n",
       "325466              1          8     7438         12    1053      12   \n",
       "325467              1          9   204519          3    1051       4   \n",
       "325468              2         22   236746          1    1019       3   \n",
       "\n",
       "        sh_daysmin  sd_t_qty_30  on_promotion  Parqty_Cal  Parqty_Adj  \n",
       "0              316          4.0           0.0         4.0           6  \n",
       "1              321          3.0           0.0         3.0           6  \n",
       "2              365          3.0           0.0         3.0           6  \n",
       "3              365          0.0           0.0         0.0           6  \n",
       "4              263         17.0           0.0        17.0          17  \n",
       "...            ...          ...           ...         ...         ...  \n",
       "325464         270          6.0           0.0         6.0           6  \n",
       "325465         180          1.0           0.0         1.0           6  \n",
       "325466         650          1.0           0.0         1.0           6  \n",
       "325467         658          3.0           0.0         3.0           6  \n",
       "325468         120          2.0           0.0         2.0           3  \n",
       "\n",
       "[314835 rows x 11 columns]"
      ]
     },
     "execution_count": 6,
     "metadata": {},
     "output_type": "execute_result"
    }
   ],
   "source": [
    "Data_PAR"
   ]
  },
  {
   "cell_type": "code",
   "execution_count": 7,
   "id": "e0acb8fb",
   "metadata": {
    "execution": {
     "iopub.execute_input": "2024-02-15T07:14:49.587126Z",
     "iopub.status.busy": "2024-02-15T07:14:49.586682Z",
     "iopub.status.idle": "2024-02-15T07:14:51.234600Z",
     "shell.execute_reply": "2024-02-15T07:14:51.233280Z"
    },
    "papermill": {
     "duration": 1.66878,
     "end_time": "2024-02-15T07:14:51.237371",
     "exception": false,
     "start_time": "2024-02-15T07:14:49.568591",
     "status": "completed"
    },
    "tags": []
   },
   "outputs": [],
   "source": [
    "#Splitting dataset to train and test\n",
    "from sklearn.model_selection import train_test_split\n",
    "\n",
    "\n",
    "X = Data_PAR.drop(['Parqty_Cal', 'Parqty_Adj'], axis=1)  # features\n",
    "\n",
    "y = Data_PAR[['Parqty_Cal']]  # target\n",
    "\n",
    "# split to train 70% and temp set 30%\n",
    "X_train, X_temp, y_train, y_temp = train_test_split(X, y, test_size=0.3, random_state=42)\n",
    "  \n",
    "# split temp set is validation 15% and test 15%\n",
    "X_val, X_test, y_val, y_test = train_test_split(X_temp, y_temp, test_size=0.5, random_state=42)"
   ]
  },
  {
   "cell_type": "markdown",
   "id": "256c95da",
   "metadata": {
    "papermill": {
     "duration": 0.016587,
     "end_time": "2024-02-15T07:14:51.270957",
     "exception": false,
     "start_time": "2024-02-15T07:14:51.254370",
     "status": "completed"
    },
    "tags": []
   },
   "source": [
    "## Standardizing"
   ]
  },
  {
   "cell_type": "code",
   "execution_count": 8,
   "id": "636c0d78",
   "metadata": {
    "execution": {
     "iopub.execute_input": "2024-02-15T07:14:51.305958Z",
     "iopub.status.busy": "2024-02-15T07:14:51.305315Z",
     "iopub.status.idle": "2024-02-15T07:14:51.310043Z",
     "shell.execute_reply": "2024-02-15T07:14:51.308890Z"
    },
    "papermill": {
     "duration": 0.024831,
     "end_time": "2024-02-15T07:14:51.312292",
     "exception": false,
     "start_time": "2024-02-15T07:14:51.287461",
     "status": "completed"
    },
    "tags": []
   },
   "outputs": [],
   "source": [
    "# from sklearn.preprocessing import StandardScaler\n",
    "\n",
    "# # make StandardScaler object\n",
    "# scaler = StandardScaler()\n",
    "\n",
    "# #  Standardizing data feature in data train\n",
    "# X_train = scaler.fit_transform(X_train)\n",
    "\n",
    "# #  Standardizing data feature in validation and test\n",
    "# X_val = scaler.transform(X_val)\n",
    "# X_test = scaler.transform(X_test)"
   ]
  },
  {
   "cell_type": "markdown",
   "id": "b303566a",
   "metadata": {
    "papermill": {
     "duration": 0.016377,
     "end_time": "2024-02-15T07:14:51.345039",
     "exception": false,
     "start_time": "2024-02-15T07:14:51.328662",
     "status": "completed"
    },
    "tags": []
   },
   "source": [
    "## Find The Models"
   ]
  },
  {
   "cell_type": "code",
   "execution_count": 9,
   "id": "3b53ce4f",
   "metadata": {
    "execution": {
     "iopub.execute_input": "2024-02-15T07:14:51.380071Z",
     "iopub.status.busy": "2024-02-15T07:14:51.379658Z",
     "iopub.status.idle": "2024-02-15T07:21:08.358891Z",
     "shell.execute_reply": "2024-02-15T07:21:08.357769Z"
    },
    "papermill": {
     "duration": 377.076672,
     "end_time": "2024-02-15T07:21:08.438547",
     "exception": false,
     "start_time": "2024-02-15T07:14:51.361875",
     "status": "completed"
    },
    "tags": []
   },
   "outputs": [
    {
     "name": "stdout",
     "output_type": "stream",
     "text": [
      "Linear Regression - Best Parameters: {}\n",
      "Linear Regression - MSE on Validation Set: 52.286017925646256\n",
      "Linear Regression - MSE on Test Set: 54.37128746154085\n",
      "------------------------------\n",
      "Random Forest - Best Parameters: {}\n",
      "Random Forest - MSE on Validation Set: 4.958420645844363\n",
      "Random Forest - MSE on Test Set: 29.25734614407318\n",
      "------------------------------\n",
      "Gradient Boosting - Best Parameters: {}\n",
      "Gradient Boosting - MSE on Validation Set: 2.654850946646031\n",
      "Gradient Boosting - MSE on Test Set: 12.239480328174645\n",
      "------------------------------\n"
     ]
    }
   ],
   "source": [
    "from sklearn.model_selection import GridSearchCV\n",
    "from sklearn.metrics import mean_squared_error\n",
    "from sklearn.linear_model import LinearRegression\n",
    "from sklearn.ensemble import RandomForestRegressor, GradientBoostingRegressor\n",
    "\n",
    "# Create a dictionary of models\n",
    "models = {\n",
    "    'Linear Regression': LinearRegression(),\n",
    "    'Random Forest': RandomForestRegressor(),\n",
    "    'Gradient Boosting': GradientBoostingRegressor()\n",
    "    # Add more models if needed\n",
    "}\n",
    "\n",
    "# Loop through each model\n",
    "for model_name, model in models.items():\n",
    "    param_grid = {}\n",
    "    grid_search = GridSearchCV(model, param_grid, cv=5, scoring='neg_mean_squared_error')\n",
    "    grid_search.fit(X_train, y_train.values.ravel())\n",
    "\n",
    "    best_params = grid_search.best_params_\n",
    "    best_model = grid_search.best_estimator_\n",
    "\n",
    "    # Evaluate on validation set\n",
    "    y_val_pred = best_model.predict(X_val)\n",
    "    mse_val = mean_squared_error(y_val, y_val_pred)\n",
    "\n",
    "    # Evaluate on test set\n",
    "    y_test_pred = best_model.predict(X_test)\n",
    "    mse_test = mean_squared_error(y_test, y_test_pred)\n",
    "\n",
    "    print(f'{model_name} - Best Parameters: {best_params}')\n",
    "    print(f'{model_name} - MSE on Validation Set: {mse_val}')\n",
    "    print(f'{model_name} - MSE on Test Set: {mse_test}')\n",
    "    print('-' * 30)"
   ]
  },
  {
   "cell_type": "markdown",
   "id": "b1b18e7f",
   "metadata": {
    "papermill": {
     "duration": 0.016703,
     "end_time": "2024-02-15T07:21:08.472297",
     "exception": false,
     "start_time": "2024-02-15T07:21:08.455594",
     "status": "completed"
    },
    "tags": []
   },
   "source": [
    "## Train The Model Round 1"
   ]
  },
  {
   "cell_type": "code",
   "execution_count": 10,
   "id": "5faaf803",
   "metadata": {
    "execution": {
     "iopub.execute_input": "2024-02-15T07:21:08.509472Z",
     "iopub.status.busy": "2024-02-15T07:21:08.509080Z",
     "iopub.status.idle": "2024-02-15T07:21:14.961782Z",
     "shell.execute_reply": "2024-02-15T07:21:14.960568Z"
    },
    "papermill": {
     "duration": 6.475218,
     "end_time": "2024-02-15T07:21:14.964141",
     "exception": false,
     "start_time": "2024-02-15T07:21:08.488923",
     "status": "completed"
    },
    "tags": []
   },
   "outputs": [
    {
     "name": "stdout",
     "output_type": "stream",
     "text": [
      "Mean Squared Error on Train Set 108.69310624561798\n"
     ]
    }
   ],
   "source": [
    "from sklearn.ensemble import RandomForestRegressor\n",
    "from sklearn.metrics import mean_squared_error\n",
    "\n",
    "# Train the model on the training set.\n",
    "Model_RF = RandomForestRegressor(n_estimators=10, random_state=42)\n",
    "Model_RF.fit(X_train, y_train.values.ravel())\n",
    "\n",
    "# Adjudt Parameter on Validation Set to Test hyperparameter\n",
    "Model_RF_2 = RandomForestRegressor(n_estimators=15, criterion='squared_error'\n",
    "                                  , min_samples_split=2, random_state=42)\n",
    "Model_RF_2.fit(X_val, y_val.values.ravel()) \n",
    "\n",
    "# Evaluate Performance on Test Set\n",
    "y_pred = Model_RF_2.predict(X_test)\n",
    "\n",
    "#  Evaluate Performance of the model\n",
    "MSE_Train = mean_squared_error(y_test, y_pred)\n",
    "print(f'Mean Squared Error on Train Set {MSE_Train}')"
   ]
  },
  {
   "cell_type": "markdown",
   "id": "67d1ee5b",
   "metadata": {
    "papermill": {
     "duration": 0.01639,
     "end_time": "2024-02-15T07:21:14.997433",
     "exception": false,
     "start_time": "2024-02-15T07:21:14.981043",
     "status": "completed"
    },
    "tags": []
   },
   "source": [
    "## Load The Test Dataset To Test"
   ]
  },
  {
   "cell_type": "code",
   "execution_count": 11,
   "id": "9e2c9559",
   "metadata": {
    "execution": {
     "iopub.execute_input": "2024-02-15T07:21:15.032170Z",
     "iopub.status.busy": "2024-02-15T07:21:15.031778Z",
     "iopub.status.idle": "2024-02-15T07:21:15.249327Z",
     "shell.execute_reply": "2024-02-15T07:21:15.248157Z"
    },
    "papermill": {
     "duration": 0.237708,
     "end_time": "2024-02-15T07:21:15.251696",
     "exception": false,
     "start_time": "2024-02-15T07:21:15.013988",
     "status": "completed"
    },
    "tags": []
   },
   "outputs": [
    {
     "data": {
      "text/html": [
       "<div>\n",
       "<style scoped>\n",
       "    .dataframe tbody tr th:only-of-type {\n",
       "        vertical-align: middle;\n",
       "    }\n",
       "\n",
       "    .dataframe tbody tr th {\n",
       "        vertical-align: top;\n",
       "    }\n",
       "\n",
       "    .dataframe thead th {\n",
       "        text-align: right;\n",
       "    }\n",
       "</style>\n",
       "<table border=\"1\" class=\"dataframe\">\n",
       "  <thead>\n",
       "    <tr style=\"text-align: right;\">\n",
       "      <th></th>\n",
       "      <th>pr_level1_key</th>\n",
       "      <th>pr_dpcode</th>\n",
       "      <th>iprcode</th>\n",
       "      <th>pack_size</th>\n",
       "      <th>brcode</th>\n",
       "      <th>parqty</th>\n",
       "      <th>sh_daysmin</th>\n",
       "      <th>sd_t_qty_30</th>\n",
       "      <th>on_promotion</th>\n",
       "      <th>Parqty_Cal</th>\n",
       "      <th>Parqty_Adj</th>\n",
       "    </tr>\n",
       "  </thead>\n",
       "  <tbody>\n",
       "    <tr>\n",
       "      <th>0</th>\n",
       "      <td>1</td>\n",
       "      <td>5</td>\n",
       "      <td>259935</td>\n",
       "      <td>30</td>\n",
       "      <td>1044</td>\n",
       "      <td>3</td>\n",
       "      <td>450</td>\n",
       "      <td>1.0</td>\n",
       "      <td>1.25</td>\n",
       "      <td>1.0</td>\n",
       "      <td>8</td>\n",
       "    </tr>\n",
       "    <tr>\n",
       "      <th>1</th>\n",
       "      <td>2</td>\n",
       "      <td>28</td>\n",
       "      <td>143957</td>\n",
       "      <td>12</td>\n",
       "      <td>1026</td>\n",
       "      <td>6</td>\n",
       "      <td>75</td>\n",
       "      <td>0.0</td>\n",
       "      <td>0.00</td>\n",
       "      <td>0.0</td>\n",
       "      <td>3</td>\n",
       "    </tr>\n",
       "    <tr>\n",
       "      <th>2</th>\n",
       "      <td>2</td>\n",
       "      <td>23</td>\n",
       "      <td>236062</td>\n",
       "      <td>12</td>\n",
       "      <td>1022</td>\n",
       "      <td>6</td>\n",
       "      <td>30</td>\n",
       "      <td>21.0</td>\n",
       "      <td>0.00</td>\n",
       "      <td>7.0</td>\n",
       "      <td>7</td>\n",
       "    </tr>\n",
       "    <tr>\n",
       "      <th>3</th>\n",
       "      <td>1</td>\n",
       "      <td>2</td>\n",
       "      <td>221411</td>\n",
       "      <td>12</td>\n",
       "      <td>1050</td>\n",
       "      <td>2</td>\n",
       "      <td>389</td>\n",
       "      <td>0.0</td>\n",
       "      <td>0.00</td>\n",
       "      <td>0.0</td>\n",
       "      <td>6</td>\n",
       "    </tr>\n",
       "    <tr>\n",
       "      <th>4</th>\n",
       "      <td>1</td>\n",
       "      <td>14</td>\n",
       "      <td>228662</td>\n",
       "      <td>6</td>\n",
       "      <td>1024</td>\n",
       "      <td>4</td>\n",
       "      <td>658</td>\n",
       "      <td>2.0</td>\n",
       "      <td>1.25</td>\n",
       "      <td>3.0</td>\n",
       "      <td>8</td>\n",
       "    </tr>\n",
       "    <tr>\n",
       "      <th>...</th>\n",
       "      <td>...</td>\n",
       "      <td>...</td>\n",
       "      <td>...</td>\n",
       "      <td>...</td>\n",
       "      <td>...</td>\n",
       "      <td>...</td>\n",
       "      <td>...</td>\n",
       "      <td>...</td>\n",
       "      <td>...</td>\n",
       "      <td>...</td>\n",
       "      <td>...</td>\n",
       "    </tr>\n",
       "    <tr>\n",
       "      <th>139482</th>\n",
       "      <td>1</td>\n",
       "      <td>28</td>\n",
       "      <td>233583</td>\n",
       "      <td>14</td>\n",
       "      <td>1038</td>\n",
       "      <td>10</td>\n",
       "      <td>135</td>\n",
       "      <td>13.0</td>\n",
       "      <td>0.00</td>\n",
       "      <td>13.0</td>\n",
       "      <td>13</td>\n",
       "    </tr>\n",
       "    <tr>\n",
       "      <th>139483</th>\n",
       "      <td>2</td>\n",
       "      <td>21</td>\n",
       "      <td>257476</td>\n",
       "      <td>1</td>\n",
       "      <td>1051</td>\n",
       "      <td>3</td>\n",
       "      <td>700</td>\n",
       "      <td>0.0</td>\n",
       "      <td>0.00</td>\n",
       "      <td>0.0</td>\n",
       "      <td>3</td>\n",
       "    </tr>\n",
       "    <tr>\n",
       "      <th>139484</th>\n",
       "      <td>1</td>\n",
       "      <td>10</td>\n",
       "      <td>242854</td>\n",
       "      <td>12</td>\n",
       "      <td>1048</td>\n",
       "      <td>6</td>\n",
       "      <td>864</td>\n",
       "      <td>10.0</td>\n",
       "      <td>1.25</td>\n",
       "      <td>13.0</td>\n",
       "      <td>13</td>\n",
       "    </tr>\n",
       "    <tr>\n",
       "      <th>139485</th>\n",
       "      <td>1</td>\n",
       "      <td>2</td>\n",
       "      <td>32347</td>\n",
       "      <td>20</td>\n",
       "      <td>1039</td>\n",
       "      <td>30</td>\n",
       "      <td>212</td>\n",
       "      <td>41.0</td>\n",
       "      <td>0.00</td>\n",
       "      <td>41.0</td>\n",
       "      <td>41</td>\n",
       "    </tr>\n",
       "    <tr>\n",
       "      <th>139486</th>\n",
       "      <td>1</td>\n",
       "      <td>1</td>\n",
       "      <td>234832</td>\n",
       "      <td>1</td>\n",
       "      <td>1049</td>\n",
       "      <td>3</td>\n",
       "      <td>329</td>\n",
       "      <td>0.0</td>\n",
       "      <td>0.00</td>\n",
       "      <td>0.0</td>\n",
       "      <td>6</td>\n",
       "    </tr>\n",
       "  </tbody>\n",
       "</table>\n",
       "<p>134773 rows × 11 columns</p>\n",
       "</div>"
      ],
      "text/plain": [
       "        pr_level1_key  pr_dpcode  iprcode  pack_size  brcode  parqty  \\\n",
       "0                   1          5   259935         30    1044       3   \n",
       "1                   2         28   143957         12    1026       6   \n",
       "2                   2         23   236062         12    1022       6   \n",
       "3                   1          2   221411         12    1050       2   \n",
       "4                   1         14   228662          6    1024       4   \n",
       "...               ...        ...      ...        ...     ...     ...   \n",
       "139482              1         28   233583         14    1038      10   \n",
       "139483              2         21   257476          1    1051       3   \n",
       "139484              1         10   242854         12    1048       6   \n",
       "139485              1          2    32347         20    1039      30   \n",
       "139486              1          1   234832          1    1049       3   \n",
       "\n",
       "        sh_daysmin  sd_t_qty_30  on_promotion  Parqty_Cal  Parqty_Adj  \n",
       "0              450          1.0          1.25         1.0           8  \n",
       "1               75          0.0          0.00         0.0           3  \n",
       "2               30         21.0          0.00         7.0           7  \n",
       "3              389          0.0          0.00         0.0           6  \n",
       "4              658          2.0          1.25         3.0           8  \n",
       "...            ...          ...           ...         ...         ...  \n",
       "139482         135         13.0          0.00        13.0          13  \n",
       "139483         700          0.0          0.00         0.0           3  \n",
       "139484         864         10.0          1.25        13.0          13  \n",
       "139485         212         41.0          0.00        41.0          41  \n",
       "139486         329          0.0          0.00         0.0           6  \n",
       "\n",
       "[134773 rows x 11 columns]"
      ]
     },
     "execution_count": 11,
     "metadata": {},
     "output_type": "execute_result"
    }
   ],
   "source": [
    "Data_PAR_test = pd.read_csv('/kaggle/input/dataset-find-par-qty-coop/test_fulldata.csv')\n",
    "\n",
    "#Clean NA Value in Dataset\n",
    "Data_PAR_test = Data_PAR_test.dropna()\n",
    "\n",
    "Data_PAR_test"
   ]
  },
  {
   "cell_type": "markdown",
   "id": "77790667",
   "metadata": {
    "papermill": {
     "duration": 0.016787,
     "end_time": "2024-02-15T07:21:15.286071",
     "exception": false,
     "start_time": "2024-02-15T07:21:15.269284",
     "status": "completed"
    },
    "tags": []
   },
   "source": [
    "## Split Test Dataset"
   ]
  },
  {
   "cell_type": "code",
   "execution_count": 12,
   "id": "a70abfe8",
   "metadata": {
    "execution": {
     "iopub.execute_input": "2024-02-15T07:21:15.321759Z",
     "iopub.status.busy": "2024-02-15T07:21:15.321349Z",
     "iopub.status.idle": "2024-02-15T07:21:15.331864Z",
     "shell.execute_reply": "2024-02-15T07:21:15.330402Z"
    },
    "papermill": {
     "duration": 0.031271,
     "end_time": "2024-02-15T07:21:15.334291",
     "exception": false,
     "start_time": "2024-02-15T07:21:15.303020",
     "status": "completed"
    },
    "tags": []
   },
   "outputs": [],
   "source": [
    "# Split data into features (X_new) and target (y_new)\n",
    "\n",
    "X_2 = Data_PAR_test.drop(['Parqty_Cal', 'Parqty_Adj'], axis=1)  # features\n",
    "\n",
    "y_2 = Data_PAR_test['Parqty_Cal']  # target\n",
    "\n",
    "X_2.columns = X.columns"
   ]
  },
  {
   "cell_type": "markdown",
   "id": "a8b5542a",
   "metadata": {
    "papermill": {
     "duration": 0.016739,
     "end_time": "2024-02-15T07:21:15.368171",
     "exception": false,
     "start_time": "2024-02-15T07:21:15.351432",
     "status": "completed"
    },
    "tags": []
   },
   "source": [
    "## Standardizing"
   ]
  },
  {
   "cell_type": "code",
   "execution_count": 13,
   "id": "2a6a64d4",
   "metadata": {
    "execution": {
     "iopub.execute_input": "2024-02-15T07:21:15.403434Z",
     "iopub.status.busy": "2024-02-15T07:21:15.403070Z",
     "iopub.status.idle": "2024-02-15T07:21:15.407394Z",
     "shell.execute_reply": "2024-02-15T07:21:15.406324Z"
    },
    "papermill": {
     "duration": 0.024367,
     "end_time": "2024-02-15T07:21:15.409402",
     "exception": false,
     "start_time": "2024-02-15T07:21:15.385035",
     "status": "completed"
    },
    "tags": []
   },
   "outputs": [],
   "source": [
    "# # Standardizing data feature on data x\n",
    "# X_2 = scaler.fit_transform(X_2)\n",
    "\n",
    "# # Standardizing data feature on data y\n",
    "# #y_2 = scaler.transform(y_2)"
   ]
  },
  {
   "cell_type": "markdown",
   "id": "36457c28",
   "metadata": {
    "papermill": {
     "duration": 0.016654,
     "end_time": "2024-02-15T07:21:15.443322",
     "exception": false,
     "start_time": "2024-02-15T07:21:15.426668",
     "status": "completed"
    },
    "tags": []
   },
   "source": [
    "## Evaluate Performance on Test DataSet"
   ]
  },
  {
   "cell_type": "code",
   "execution_count": 14,
   "id": "197abf54",
   "metadata": {
    "execution": {
     "iopub.execute_input": "2024-02-15T07:21:15.478912Z",
     "iopub.status.busy": "2024-02-15T07:21:15.478537Z",
     "iopub.status.idle": "2024-02-15T07:21:15.620556Z",
     "shell.execute_reply": "2024-02-15T07:21:15.619209Z"
    },
    "papermill": {
     "duration": 0.162659,
     "end_time": "2024-02-15T07:21:15.622782",
     "exception": false,
     "start_time": "2024-02-15T07:21:15.460123",
     "status": "completed"
    },
    "tags": []
   },
   "outputs": [
    {
     "name": "stdout",
     "output_type": "stream",
     "text": [
      "Mean Squared Error: 42.08710917204814\n"
     ]
    }
   ],
   "source": [
    "y_pred_2 = Model_RF_2.predict(X_2)\n",
    "\n",
    "MSE_Test_2 = mean_squared_error(y_2, y_pred_2)\n",
    "\n",
    "\n",
    "print(f'Mean Squared Error: {MSE_Test_2}')"
   ]
  },
  {
   "cell_type": "markdown",
   "id": "1938f14d",
   "metadata": {
    "papermill": {
     "duration": 0.01743,
     "end_time": "2024-02-15T07:21:15.657896",
     "exception": false,
     "start_time": "2024-02-15T07:21:15.640466",
     "status": "completed"
    },
    "tags": []
   },
   "source": [
    "## Varible Importances"
   ]
  },
  {
   "cell_type": "code",
   "execution_count": 15,
   "id": "0791c6d2",
   "metadata": {
    "execution": {
     "iopub.execute_input": "2024-02-15T07:21:15.694266Z",
     "iopub.status.busy": "2024-02-15T07:21:15.693863Z",
     "iopub.status.idle": "2024-02-15T07:21:15.700567Z",
     "shell.execute_reply": "2024-02-15T07:21:15.699718Z"
    },
    "papermill": {
     "duration": 0.027138,
     "end_time": "2024-02-15T07:21:15.702626",
     "exception": false,
     "start_time": "2024-02-15T07:21:15.675488",
     "status": "completed"
    },
    "tags": []
   },
   "outputs": [],
   "source": [
    "# Saving feature names for later use\n",
    "feature_list = list(Data_PAR_test.drop(['Parqty_Cal', 'Parqty_Adj'], axis=1).columns)"
   ]
  },
  {
   "cell_type": "code",
   "execution_count": 16,
   "id": "e49a7b49",
   "metadata": {
    "execution": {
     "iopub.execute_input": "2024-02-15T07:21:15.739165Z",
     "iopub.status.busy": "2024-02-15T07:21:15.738711Z",
     "iopub.status.idle": "2024-02-15T07:21:15.749166Z",
     "shell.execute_reply": "2024-02-15T07:21:15.747686Z"
    },
    "papermill": {
     "duration": 0.031671,
     "end_time": "2024-02-15T07:21:15.751473",
     "exception": false,
     "start_time": "2024-02-15T07:21:15.719802",
     "status": "completed"
    },
    "tags": []
   },
   "outputs": [
    {
     "name": "stdout",
     "output_type": "stream",
     "text": [
      "Variable: sd_t_qty_30          Importance: 0.9\n",
      "Variable: sh_daysmin           Importance: 0.06\n",
      "Variable: pr_dpcode            Importance: 0.01\n",
      "Variable: brcode               Importance: 0.01\n",
      "Variable: parqty               Importance: 0.01\n",
      "Variable: on_promotion         Importance: 0.01\n",
      "Variable: pr_level1_key        Importance: 0.0\n",
      "Variable: iprcode              Importance: 0.0\n",
      "Variable: pack_size            Importance: 0.0\n"
     ]
    }
   ],
   "source": [
    "# Get numerical feature importances\n",
    "importances = list(Model_RF_2.feature_importances_)\n",
    "\n",
    "# List of tuples with variable and importance\n",
    "feature_importances = [(feature, round(importance, 2)) for feature, importance in zip(feature_list, importances)]\n",
    "\n",
    "# Sort the feature importances by most important first\n",
    "feature_importances = sorted(feature_importances, key = lambda x: x[1], reverse = True)\n",
    "\n",
    "# Print out the feature and importances \n",
    "[print('Variable: {:20} Importance: {}'.format(*pair)) for pair in feature_importances];"
   ]
  },
  {
   "cell_type": "markdown",
   "id": "b1dd684c",
   "metadata": {
    "papermill": {
     "duration": 0.016839,
     "end_time": "2024-02-15T07:21:15.785613",
     "exception": false,
     "start_time": "2024-02-15T07:21:15.768774",
     "status": "completed"
    },
    "tags": []
   },
   "source": [
    "## Make The Bar Chart"
   ]
  },
  {
   "cell_type": "code",
   "execution_count": 17,
   "id": "b8580b65",
   "metadata": {
    "execution": {
     "iopub.execute_input": "2024-02-15T07:21:15.822331Z",
     "iopub.status.busy": "2024-02-15T07:21:15.821374Z",
     "iopub.status.idle": "2024-02-15T07:21:16.092764Z",
     "shell.execute_reply": "2024-02-15T07:21:16.091388Z"
    },
    "papermill": {
     "duration": 0.292378,
     "end_time": "2024-02-15T07:21:16.095267",
     "exception": false,
     "start_time": "2024-02-15T07:21:15.802889",
     "status": "completed"
    },
    "tags": []
   },
   "outputs": [
    {
     "data": {
      "image/png": "[encoded data removed]",
      "text/plain": [
       "<Figure size 640x480 with 1 Axes>"
      ]
     },
     "metadata": {},
     "output_type": "display_data"
    }
   ],
   "source": [
    "# Import matplotlib for plotting and use magic command for Jupyter Notebooks\n",
    "import matplotlib.pyplot as plt\n",
    "%matplotlib inline\n",
    "# list of x locations for plotting\n",
    "x_values = list(range(len(importances)))\n",
    "\n",
    "# Make a bar chart\n",
    "plt.bar(x_values, importances, orientation = 'vertical')\n",
    "\n",
    "# Tick labels for x axis\n",
    "plt.xticks(x_values, feature_list, rotation='vertical')\n",
    "\n",
    "# Axis labels and title\n",
    "plt.ylabel('Importance'); plt.xlabel('Variable'); plt.title('Variable Importances'); "
   ]
  },
  {
   "cell_type": "markdown",
   "id": "7b30f26f",
   "metadata": {
    "papermill": {
     "duration": 0.017507,
     "end_time": "2024-02-15T07:21:16.130641",
     "exception": false,
     "start_time": "2024-02-15T07:21:16.113134",
     "status": "completed"
    },
    "tags": []
   },
   "source": [
    "## Eliminate Columns"
   ]
  },
  {
   "cell_type": "code",
   "execution_count": 18,
   "id": "520717e0",
   "metadata": {
    "execution": {
     "iopub.execute_input": "2024-02-15T07:21:16.168221Z",
     "iopub.status.busy": "2024-02-15T07:21:16.167834Z",
     "iopub.status.idle": "2024-02-15T07:21:16.174740Z",
     "shell.execute_reply": "2024-02-15T07:21:16.173832Z"
    },
    "papermill": {
     "duration": 0.02857,
     "end_time": "2024-02-15T07:21:16.177059",
     "exception": false,
     "start_time": "2024-02-15T07:21:16.148489",
     "status": "completed"
    },
    "tags": []
   },
   "outputs": [],
   "source": [
    "feature_list_Eliminate = list(Data_PAR_test.drop(['pr_level1_key', 'iprcode','pack_size'], axis=1).columns)"
   ]
  },
  {
   "cell_type": "markdown",
   "id": "630cec2a",
   "metadata": {
    "papermill": {
     "duration": 0.017762,
     "end_time": "2024-02-15T07:21:16.213402",
     "exception": false,
     "start_time": "2024-02-15T07:21:16.195640",
     "status": "completed"
    },
    "tags": []
   },
   "source": [
    "## Find HyperParameter For Model "
   ]
  },
  {
   "cell_type": "code",
   "execution_count": 19,
   "id": "92109aff",
   "metadata": {
    "execution": {
     "iopub.execute_input": "2024-02-15T07:21:16.251248Z",
     "iopub.status.busy": "2024-02-15T07:21:16.250865Z",
     "iopub.status.idle": "2024-02-15T07:21:16.258142Z",
     "shell.execute_reply": "2024-02-15T07:21:16.256833Z"
    },
    "papermill": {
     "duration": 0.029376,
     "end_time": "2024-02-15T07:21:16.260599",
     "exception": false,
     "start_time": "2024-02-15T07:21:16.231223",
     "status": "completed"
    },
    "tags": []
   },
   "outputs": [
    {
     "name": "stdout",
     "output_type": "stream",
     "text": [
      "Parameters currently in use:\n",
      "\n",
      "{'bootstrap': True,\n",
      " 'ccp_alpha': 0.0,\n",
      " 'criterion': 'squared_error',\n",
      " 'max_depth': None,\n",
      " 'max_features': 1.0,\n",
      " 'max_leaf_nodes': None,\n",
      " 'max_samples': None,\n",
      " 'min_impurity_decrease': 0.0,\n",
      " 'min_samples_leaf': 1,\n",
      " 'min_samples_split': 2,\n",
      " 'min_weight_fraction_leaf': 0.0,\n",
      " 'n_estimators': 100,\n",
      " 'n_jobs': None,\n",
      " 'oob_score': False,\n",
      " 'random_state': 42,\n",
      " 'verbose': 0,\n",
      " 'warm_start': False}\n"
     ]
    }
   ],
   "source": [
    "# Check All Parameters in  RandomForestRegressor\n",
    "\n",
    "new_model = RandomForestRegressor(random_state = 42)\n",
    "\n",
    "from pprint import pprint\n",
    "\n",
    "# Look at parameters used by our current forest\n",
    "print('Parameters currently in use:\\n')\n",
    "pprint(new_model.get_params())"
   ]
  },
  {
   "cell_type": "code",
   "execution_count": 20,
   "id": "98e75d44",
   "metadata": {
    "execution": {
     "iopub.execute_input": "2024-02-15T07:21:16.298983Z",
     "iopub.status.busy": "2024-02-15T07:21:16.298549Z",
     "iopub.status.idle": "2024-02-15T07:21:16.307775Z",
     "shell.execute_reply": "2024-02-15T07:21:16.306149Z"
    },
    "papermill": {
     "duration": 0.031447,
     "end_time": "2024-02-15T07:21:16.310138",
     "exception": false,
     "start_time": "2024-02-15T07:21:16.278691",
     "status": "completed"
    },
    "tags": []
   },
   "outputs": [
    {
     "name": "stdout",
     "output_type": "stream",
     "text": [
      "{'bootstrap': [True, False],\n",
      " 'max_depth': [2, 6, 10],\n",
      " 'max_features': [1.0, 'log2', 'sqrt'],\n",
      " 'min_samples_leaf': [1, 2, 4],\n",
      " 'min_samples_split': [1, 2, 5],\n",
      " 'n_estimators': [10, 57, 105, 152, 200]}\n"
     ]
    }
   ],
   "source": [
    "# Define Rang to Random Search to find Hyperparameter\n",
    "\n",
    "import numpy as np\n",
    "from sklearn.model_selection import RandomizedSearchCV\n",
    "from pprint import pprint\n",
    "\n",
    "# Number of trees in random forest\n",
    "n_estimators = [int(x) for x in np.linspace(start = 10, stop = 200, num = 5)]\n",
    "# Number of features to consider at every split\n",
    "max_features = [1.0, 'log2', 'sqrt']\n",
    "# Maximum number of levels in tree\n",
    "max_depth = [int(x) for x in np.linspace(2, 10, num = 3)]\n",
    "# Minimum number of samples required to split a node\n",
    "min_samples_split = [1, 2, 5]\n",
    "# Minimum number of samples required at each leaf node\n",
    "min_samples_leaf = [1, 2, 4]\n",
    "# Method of selecting samples for training each tree\n",
    "bootstrap = [True, False]\n",
    "\n",
    "# Create the random grid\n",
    "random_grid = {'n_estimators': n_estimators,\n",
    "               'max_features': max_features,\n",
    "               'max_depth': max_depth,\n",
    "               'min_samples_split': min_samples_split,\n",
    "               'min_samples_leaf': min_samples_leaf,\n",
    "               'bootstrap': bootstrap}\n",
    "\n",
    "pprint(random_grid)"
   ]
  },
  {
   "cell_type": "code",
   "execution_count": 21,
   "id": "c5769feb",
   "metadata": {
    "execution": {
     "iopub.execute_input": "2024-02-15T07:21:16.348524Z",
     "iopub.status.busy": "2024-02-15T07:21:16.348149Z",
     "iopub.status.idle": "2024-02-15T07:41:47.018337Z",
     "shell.execute_reply": "2024-02-15T07:41:47.017040Z"
    },
    "papermill": {
     "duration": 1230.69268,
     "end_time": "2024-02-15T07:41:47.020855",
     "exception": false,
     "start_time": "2024-02-15T07:21:16.328175",
     "status": "completed"
    },
    "tags": []
   },
   "outputs": [
    {
     "name": "stdout",
     "output_type": "stream",
     "text": [
      "Fitting 3 folds for each of 100 candidates, totalling 300 fits\n",
      "[CV] END bootstrap=False, max_depth=6, max_features=sqrt, min_samples_leaf=4, min_samples_split=5, n_estimators=10; total time=   1.8s\n",
      "[CV] END bootstrap=False, max_depth=6, max_features=sqrt, min_samples_leaf=4, min_samples_split=5, n_estimators=10; total time=   1.8s\n",
      "[CV] END bootstrap=False, max_depth=6, max_features=sqrt, min_samples_leaf=4, min_samples_split=5, n_estimators=10; total time=   2.0s\n",
      "[CV] END bootstrap=True, max_depth=6, max_features=sqrt, min_samples_leaf=1, min_samples_split=1, n_estimators=105; total time=   0.0s\n",
      "[CV] END bootstrap=True, max_depth=6, max_features=sqrt, min_samples_leaf=1, min_samples_split=1, n_estimators=105; total time=   0.0s\n",
      "[CV] END bootstrap=True, max_depth=6, max_features=sqrt, min_samples_leaf=1, min_samples_split=1, n_estimators=105; total time=   0.0s\n",
      "[CV] END bootstrap=True, max_depth=10, max_features=1.0, min_samples_leaf=2, min_samples_split=2, n_estimators=10; total time=   5.4s\n",
      "[CV] END bootstrap=True, max_depth=10, max_features=1.0, min_samples_leaf=2, min_samples_split=2, n_estimators=10; total time=   5.1s\n",
      "[CV] END bootstrap=False, max_depth=2, max_features=sqrt, min_samples_leaf=4, min_samples_split=5, n_estimators=152; total time=   9.6s\n",
      "[CV] END bootstrap=True, max_depth=10, max_features=log2, min_samples_leaf=1, min_samples_split=1, n_estimators=200; total time=   0.0s\n",
      "[CV] END bootstrap=True, max_depth=10, max_features=log2, min_samples_leaf=1, min_samples_split=1, n_estimators=200; total time=   0.0s\n",
      "[CV] END bootstrap=True, max_depth=10, max_features=log2, min_samples_leaf=1, min_samples_split=1, n_estimators=200; total time=   0.0s\n",
      "[CV] END bootstrap=False, max_depth=6, max_features=1.0, min_samples_leaf=2, min_samples_split=5, n_estimators=200; total time= 1.7min\n",
      "[CV] END bootstrap=True, max_depth=6, max_features=sqrt, min_samples_leaf=4, min_samples_split=1, n_estimators=200; total time=   0.0s\n",
      "[CV] END bootstrap=True, max_depth=6, max_features=sqrt, min_samples_leaf=4, min_samples_split=1, n_estimators=200; total time=   0.0s\n",
      "[CV] END bootstrap=True, max_depth=6, max_features=sqrt, min_samples_leaf=4, min_samples_split=1, n_estimators=200; total time=   0.0s\n",
      "[CV] END bootstrap=False, max_depth=2, max_features=1.0, min_samples_leaf=2, min_samples_split=2, n_estimators=57; total time=   9.4s\n",
      "[CV] END bootstrap=True, max_depth=10, max_features=1.0, min_samples_leaf=4, min_samples_split=5, n_estimators=200; total time= 1.6min\n",
      "[CV] END bootstrap=False, max_depth=2, max_features=sqrt, min_samples_leaf=4, min_samples_split=2, n_estimators=57; total time=   3.6s\n",
      "[CV] END bootstrap=False, max_depth=2, max_features=sqrt, min_samples_leaf=4, min_samples_split=2, n_estimators=57; total time=   3.7s\n",
      "[CV] END bootstrap=True, max_depth=2, max_features=log2, min_samples_leaf=2, min_samples_split=2, n_estimators=105; total time=   5.8s\n",
      "[CV] END bootstrap=True, max_depth=10, max_features=log2, min_samples_leaf=4, min_samples_split=2, n_estimators=105; total time=  23.3s\n",
      "[CV] END bootstrap=True, max_depth=2, max_features=1.0, min_samples_leaf=4, min_samples_split=2, n_estimators=200; total time=  24.9s\n",
      "[CV] END bootstrap=False, max_depth=10, max_features=log2, min_samples_leaf=1, min_samples_split=2, n_estimators=152; total time=  44.7s\n",
      "[CV] END bootstrap=True, max_depth=6, max_features=log2, min_samples_leaf=2, min_samples_split=5, n_estimators=200; total time=  27.8s\n",
      "[CV] END bootstrap=False, max_depth=6, max_features=sqrt, min_samples_leaf=2, min_samples_split=5, n_estimators=105; total time=  19.2s\n",
      "[CV] END bootstrap=False, max_depth=6, max_features=sqrt, min_samples_leaf=4, min_samples_split=5, n_estimators=57; total time=  10.5s\n",
      "[CV] END bootstrap=True, max_depth=2, max_features=1.0, min_samples_leaf=2, min_samples_split=2, n_estimators=152; total time=  19.1s\n",
      "[CV] END bootstrap=True, max_depth=2, max_features=1.0, min_samples_leaf=2, min_samples_split=2, n_estimators=152; total time=  18.7s\n",
      "[CV] END bootstrap=True, max_depth=2, max_features=1.0, min_samples_leaf=2, min_samples_split=2, n_estimators=152; total time=  18.9s\n",
      "[CV] END bootstrap=True, max_depth=10, max_features=log2, min_samples_leaf=4, min_samples_split=2, n_estimators=57; total time=  12.1s\n",
      "[CV] END bootstrap=True, max_depth=10, max_features=log2, min_samples_leaf=4, min_samples_split=2, n_estimators=57; total time=  12.5s\n",
      "[CV] END bootstrap=True, max_depth=10, max_features=log2, min_samples_leaf=4, min_samples_split=2, n_estimators=57; total time=  12.2s\n",
      "[CV] END bootstrap=True, max_depth=10, max_features=sqrt, min_samples_leaf=4, min_samples_split=2, n_estimators=57; total time=  12.2s\n",
      "[CV] END bootstrap=True, max_depth=10, max_features=sqrt, min_samples_leaf=4, min_samples_split=2, n_estimators=57; total time=  12.6s\n",
      "[CV] END bootstrap=True, max_depth=10, max_features=sqrt, min_samples_leaf=4, min_samples_split=2, n_estimators=57; total time=  12.1s\n",
      "[CV] END bootstrap=True, max_depth=2, max_features=log2, min_samples_leaf=2, min_samples_split=2, n_estimators=10; total time=   0.6s\n",
      "[CV] END bootstrap=True, max_depth=2, max_features=log2, min_samples_leaf=2, min_samples_split=2, n_estimators=10; total time=   0.6s\n",
      "[CV] END bootstrap=True, max_depth=2, max_features=log2, min_samples_leaf=2, min_samples_split=2, n_estimators=10; total time=   0.6s\n",
      "[CV] END bootstrap=False, max_depth=2, max_features=sqrt, min_samples_leaf=2, min_samples_split=1, n_estimators=200; total time=   0.0s\n",
      "[CV] END bootstrap=False, max_depth=2, max_features=sqrt, min_samples_leaf=2, min_samples_split=1, n_estimators=200; total time=   0.0s\n",
      "[CV] END bootstrap=False, max_depth=2, max_features=sqrt, min_samples_leaf=2, min_samples_split=1, n_estimators=200; total time=   0.0s\n",
      "[CV] END bootstrap=True, max_depth=10, max_features=1.0, min_samples_leaf=2, min_samples_split=2, n_estimators=200; total time= 1.6min\n",
      "[CV] END bootstrap=False, max_depth=6, max_features=1.0, min_samples_leaf=1, min_samples_split=1, n_estimators=105; total time=   0.0s\n",
      "[CV] END bootstrap=False, max_depth=6, max_features=1.0, min_samples_leaf=1, min_samples_split=1, n_estimators=105; total time=   0.0s\n",
      "[CV] END bootstrap=False, max_depth=6, max_features=1.0, min_samples_leaf=1, min_samples_split=1, n_estimators=105; total time=   0.0s\n",
      "[CV] END bootstrap=False, max_depth=6, max_features=1.0, min_samples_leaf=4, min_samples_split=1, n_estimators=10; total time=   0.0s\n",
      "[CV] END bootstrap=False, max_depth=6, max_features=1.0, min_samples_leaf=4, min_samples_split=1, n_estimators=10; total time=   0.0s\n",
      "[CV] END bootstrap=False, max_depth=6, max_features=1.0, min_samples_leaf=4, min_samples_split=1, n_estimators=10; total time=   0.0s\n",
      "[CV] END bootstrap=True, max_depth=10, max_features=log2, min_samples_leaf=2, min_samples_split=2, n_estimators=57; total time=  13.0s\n",
      "[CV] END bootstrap=False, max_depth=6, max_features=sqrt, min_samples_leaf=1, min_samples_split=1, n_estimators=57; total time=   0.0s\n",
      "[CV] END bootstrap=False, max_depth=6, max_features=sqrt, min_samples_leaf=1, min_samples_split=1, n_estimators=57; total time=   0.0s\n",
      "[CV] END bootstrap=False, max_depth=6, max_features=sqrt, min_samples_leaf=1, min_samples_split=1, n_estimators=57; total time=   0.0s\n",
      "[CV] END bootstrap=False, max_depth=6, max_features=log2, min_samples_leaf=1, min_samples_split=2, n_estimators=57; total time=  10.6s\n",
      "[CV] END bootstrap=False, max_depth=6, max_features=sqrt, min_samples_leaf=4, min_samples_split=5, n_estimators=152; total time=  28.2s\n",
      "[CV] END bootstrap=False, max_depth=6, max_features=1.0, min_samples_leaf=1, min_samples_split=2, n_estimators=200; total time= 1.7min\n",
      "[CV] END bootstrap=False, max_depth=6, max_features=1.0, min_samples_leaf=4, min_samples_split=2, n_estimators=200; total time= 1.7min\n",
      "[CV] END bootstrap=False, max_depth=10, max_features=log2, min_samples_leaf=2, min_samples_split=2, n_estimators=57; total time=  17.9s\n",
      "[CV] END bootstrap=False, max_depth=10, max_features=log2, min_samples_leaf=2, min_samples_split=2, n_estimators=57; total time=  16.9s\n",
      "[CV] END bootstrap=True, max_depth=2, max_features=sqrt, min_samples_leaf=1, min_samples_split=2, n_estimators=57; total time=   3.2s\n",
      "[CV] END bootstrap=True, max_depth=6, max_features=sqrt, min_samples_leaf=2, min_samples_split=2, n_estimators=105; total time=  15.8s\n",
      "[CV] END bootstrap=False, max_depth=2, max_features=sqrt, min_samples_leaf=4, min_samples_split=5, n_estimators=152; total time=   9.7s\n",
      "[CV] END bootstrap=False, max_depth=6, max_features=log2, min_samples_leaf=1, min_samples_split=5, n_estimators=57; total time=  10.7s\n",
      "[CV] END bootstrap=False, max_depth=6, max_features=1.0, min_samples_leaf=2, min_samples_split=5, n_estimators=200; total time= 1.7min\n",
      "[CV] END bootstrap=True, max_depth=10, max_features=1.0, min_samples_leaf=4, min_samples_split=5, n_estimators=200; total time= 1.7min\n",
      "[CV] END bootstrap=True, max_depth=6, max_features=1.0, min_samples_leaf=1, min_samples_split=1, n_estimators=200; total time=   0.0s\n",
      "[CV] END bootstrap=True, max_depth=6, max_features=1.0, min_samples_leaf=1, min_samples_split=1, n_estimators=200; total time=   0.0s\n",
      "[CV] END bootstrap=True, max_depth=6, max_features=1.0, min_samples_leaf=1, min_samples_split=1, n_estimators=200; total time=   0.0s\n",
      "[CV] END bootstrap=True, max_depth=2, max_features=log2, min_samples_leaf=2, min_samples_split=2, n_estimators=105; total time=   5.8s\n",
      "[CV] END bootstrap=True, max_depth=10, max_features=log2, min_samples_leaf=4, min_samples_split=2, n_estimators=105; total time=  23.6s\n",
      "[CV] END bootstrap=True, max_depth=10, max_features=log2, min_samples_leaf=4, min_samples_split=5, n_estimators=57; total time=  12.8s\n",
      "[CV] END bootstrap=True, max_depth=2, max_features=1.0, min_samples_leaf=4, min_samples_split=1, n_estimators=10; total time=   0.0s\n",
      "[CV] END bootstrap=True, max_depth=2, max_features=1.0, min_samples_leaf=4, min_samples_split=1, n_estimators=10; total time=   0.0s\n",
      "[CV] END bootstrap=True, max_depth=2, max_features=1.0, min_samples_leaf=4, min_samples_split=1, n_estimators=10; total time=   0.0s\n",
      "[CV] END bootstrap=False, max_depth=10, max_features=log2, min_samples_leaf=1, min_samples_split=2, n_estimators=152; total time=  45.3s\n",
      "[CV] END bootstrap=True, max_depth=6, max_features=log2, min_samples_leaf=2, min_samples_split=5, n_estimators=152; total time=  21.7s\n",
      "[CV] END bootstrap=True, max_depth=2, max_features=log2, min_samples_leaf=4, min_samples_split=1, n_estimators=152; total time=   0.0s\n",
      "[CV] END bootstrap=True, max_depth=2, max_features=log2, min_samples_leaf=4, min_samples_split=1, n_estimators=152; total time=   0.0s\n",
      "[CV] END bootstrap=True, max_depth=2, max_features=log2, min_samples_leaf=4, min_samples_split=1, n_estimators=152; total time=   0.0s\n",
      "[CV] END bootstrap=False, max_depth=6, max_features=sqrt, min_samples_leaf=2, min_samples_split=5, n_estimators=105; total time=  19.6s\n",
      "[CV] END bootstrap=False, max_depth=10, max_features=1.0, min_samples_leaf=1, min_samples_split=2, n_estimators=10; total time=   6.9s\n",
      "[CV] END bootstrap=False, max_depth=10, max_features=1.0, min_samples_leaf=1, min_samples_split=2, n_estimators=10; total time=   7.0s\n",
      "[CV] END bootstrap=False, max_depth=6, max_features=sqrt, min_samples_leaf=4, min_samples_split=5, n_estimators=57; total time=  10.5s\n",
      "[CV] END bootstrap=False, max_depth=10, max_features=1.0, min_samples_leaf=2, min_samples_split=5, n_estimators=200; total time= 2.2min\n",
      "[CV] END bootstrap=True, max_depth=6, max_features=log2, min_samples_leaf=1, min_samples_split=5, n_estimators=105; total time=  15.6s\n",
      "[CV] END bootstrap=True, max_depth=6, max_features=1.0, min_samples_leaf=1, min_samples_split=1, n_estimators=105; total time=   0.0s\n",
      "[CV] END bootstrap=True, max_depth=6, max_features=1.0, min_samples_leaf=1, min_samples_split=1, n_estimators=105; total time=   0.0s\n",
      "[CV] END bootstrap=True, max_depth=6, max_features=1.0, min_samples_leaf=1, min_samples_split=1, n_estimators=105; total time=   0.0s\n",
      "[CV] END bootstrap=False, max_depth=6, max_features=sqrt, min_samples_leaf=1, min_samples_split=1, n_estimators=152; total time=   0.0s\n",
      "[CV] END bootstrap=False, max_depth=6, max_features=sqrt, min_samples_leaf=1, min_samples_split=1, n_estimators=152; total time=   0.0s\n",
      "[CV] END bootstrap=False, max_depth=6, max_features=sqrt, min_samples_leaf=1, min_samples_split=1, n_estimators=152; total time=   0.0s\n",
      "[CV] END bootstrap=True, max_depth=6, max_features=log2, min_samples_leaf=4, min_samples_split=1, n_estimators=57; total time=   0.0s\n",
      "[CV] END bootstrap=True, max_depth=6, max_features=log2, min_samples_leaf=4, min_samples_split=1, n_estimators=57; total time=   0.0s\n",
      "[CV] END bootstrap=True, max_depth=6, max_features=log2, min_samples_leaf=4, min_samples_split=1, n_estimators=57; total time=   0.0s\n",
      "[CV] END bootstrap=False, max_depth=2, max_features=sqrt, min_samples_leaf=4, min_samples_split=2, n_estimators=10; total time=   0.7s\n",
      "[CV] END bootstrap=False, max_depth=2, max_features=sqrt, min_samples_leaf=4, min_samples_split=2, n_estimators=10; total time=   0.7s\n",
      "[CV] END bootstrap=False, max_depth=2, max_features=sqrt, min_samples_leaf=4, min_samples_split=2, n_estimators=10; total time=   0.7s\n",
      "[CV] END bootstrap=False, max_depth=10, max_features=1.0, min_samples_leaf=2, min_samples_split=2, n_estimators=57; total time=  39.4s\n",
      "[CV] END bootstrap=False, max_depth=10, max_features=1.0, min_samples_leaf=2, min_samples_split=2, n_estimators=57; total time=  39.2s\n",
      "[CV] END bootstrap=False, max_depth=10, max_features=1.0, min_samples_leaf=2, min_samples_split=2, n_estimators=57; total time=  38.6s\n",
      "[CV] END bootstrap=False, max_depth=6, max_features=sqrt, min_samples_leaf=4, min_samples_split=5, n_estimators=152; total time=  28.0s\n",
      "[CV] END bootstrap=False, max_depth=6, max_features=1.0, min_samples_leaf=1, min_samples_split=2, n_estimators=200; total time= 1.7min\n",
      "[CV] END bootstrap=True, max_depth=10, max_features=log2, min_samples_leaf=1, min_samples_split=5, n_estimators=105; total time=  23.3s\n",
      "[CV] END bootstrap=True, max_depth=10, max_features=log2, min_samples_leaf=1, min_samples_split=5, n_estimators=105; total time=  23.2s\n",
      "[CV] END bootstrap=False, max_depth=6, max_features=log2, min_samples_leaf=2, min_samples_split=2, n_estimators=10; total time=   1.9s\n",
      "[CV] END bootstrap=False, max_depth=6, max_features=log2, min_samples_leaf=2, min_samples_split=2, n_estimators=10; total time=   1.9s\n",
      "[CV] END bootstrap=False, max_depth=6, max_features=log2, min_samples_leaf=2, min_samples_split=2, n_estimators=10; total time=   1.9s\n",
      "[CV] END bootstrap=True, max_depth=6, max_features=1.0, min_samples_leaf=4, min_samples_split=2, n_estimators=200; total time= 1.2min\n",
      "[CV] END bootstrap=True, max_depth=6, max_features=1.0, min_samples_leaf=4, min_samples_split=1, n_estimators=152; total time=   0.0s\n",
      "[CV] END bootstrap=True, max_depth=6, max_features=1.0, min_samples_leaf=4, min_samples_split=1, n_estimators=152; total time=   0.0s\n",
      "[CV] END bootstrap=True, max_depth=6, max_features=1.0, min_samples_leaf=4, min_samples_split=1, n_estimators=152; total time=   0.0s\n",
      "[CV] END bootstrap=True, max_depth=10, max_features=1.0, min_samples_leaf=2, min_samples_split=1, n_estimators=10; total time=   0.0s\n",
      "[CV] END bootstrap=True, max_depth=10, max_features=1.0, min_samples_leaf=2, min_samples_split=1, n_estimators=10; total time=   0.0s\n",
      "[CV] END bootstrap=True, max_depth=10, max_features=1.0, min_samples_leaf=2, min_samples_split=1, n_estimators=10; total time=   0.0s\n",
      "[CV] END bootstrap=True, max_depth=2, max_features=log2, min_samples_leaf=1, min_samples_split=1, n_estimators=200; total time=   0.0s\n",
      "[CV] END bootstrap=True, max_depth=2, max_features=log2, min_samples_leaf=1, min_samples_split=1, n_estimators=200; total time=   0.0s\n",
      "[CV] END bootstrap=True, max_depth=2, max_features=log2, min_samples_leaf=1, min_samples_split=1, n_estimators=200; total time=   0.0s\n",
      "[CV] END bootstrap=True, max_depth=2, max_features=sqrt, min_samples_leaf=1, min_samples_split=2, n_estimators=57; total time=   3.4s\n",
      "[CV] END bootstrap=True, max_depth=2, max_features=sqrt, min_samples_leaf=1, min_samples_split=2, n_estimators=57; total time=   3.2s\n",
      "[CV] END bootstrap=True, max_depth=6, max_features=1.0, min_samples_leaf=2, min_samples_split=2, n_estimators=10; total time=   3.7s\n",
      "[CV] END bootstrap=True, max_depth=6, max_features=sqrt, min_samples_leaf=2, min_samples_split=2, n_estimators=105; total time=  15.4s\n",
      "[CV] END bootstrap=True, max_depth=10, max_features=1.0, min_samples_leaf=2, min_samples_split=2, n_estimators=10; total time=   4.8s\n",
      "[CV] END bootstrap=False, max_depth=10, max_features=sqrt, min_samples_leaf=4, min_samples_split=1, n_estimators=57; total time=   0.0s\n",
      "[CV] END bootstrap=False, max_depth=10, max_features=sqrt, min_samples_leaf=4, min_samples_split=1, n_estimators=57; total time=   0.0s\n",
      "[CV] END bootstrap=False, max_depth=10, max_features=sqrt, min_samples_leaf=4, min_samples_split=1, n_estimators=57; total time=   0.0s\n",
      "[CV] END bootstrap=True, max_depth=6, max_features=log2, min_samples_leaf=2, min_samples_split=1, n_estimators=152; total time=   0.0s\n",
      "[CV] END bootstrap=True, max_depth=6, max_features=log2, min_samples_leaf=2, min_samples_split=1, n_estimators=152; total time=   0.0s\n",
      "[CV] END bootstrap=True, max_depth=6, max_features=log2, min_samples_leaf=2, min_samples_split=1, n_estimators=152; total time=   0.0s\n",
      "[CV] END bootstrap=False, max_depth=6, max_features=log2, min_samples_leaf=1, min_samples_split=5, n_estimators=57; total time=  10.6s\n",
      "[CV] END bootstrap=False, max_depth=6, max_features=1.0, min_samples_leaf=2, min_samples_split=5, n_estimators=200; total time= 1.6min\n",
      "[CV] END bootstrap=False, max_depth=2, max_features=1.0, min_samples_leaf=2, min_samples_split=2, n_estimators=57; total time=  10.0s\n",
      "[CV] END bootstrap=True, max_depth=10, max_features=1.0, min_samples_leaf=4, min_samples_split=5, n_estimators=200; total time= 1.6min\n",
      "[CV] END bootstrap=False, max_depth=2, max_features=sqrt, min_samples_leaf=4, min_samples_split=2, n_estimators=57; total time=   3.8s\n",
      "[CV] END bootstrap=True, max_depth=2, max_features=log2, min_samples_leaf=2, min_samples_split=2, n_estimators=105; total time=   5.9s\n",
      "[CV] END bootstrap=True, max_depth=10, max_features=log2, min_samples_leaf=4, min_samples_split=2, n_estimators=105; total time=  23.8s\n",
      "[CV] END bootstrap=True, max_depth=2, max_features=1.0, min_samples_leaf=4, min_samples_split=2, n_estimators=200; total time=  25.9s\n",
      "[CV] END bootstrap=False, max_depth=10, max_features=log2, min_samples_leaf=1, min_samples_split=2, n_estimators=152; total time=  43.8s\n",
      "[CV] END bootstrap=True, max_depth=6, max_features=log2, min_samples_leaf=2, min_samples_split=5, n_estimators=200; total time=  28.2s\n",
      "[CV] END bootstrap=False, max_depth=6, max_features=sqrt, min_samples_leaf=2, min_samples_split=5, n_estimators=105; total time=  19.5s\n",
      "[CV] END bootstrap=False, max_depth=10, max_features=1.0, min_samples_leaf=2, min_samples_split=5, n_estimators=200; total time= 2.3min\n",
      "[CV] END bootstrap=True, max_depth=6, max_features=log2, min_samples_leaf=1, min_samples_split=5, n_estimators=105; total time=  15.2s\n",
      "[CV] END bootstrap=True, max_depth=10, max_features=1.0, min_samples_leaf=2, min_samples_split=2, n_estimators=200; total time= 1.6min\n",
      "[CV] END bootstrap=True, max_depth=10, max_features=log2, min_samples_leaf=2, min_samples_split=2, n_estimators=57; total time=  12.4s\n",
      "[CV] END bootstrap=False, max_depth=6, max_features=log2, min_samples_leaf=1, min_samples_split=2, n_estimators=57; total time=  10.4s\n",
      "[CV] END bootstrap=False, max_depth=6, max_features=sqrt, min_samples_leaf=4, min_samples_split=5, n_estimators=152; total time=  27.4s\n",
      "[CV] END bootstrap=True, max_depth=2, max_features=log2, min_samples_leaf=4, min_samples_split=5, n_estimators=57; total time=   3.1s\n",
      "[CV] END bootstrap=True, max_depth=2, max_features=log2, min_samples_leaf=4, min_samples_split=5, n_estimators=57; total time=   3.2s\n",
      "[CV] END bootstrap=True, max_depth=2, max_features=log2, min_samples_leaf=4, min_samples_split=5, n_estimators=57; total time=   3.5s\n",
      "[CV] END bootstrap=False, max_depth=2, max_features=log2, min_samples_leaf=4, min_samples_split=2, n_estimators=105; total time=   6.5s\n",
      "[CV] END bootstrap=False, max_depth=2, max_features=log2, min_samples_leaf=4, min_samples_split=2, n_estimators=105; total time=   6.4s\n",
      "[CV] END bootstrap=False, max_depth=2, max_features=log2, min_samples_leaf=4, min_samples_split=2, n_estimators=105; total time=   6.5s\n",
      "[CV] END bootstrap=False, max_depth=6, max_features=1.0, min_samples_leaf=4, min_samples_split=2, n_estimators=200; total time= 1.6min\n",
      "[CV] END bootstrap=True, max_depth=10, max_features=log2, min_samples_leaf=1, min_samples_split=5, n_estimators=105; total time=  22.8s\n",
      "[CV] END bootstrap=True, max_depth=2, max_features=sqrt, min_samples_leaf=4, min_samples_split=1, n_estimators=10; total time=   0.0s\n",
      "[CV] END bootstrap=True, max_depth=2, max_features=sqrt, min_samples_leaf=4, min_samples_split=1, n_estimators=10; total time=   0.0s\n",
      "[CV] END bootstrap=True, max_depth=2, max_features=sqrt, min_samples_leaf=4, min_samples_split=1, n_estimators=10; total time=   0.0s\n",
      "[CV] END bootstrap=True, max_depth=6, max_features=1.0, min_samples_leaf=4, min_samples_split=2, n_estimators=200; total time= 1.2min\n",
      "[CV] END bootstrap=False, max_depth=10, max_features=log2, min_samples_leaf=2, min_samples_split=2, n_estimators=57; total time=  16.7s\n",
      "[CV] END bootstrap=False, max_depth=2, max_features=log2, min_samples_leaf=4, min_samples_split=5, n_estimators=200; total time=  12.1s\n",
      "[CV] END bootstrap=False, max_depth=2, max_features=log2, min_samples_leaf=4, min_samples_split=5, n_estimators=200; total time=  12.7s\n",
      "[CV] END bootstrap=False, max_depth=2, max_features=log2, min_samples_leaf=4, min_samples_split=5, n_estimators=200; total time=  12.3s\n",
      "[CV] END bootstrap=False, max_depth=10, max_features=sqrt, min_samples_leaf=4, min_samples_split=5, n_estimators=10; total time=   2.9s\n",
      "[CV] END bootstrap=False, max_depth=10, max_features=sqrt, min_samples_leaf=4, min_samples_split=5, n_estimators=10; total time=   2.9s\n",
      "[CV] END bootstrap=False, max_depth=10, max_features=sqrt, min_samples_leaf=4, min_samples_split=5, n_estimators=10; total time=   3.1s\n",
      "[CV] END bootstrap=True, max_depth=2, max_features=1.0, min_samples_leaf=4, min_samples_split=1, n_estimators=152; total time=   0.0s\n",
      "[CV] END bootstrap=True, max_depth=2, max_features=1.0, min_samples_leaf=4, min_samples_split=1, n_estimators=152; total time=   0.0s\n",
      "[CV] END bootstrap=True, max_depth=2, max_features=1.0, min_samples_leaf=4, min_samples_split=1, n_estimators=152; total time=   0.0s\n",
      "[CV] END bootstrap=True, max_depth=2, max_features=1.0, min_samples_leaf=4, min_samples_split=1, n_estimators=57; total time=   0.0s\n",
      "[CV] END bootstrap=True, max_depth=2, max_features=1.0, min_samples_leaf=4, min_samples_split=1, n_estimators=57; total time=   0.0s\n",
      "[CV] END bootstrap=True, max_depth=2, max_features=1.0, min_samples_leaf=4, min_samples_split=1, n_estimators=57; total time=   0.0s\n",
      "[CV] END bootstrap=False, max_depth=6, max_features=log2, min_samples_leaf=1, min_samples_split=5, n_estimators=152; total time=  27.0s\n",
      "[CV] END bootstrap=True, max_depth=10, max_features=1.0, min_samples_leaf=1, min_samples_split=2, n_estimators=10; total time=   5.8s\n",
      "[CV] END bootstrap=True, max_depth=10, max_features=log2, min_samples_leaf=1, min_samples_split=5, n_estimators=200; total time=  43.0s\n",
      "[CV] END bootstrap=True, max_depth=6, max_features=log2, min_samples_leaf=4, min_samples_split=1, n_estimators=10; total time=   0.0s\n",
      "[CV] END bootstrap=True, max_depth=6, max_features=log2, min_samples_leaf=4, min_samples_split=1, n_estimators=10; total time=   0.0s\n",
      "[CV] END bootstrap=True, max_depth=6, max_features=log2, min_samples_leaf=4, min_samples_split=1, n_estimators=10; total time=   0.0s\n",
      "[CV] END bootstrap=False, max_depth=2, max_features=1.0, min_samples_leaf=2, min_samples_split=5, n_estimators=105; total time=  17.2s\n",
      "[CV] END bootstrap=False, max_depth=2, max_features=log2, min_samples_leaf=2, min_samples_split=1, n_estimators=10; total time=   0.0s\n",
      "[CV] END bootstrap=False, max_depth=2, max_features=log2, min_samples_leaf=2, min_samples_split=1, n_estimators=10; total time=   0.0s\n",
      "[CV] END bootstrap=False, max_depth=2, max_features=log2, min_samples_leaf=2, min_samples_split=1, n_estimators=10; total time=   0.0s\n",
      "[CV] END bootstrap=True, max_depth=6, max_features=sqrt, min_samples_leaf=2, min_samples_split=2, n_estimators=105; total time=  15.9s\n",
      "[CV] END bootstrap=False, max_depth=2, max_features=sqrt, min_samples_leaf=4, min_samples_split=5, n_estimators=152; total time=   9.7s\n",
      "[CV] END bootstrap=False, max_depth=6, max_features=log2, min_samples_leaf=1, min_samples_split=5, n_estimators=57; total time=  10.7s\n",
      "[CV] END bootstrap=True, max_depth=2, max_features=log2, min_samples_leaf=2, min_samples_split=2, n_estimators=57; total time=   3.9s\n",
      "[CV] END bootstrap=True, max_depth=2, max_features=log2, min_samples_leaf=2, min_samples_split=2, n_estimators=57; total time=   3.2s\n",
      "[CV] END bootstrap=True, max_depth=2, max_features=log2, min_samples_leaf=2, min_samples_split=2, n_estimators=57; total time=   3.2s\n",
      "[CV] END bootstrap=True, max_depth=6, max_features=sqrt, min_samples_leaf=1, min_samples_split=2, n_estimators=57; total time=   8.2s\n",
      "[CV] END bootstrap=True, max_depth=6, max_features=sqrt, min_samples_leaf=1, min_samples_split=2, n_estimators=57; total time=   8.0s\n",
      "[CV] END bootstrap=True, max_depth=6, max_features=sqrt, min_samples_leaf=1, min_samples_split=2, n_estimators=57; total time=   8.9s\n",
      "[CV] END bootstrap=False, max_depth=2, max_features=1.0, min_samples_leaf=4, min_samples_split=2, n_estimators=10; total time=   1.6s\n",
      "[CV] END bootstrap=False, max_depth=2, max_features=1.0, min_samples_leaf=4, min_samples_split=2, n_estimators=10; total time=   1.6s\n",
      "[CV] END bootstrap=False, max_depth=2, max_features=1.0, min_samples_leaf=4, min_samples_split=2, n_estimators=10; total time=   1.7s\n",
      "[CV] END bootstrap=False, max_depth=10, max_features=sqrt, min_samples_leaf=4, min_samples_split=5, n_estimators=57; total time=  16.9s\n",
      "[CV] END bootstrap=False, max_depth=10, max_features=sqrt, min_samples_leaf=4, min_samples_split=5, n_estimators=57; total time=  17.9s\n",
      "[CV] END bootstrap=False, max_depth=10, max_features=sqrt, min_samples_leaf=4, min_samples_split=5, n_estimators=57; total time=  16.9s\n",
      "[CV] END bootstrap=False, max_depth=2, max_features=1.0, min_samples_leaf=2, min_samples_split=2, n_estimators=57; total time=   9.7s\n",
      "[CV] END bootstrap=True, max_depth=2, max_features=sqrt, min_samples_leaf=2, min_samples_split=1, n_estimators=200; total time=   0.0s\n",
      "[CV] END bootstrap=True, max_depth=2, max_features=sqrt, min_samples_leaf=2, min_samples_split=1, n_estimators=200; total time=   0.0s\n",
      "[CV] END bootstrap=True, max_depth=2, max_features=sqrt, min_samples_leaf=2, min_samples_split=1, n_estimators=200; total time=   0.0s\n",
      "[CV] END bootstrap=True, max_depth=10, max_features=sqrt, min_samples_leaf=2, min_samples_split=2, n_estimators=152; total time=  33.6s\n",
      "[CV] END bootstrap=True, max_depth=10, max_features=sqrt, min_samples_leaf=2, min_samples_split=2, n_estimators=152; total time=  33.3s\n",
      "[CV] END bootstrap=True, max_depth=10, max_features=sqrt, min_samples_leaf=2, min_samples_split=2, n_estimators=152; total time=  33.5s\n",
      "[CV] END bootstrap=True, max_depth=10, max_features=log2, min_samples_leaf=4, min_samples_split=5, n_estimators=57; total time=  12.7s\n",
      "[CV] END bootstrap=True, max_depth=10, max_features=log2, min_samples_leaf=4, min_samples_split=5, n_estimators=57; total time=  12.2s\n",
      "[CV] END bootstrap=True, max_depth=2, max_features=1.0, min_samples_leaf=4, min_samples_split=2, n_estimators=200; total time=  25.4s\n",
      "[CV] END bootstrap=True, max_depth=6, max_features=log2, min_samples_leaf=2, min_samples_split=5, n_estimators=152; total time=  21.3s\n",
      "[CV] END bootstrap=True, max_depth=6, max_features=log2, min_samples_leaf=2, min_samples_split=5, n_estimators=152; total time=  21.9s\n",
      "[CV] END bootstrap=True, max_depth=6, max_features=log2, min_samples_leaf=2, min_samples_split=5, n_estimators=200; total time=  28.7s\n",
      "[CV] END bootstrap=False, max_depth=10, max_features=1.0, min_samples_leaf=1, min_samples_split=2, n_estimators=10; total time=   6.8s\n",
      "[CV] END bootstrap=False, max_depth=6, max_features=sqrt, min_samples_leaf=4, min_samples_split=5, n_estimators=57; total time=  10.7s\n",
      "[CV] END bootstrap=False, max_depth=10, max_features=log2, min_samples_leaf=1, min_samples_split=1, n_estimators=200; total time=   0.0s\n",
      "[CV] END bootstrap=False, max_depth=10, max_features=log2, min_samples_leaf=1, min_samples_split=1, n_estimators=200; total time=   0.0s\n",
      "[CV] END bootstrap=False, max_depth=10, max_features=log2, min_samples_leaf=1, min_samples_split=1, n_estimators=200; total time=   0.0s\n",
      "[CV] END bootstrap=False, max_depth=10, max_features=1.0, min_samples_leaf=2, min_samples_split=5, n_estimators=200; total time= 2.3min\n",
      "[CV] END bootstrap=True, max_depth=2, max_features=log2, min_samples_leaf=2, min_samples_split=1, n_estimators=152; total time=   0.0s\n",
      "[CV] END bootstrap=True, max_depth=2, max_features=log2, min_samples_leaf=2, min_samples_split=1, n_estimators=152; total time=   0.0s\n",
      "[CV] END bootstrap=True, max_depth=2, max_features=log2, min_samples_leaf=2, min_samples_split=1, n_estimators=152; total time=   0.0s\n",
      "[CV] END bootstrap=True, max_depth=6, max_features=log2, min_samples_leaf=1, min_samples_split=5, n_estimators=105; total time=  14.9s\n",
      "[CV] END bootstrap=True, max_depth=10, max_features=1.0, min_samples_leaf=2, min_samples_split=2, n_estimators=200; total time= 1.7min\n",
      "[CV] END bootstrap=True, max_depth=10, max_features=log2, min_samples_leaf=2, min_samples_split=2, n_estimators=57; total time=  12.7s\n",
      "[CV] END bootstrap=False, max_depth=6, max_features=log2, min_samples_leaf=1, min_samples_split=2, n_estimators=57; total time=  10.6s\n",
      "[CV] END bootstrap=True, max_depth=10, max_features=1.0, min_samples_leaf=4, min_samples_split=1, n_estimators=105; total time=   0.0s\n",
      "[CV] END bootstrap=True, max_depth=10, max_features=1.0, min_samples_leaf=4, min_samples_split=1, n_estimators=105; total time=   0.0s\n",
      "[CV] END bootstrap=True, max_depth=10, max_features=1.0, min_samples_leaf=4, min_samples_split=1, n_estimators=105; total time=   0.0s\n",
      "[CV] END bootstrap=False, max_depth=2, max_features=1.0, min_samples_leaf=1, min_samples_split=1, n_estimators=10; total time=   0.0s\n",
      "[CV] END bootstrap=False, max_depth=2, max_features=1.0, min_samples_leaf=1, min_samples_split=1, n_estimators=10; total time=   0.0s\n",
      "[CV] END bootstrap=False, max_depth=2, max_features=1.0, min_samples_leaf=1, min_samples_split=1, n_estimators=10; total time=   0.0s\n",
      "[CV] END bootstrap=False, max_depth=6, max_features=1.0, min_samples_leaf=1, min_samples_split=2, n_estimators=200; total time= 1.6min\n",
      "[CV] END bootstrap=False, max_depth=6, max_features=1.0, min_samples_leaf=4, min_samples_split=2, n_estimators=200; total time= 1.6min\n",
      "[CV] END bootstrap=True, max_depth=6, max_features=1.0, min_samples_leaf=4, min_samples_split=2, n_estimators=200; total time= 1.2min\n",
      "[CV] END bootstrap=False, max_depth=6, max_features=sqrt, min_samples_leaf=4, min_samples_split=2, n_estimators=200; total time=  35.8s\n",
      "[CV] END bootstrap=False, max_depth=6, max_features=log2, min_samples_leaf=1, min_samples_split=2, n_estimators=200; total time=  35.6s\n",
      "[CV] END bootstrap=False, max_depth=6, max_features=log2, min_samples_leaf=1, min_samples_split=5, n_estimators=152; total time=  28.2s\n",
      "[CV] END bootstrap=True, max_depth=10, max_features=sqrt, min_samples_leaf=2, min_samples_split=2, n_estimators=57; total time=  13.0s\n",
      "[CV] END bootstrap=True, max_depth=10, max_features=sqrt, min_samples_leaf=2, min_samples_split=2, n_estimators=57; total time=  12.3s\n",
      "[CV] END bootstrap=True, max_depth=10, max_features=sqrt, min_samples_leaf=2, min_samples_split=2, n_estimators=57; total time=  12.3s\n",
      "[CV] END bootstrap=False, max_depth=2, max_features=1.0, min_samples_leaf=2, min_samples_split=5, n_estimators=105; total time=  17.0s\n",
      "[CV] END bootstrap=False, max_depth=2, max_features=sqrt, min_samples_leaf=2, min_samples_split=2, n_estimators=200; total time=  12.3s\n",
      "[CV] END bootstrap=False, max_depth=10, max_features=log2, min_samples_leaf=4, min_samples_split=2, n_estimators=57; total time=  17.2s\n",
      "[CV] END bootstrap=True, max_depth=10, max_features=1.0, min_samples_leaf=1, min_samples_split=5, n_estimators=57; total time=  28.1s\n"
     ]
    },
    {
     "name": "stderr",
     "output_type": "stream",
     "text": [
      "/opt/conda/lib/python3.10/site-packages/sklearn/model_selection/_validation.py:378: FitFailedWarning: \n",
      "111 fits failed out of a total of 300.\n",
      "The score on these train-test partitions for these parameters will be set to nan.\n",
      "If these failures are not expected, you can try to debug them by setting error_score='raise'.\n",
      "\n",
      "Below are more details about the failures:\n",
      "--------------------------------------------------------------------------------\n",
      "111 fits failed with the following error:\n",
      "Traceback (most recent call last):\n",
      "  File \"/opt/conda/lib/python3.10/site-packages/sklearn/model_selection/_validation.py\", line 686, in _fit_and_score\n",
      "    estimator.fit(X_train, y_train, **fit_params)\n",
      "  File \"/opt/conda/lib/python3.10/site-packages/sklearn/ensemble/_forest.py\", line 340, in fit\n",
      "    self._validate_params()\n",
      "  File \"/opt/conda/lib/python3.10/site-packages/sklearn/base.py\", line 600, in _validate_params\n",
      "    validate_parameter_constraints(\n",
      "  File \"/opt/conda/lib/python3.10/site-packages/sklearn/utils/_param_validation.py\", line 97, in validate_parameter_constraints\n",
      "    raise InvalidParameterError(\n",
      "sklearn.utils._param_validation.InvalidParameterError: The 'min_samples_split' parameter of RandomForestRegressor must be an int in the range [2, inf) or a float in the range (0.0, 1.0]. Got 1 instead.\n",
      "\n",
      "  warnings.warn(some_fits_failed_message, FitFailedWarning)\n",
      "/opt/conda/lib/python3.10/site-packages/sklearn/model_selection/_search.py:952: UserWarning: One or more of the test scores are non-finite: [-2.19660696 -2.47196327         nan -0.09482759 -5.33752976         nan\n",
      "         nan -2.13557164         nan -0.99294719 -5.24149101 -2.15202199\n",
      " -4.65955372 -0.92170688         nan -4.66759745 -0.10112686         nan\n",
      " -0.95772455 -5.27339851         nan -5.31824579 -0.9507764  -0.9447207\n",
      " -4.13240177         nan -0.91267818 -2.25951838 -2.22134445         nan\n",
      " -2.24547426 -0.11850656 -2.08998716         nan -0.13384392 -4.14073958\n",
      " -0.9447207  -0.9447207          nan -2.24001453 -5.38844815         nan\n",
      " -0.0829443          nan         nan         nan -5.44644514 -0.13246937\n",
      "         nan         nan -0.94878247         nan -2.16375952 -2.2222294\n",
      "         nan         nan -0.98256465 -5.22761147 -5.32423186 -0.99651413\n",
      " -0.96055915 -2.39240759         nan -0.68226319 -0.92053006         nan\n",
      "         nan         nan -5.24471688 -0.71589307 -2.19838728 -5.32196074\n",
      " -2.19418471 -1.06216926         nan         nan -2.22712894 -0.09432449\n",
      " -0.93626085 -0.94878247         nan -4.66759745         nan -5.31824579\n",
      "         nan -5.33752976 -5.32858033 -0.99788113 -0.92170688         nan\n",
      " -0.08094747         nan         nan         nan         nan -5.44644514\n",
      "         nan         nan -2.23810388         nan]\n",
      "  warnings.warn(\n",
      "/opt/conda/lib/python3.10/site-packages/sklearn/model_selection/_search.py:952: UserWarning: One or more of the train scores are non-finite: [-2.15537083 -2.43020345         nan -0.06253806 -5.33608119         nan\n",
      "         nan -2.08384419         nan -0.95482652 -5.23267182 -2.1070845\n",
      " -4.64788026 -0.8458587          nan -4.6465437  -0.07196528         nan\n",
      " -0.87928187 -5.27203611         nan -5.30966687 -0.88960413 -0.88442397\n",
      " -4.11113766         nan -0.80489324 -2.2168289  -2.1793266          nan\n",
      " -2.19419777 -0.06864103 -2.04664495         nan -0.08900703 -4.11726667\n",
      " -0.88442397 -0.88442397         nan -2.19585758 -5.37450785         nan\n",
      " -0.04992653         nan         nan         nan -5.44083352 -0.08285977\n",
      "         nan         nan -0.87046687         nan -2.10949226 -2.1783238\n",
      "         nan         nan -0.94400688 -5.22068345 -5.32238939 -0.96307823\n",
      " -0.88027689 -2.33823014         nan -0.65429264 -0.82538778         nan\n",
      "         nan         nan -5.23357128 -0.68498253 -2.15348295 -5.32028512\n",
      " -2.139866   -0.97922406         nan         nan -2.17474495 -0.05711694\n",
      " -0.85500171 -0.87046687         nan -4.6465437          nan -5.30966687\n",
      "         nan -5.33608119 -5.32473817 -0.94002466 -0.8458587          nan\n",
      " -0.04861498         nan         nan         nan         nan -5.44083352\n",
      "         nan         nan -2.18680864         nan]\n",
      "  warnings.warn(\n"
     ]
    }
   ],
   "source": [
    "# Use the random grid to search for best hyperparameters\n",
    "\n",
    "# First create the base model to tune\n",
    "rf = RandomForestRegressor(random_state = 42)\n",
    "# Random search of parameters, using 3 fold cross validation, \n",
    "# search across 100 different combinations, and use all available cores\n",
    "new_model_random = RandomizedSearchCV(estimator=new_model, param_distributions=random_grid,\n",
    "                              n_iter = 100, scoring='neg_mean_absolute_error', \n",
    "                              cv = 3, verbose=2, random_state=42, n_jobs=-1,\n",
    "                              return_train_score=True)\n",
    "\n",
    "# Fit the random search model\n",
    "new_model_random.fit(X_train, y_train.values.ravel());"
   ]
  },
  {
   "cell_type": "code",
   "execution_count": 22,
   "id": "f929cbda",
   "metadata": {
    "execution": {
     "iopub.execute_input": "2024-02-15T07:41:47.061709Z",
     "iopub.status.busy": "2024-02-15T07:41:47.060491Z",
     "iopub.status.idle": "2024-02-15T07:41:47.067765Z",
     "shell.execute_reply": "2024-02-15T07:41:47.066767Z"
    },
    "papermill": {
     "duration": 0.029986,
     "end_time": "2024-02-15T07:41:47.070001",
     "exception": false,
     "start_time": "2024-02-15T07:41:47.040015",
     "status": "completed"
    },
    "tags": []
   },
   "outputs": [
    {
     "data": {
      "text/plain": [
       "{'n_estimators': 57,\n",
       " 'min_samples_split': 5,\n",
       " 'min_samples_leaf': 1,\n",
       " 'max_features': 1.0,\n",
       " 'max_depth': 10,\n",
       " 'bootstrap': True}"
      ]
     },
     "execution_count": 22,
     "metadata": {},
     "output_type": "execute_result"
    }
   ],
   "source": [
    "# Check The Best Hyperparameter From Rang Random Search\n",
    "new_model_random.best_params_"
   ]
  },
  {
   "cell_type": "markdown",
   "id": "41b449df",
   "metadata": {
    "papermill": {
     "duration": 0.019185,
     "end_time": "2024-02-15T07:41:47.108363",
     "exception": false,
     "start_time": "2024-02-15T07:41:47.089178",
     "status": "completed"
    },
    "tags": []
   },
   "source": [
    "## Result Best Hyperparameter From Random Search "
   ]
  },
  {
   "cell_type": "code",
   "execution_count": 23,
   "id": "f865cb09",
   "metadata": {
    "execution": {
     "iopub.execute_input": "2024-02-15T07:41:47.148958Z",
     "iopub.status.busy": "2024-02-15T07:41:47.148300Z",
     "iopub.status.idle": "2024-02-15T07:41:47.152359Z",
     "shell.execute_reply": "2024-02-15T07:41:47.151505Z"
    },
    "papermill": {
     "duration": 0.026928,
     "end_time": "2024-02-15T07:41:47.154525",
     "exception": false,
     "start_time": "2024-02-15T07:41:47.127597",
     "status": "completed"
    },
    "tags": []
   },
   "outputs": [],
   "source": [
    "# new_model_random_best_params ={'n_estimators': 300,\n",
    "#  'min_samples_split': 5,\n",
    "#  'min_samples_leaf': 2,\n",
    "#  'max_features': 'log2',\n",
    "#  'max_depth': 45,\n",
    "#  'bootstrap': False}"
   ]
  },
  {
   "cell_type": "markdown",
   "id": "131f471e",
   "metadata": {
    "papermill": {
     "duration": 0.018818,
     "end_time": "2024-02-15T07:41:47.192488",
     "exception": false,
     "start_time": "2024-02-15T07:41:47.173670",
     "status": "completed"
    },
    "tags": []
   },
   "source": [
    "## Evaluation Fuction"
   ]
  },
  {
   "cell_type": "code",
   "execution_count": 24,
   "id": "772397e2",
   "metadata": {
    "execution": {
     "iopub.execute_input": "2024-02-15T07:41:47.232624Z",
     "iopub.status.busy": "2024-02-15T07:41:47.232197Z",
     "iopub.status.idle": "2024-02-15T07:41:47.240645Z",
     "shell.execute_reply": "2024-02-15T07:41:47.239453Z"
    },
    "papermill": {
     "duration": 0.0314,
     "end_time": "2024-02-15T07:41:47.243354",
     "exception": false,
     "start_time": "2024-02-15T07:41:47.211954",
     "status": "completed"
    },
    "tags": []
   },
   "outputs": [],
   "source": [
    "# Extract features and labels\n",
    "target = Data_PAR_test['Parqty_Cal']\n",
    "features = Data_PAR_test.drop(['Parqty_Cal', 'Parqty_Adj'], axis = 1)"
   ]
  },
  {
   "cell_type": "code",
   "execution_count": 25,
   "id": "12a21925",
   "metadata": {
    "execution": {
     "iopub.execute_input": "2024-02-15T07:41:47.284758Z",
     "iopub.status.busy": "2024-02-15T07:41:47.283720Z",
     "iopub.status.idle": "2024-02-15T07:41:47.311668Z",
     "shell.execute_reply": "2024-02-15T07:41:47.310806Z"
    },
    "papermill": {
     "duration": 0.052235,
     "end_time": "2024-02-15T07:41:47.315113",
     "exception": false,
     "start_time": "2024-02-15T07:41:47.262878",
     "status": "completed"
    },
    "tags": []
   },
   "outputs": [],
   "source": [
    "# Convert to numpy arrays\n",
    "import numpy as np\n",
    "\n",
    "features = np.array(features)\n",
    "target = np.array(target)\n",
    "\n",
    "# Training and Testing Sets\n",
    "from sklearn.model_selection import train_test_split\n",
    "\n",
    "train_features, test_features, train_target, test_target = train_test_split(features, target, \n",
    "                                                                            test_size = 0.25, random_state = 42)"
   ]
  },
  {
   "cell_type": "markdown",
   "id": "bdad55bd",
   "metadata": {
    "papermill": {
     "duration": 0.018822,
     "end_time": "2024-02-15T07:41:47.353272",
     "exception": false,
     "start_time": "2024-02-15T07:41:47.334450",
     "status": "completed"
    },
    "tags": []
   },
   "source": [
    "## Grid Search"
   ]
  },
  {
   "cell_type": "code",
   "execution_count": 26,
   "id": "b5b5001d",
   "metadata": {
    "execution": {
     "iopub.execute_input": "2024-02-15T07:41:47.392978Z",
     "iopub.status.busy": "2024-02-15T07:41:47.392531Z",
     "iopub.status.idle": "2024-02-15T07:41:47.400962Z",
     "shell.execute_reply": "2024-02-15T07:41:47.399931Z"
    },
    "papermill": {
     "duration": 0.031083,
     "end_time": "2024-02-15T07:41:47.403243",
     "exception": false,
     "start_time": "2024-02-15T07:41:47.372160",
     "status": "completed"
    },
    "tags": []
   },
   "outputs": [],
   "source": [
    "from sklearn.model_selection import GridSearchCV\n",
    "\n",
    "# Create the parameter grid based on the results of random search \n",
    "param_grid = {\n",
    "    'bootstrap': [True],\n",
    "    'max_depth': [None, 2],\n",
    "    'max_features': [1.0, 'log2', 'sqrt'],\n",
    "    'min_samples_leaf': [1, 2, 5],\n",
    "    'min_samples_split': [1, 2, 4],\n",
    "    'n_estimators': [100, 200]\n",
    "}\n",
    "\n",
    "# Create a base model\n",
    "rf = RandomForestRegressor(random_state = 42)\n",
    "\n",
    "# Instantiate the grid search model\n",
    "grid_search = GridSearchCV(estimator = rf, param_grid = param_grid, \n",
    "                          cv = 2, n_jobs = -1, verbose = 2, return_train_score=True)"
   ]
  },
  {
   "cell_type": "code",
   "execution_count": 27,
   "id": "496a5b02",
   "metadata": {
    "execution": {
     "iopub.execute_input": "2024-02-15T07:41:47.443669Z",
     "iopub.status.busy": "2024-02-15T07:41:47.442862Z",
     "iopub.status.idle": "2024-02-15T07:49:26.924528Z",
     "shell.execute_reply": "2024-02-15T07:49:26.923273Z"
    },
    "papermill": {
     "duration": 459.505491,
     "end_time": "2024-02-15T07:49:26.927884",
     "exception": false,
     "start_time": "2024-02-15T07:41:47.422393",
     "status": "completed"
    },
    "tags": []
   },
   "outputs": [
    {
     "name": "stdout",
     "output_type": "stream",
     "text": [
      "Fitting 2 folds for each of 108 candidates, totalling 216 fits\n",
      "[CV] END bootstrap=False, max_depth=6, max_features=sqrt, min_samples_leaf=4, min_samples_split=2, n_estimators=200; total time=  36.3s\n",
      "[CV] END bootstrap=False, max_depth=6, max_features=log2, min_samples_leaf=1, min_samples_split=2, n_estimators=200; total time=  37.1s\n",
      "[CV] END bootstrap=False, max_depth=6, max_features=log2, min_samples_leaf=1, min_samples_split=5, n_estimators=152; total time=  27.8s\n",
      "[CV] END bootstrap=True, max_depth=10, max_features=log2, min_samples_leaf=1, min_samples_split=5, n_estimators=200; total time=  44.1s\n",
      "[CV] END bootstrap=True, max_depth=2, max_features=log2, min_samples_leaf=2, min_samples_split=5, n_estimators=105; total time=   5.8s\n",
      "[CV] END bootstrap=False, max_depth=2, max_features=log2, min_samples_leaf=4, min_samples_split=5, n_estimators=152; total time=   9.5s\n",
      "[CV] END bootstrap=True, max_depth=10, max_features=log2, min_samples_leaf=4, min_samples_split=2, n_estimators=10; total time=   2.2s\n",
      "[CV] END bootstrap=True, max_depth=10, max_features=log2, min_samples_leaf=4, min_samples_split=2, n_estimators=10; total time=   2.2s\n",
      "[CV] END bootstrap=True, max_depth=10, max_features=log2, min_samples_leaf=4, min_samples_split=2, n_estimators=10; total time=   2.2s\n",
      "[CV] END bootstrap=False, max_depth=10, max_features=log2, min_samples_leaf=4, min_samples_split=2, n_estimators=57; total time=  17.0s\n",
      "[CV] END bootstrap=True, max_depth=10, max_features=1.0, min_samples_leaf=1, min_samples_split=5, n_estimators=57; total time=  29.5s\n",
      "[CV] END bootstrap=True, max_depth=6, max_features=log2, min_samples_leaf=4, min_samples_split=1, n_estimators=105; total time=   0.0s\n",
      "[CV] END bootstrap=True, max_depth=6, max_features=log2, min_samples_leaf=4, min_samples_split=1, n_estimators=105; total time=   0.0s\n",
      "[CV] END bootstrap=True, max_depth=6, max_features=log2, min_samples_leaf=4, min_samples_split=1, n_estimators=105; total time=   0.0s\n",
      "[CV] END bootstrap=True, max_depth=None, max_features=1.0, min_samples_leaf=1, min_samples_split=1, n_estimators=100; total time=   0.0s\n",
      "[CV] END bootstrap=True, max_depth=None, max_features=1.0, min_samples_leaf=1, min_samples_split=2, n_estimators=100; total time=  15.8s\n",
      "[CV] END bootstrap=True, max_depth=None, max_features=1.0, min_samples_leaf=1, min_samples_split=4, n_estimators=100; total time=  15.5s\n",
      "[CV] END bootstrap=True, max_depth=None, max_features=1.0, min_samples_leaf=1, min_samples_split=4, n_estimators=100; total time=  16.9s\n",
      "[CV] END bootstrap=True, max_depth=None, max_features=1.0, min_samples_leaf=2, min_samples_split=4, n_estimators=100; total time=  15.4s\n",
      "[CV] END bootstrap=True, max_depth=None, max_features=1.0, min_samples_leaf=2, min_samples_split=4, n_estimators=100; total time=  16.8s\n",
      "[CV] END bootstrap=True, max_depth=None, max_features=1.0, min_samples_leaf=5, min_samples_split=1, n_estimators=100; total time=   0.0s\n",
      "[CV] END bootstrap=True, max_depth=None, max_features=1.0, min_samples_leaf=5, min_samples_split=1, n_estimators=100; total time=   0.0s\n",
      "[CV] END bootstrap=True, max_depth=None, max_features=1.0, min_samples_leaf=5, min_samples_split=1, n_estimators=200; total time=   0.0s\n",
      "[CV] END bootstrap=True, max_depth=None, max_features=1.0, min_samples_leaf=5, min_samples_split=1, n_estimators=200; total time=   0.0s\n",
      "[CV] END bootstrap=True, max_depth=None, max_features=1.0, min_samples_leaf=5, min_samples_split=2, n_estimators=100; total time=  15.5s\n",
      "[CV] END bootstrap=True, max_depth=None, max_features=1.0, min_samples_leaf=5, min_samples_split=2, n_estimators=200; total time=  31.4s\n",
      "[CV] END bootstrap=True, max_depth=None, max_features=1.0, min_samples_leaf=5, min_samples_split=4, n_estimators=200; total time=  31.3s\n",
      "[CV] END bootstrap=True, max_depth=None, max_features=log2, min_samples_leaf=1, min_samples_split=4, n_estimators=100; total time=  11.3s\n",
      "[CV] END bootstrap=True, max_depth=None, max_features=log2, min_samples_leaf=2, min_samples_split=1, n_estimators=100; total time=   0.0s\n",
      "[CV] END bootstrap=True, max_depth=None, max_features=log2, min_samples_leaf=2, min_samples_split=1, n_estimators=100; total time=   0.0s\n",
      "[CV] END bootstrap=True, max_depth=None, max_features=log2, min_samples_leaf=2, min_samples_split=1, n_estimators=200; total time=   0.0s\n",
      "[CV] END bootstrap=True, max_depth=None, max_features=log2, min_samples_leaf=2, min_samples_split=1, n_estimators=200; total time=   0.0s\n",
      "[CV] END bootstrap=True, max_depth=None, max_features=log2, min_samples_leaf=2, min_samples_split=2, n_estimators=100; total time=  10.2s\n",
      "[CV] END bootstrap=True, max_depth=None, max_features=log2, min_samples_leaf=2, min_samples_split=2, n_estimators=200; total time=  20.9s\n",
      "[CV] END bootstrap=True, max_depth=None, max_features=log2, min_samples_leaf=5, min_samples_split=1, n_estimators=100; total time=   0.0s\n",
      "[CV] END bootstrap=True, max_depth=None, max_features=log2, min_samples_leaf=5, min_samples_split=1, n_estimators=100; total time=   0.0s\n",
      "[CV] END bootstrap=True, max_depth=None, max_features=log2, min_samples_leaf=5, min_samples_split=1, n_estimators=200; total time=   0.0s\n",
      "[CV] END bootstrap=True, max_depth=None, max_features=log2, min_samples_leaf=5, min_samples_split=1, n_estimators=200; total time=   0.0s\n",
      "[CV] END bootstrap=True, max_depth=None, max_features=log2, min_samples_leaf=5, min_samples_split=2, n_estimators=100; total time=   9.6s\n",
      "[CV] END bootstrap=True, max_depth=None, max_features=log2, min_samples_leaf=5, min_samples_split=2, n_estimators=200; total time=  19.8s\n",
      "[CV] END bootstrap=True, max_depth=None, max_features=sqrt, min_samples_leaf=1, min_samples_split=1, n_estimators=100; total time=   0.0s\n",
      "[CV] END bootstrap=True, max_depth=None, max_features=sqrt, min_samples_leaf=1, min_samples_split=1, n_estimators=100; total time=   0.0s\n",
      "[CV] END bootstrap=True, max_depth=None, max_features=sqrt, min_samples_leaf=1, min_samples_split=1, n_estimators=200; total time=   0.0s\n",
      "[CV] END bootstrap=True, max_depth=None, max_features=sqrt, min_samples_leaf=1, min_samples_split=1, n_estimators=200; total time=   0.0s\n",
      "[CV] END bootstrap=True, max_depth=None, max_features=sqrt, min_samples_leaf=1, min_samples_split=2, n_estimators=100; total time=  10.8s\n",
      "[CV] END bootstrap=True, max_depth=None, max_features=sqrt, min_samples_leaf=1, min_samples_split=2, n_estimators=200; total time=  21.9s\n",
      "[CV] END bootstrap=True, max_depth=None, max_features=sqrt, min_samples_leaf=2, min_samples_split=1, n_estimators=100; total time=   0.0s\n",
      "[CV] END bootstrap=True, max_depth=None, max_features=sqrt, min_samples_leaf=2, min_samples_split=1, n_estimators=100; total time=   0.0s\n",
      "[CV] END bootstrap=True, max_depth=None, max_features=sqrt, min_samples_leaf=2, min_samples_split=1, n_estimators=200; total time=   0.0s\n",
      "[CV] END bootstrap=True, max_depth=None, max_features=sqrt, min_samples_leaf=2, min_samples_split=1, n_estimators=200; total time=   0.0s\n",
      "[CV] END bootstrap=True, max_depth=None, max_features=sqrt, min_samples_leaf=2, min_samples_split=2, n_estimators=100; total time=  10.2s\n",
      "[CV] END bootstrap=True, max_depth=None, max_features=sqrt, min_samples_leaf=2, min_samples_split=2, n_estimators=200; total time=  20.8s\n",
      "[CV] END bootstrap=True, max_depth=None, max_features=sqrt, min_samples_leaf=5, min_samples_split=1, n_estimators=100; total time=   0.0s\n",
      "[CV] END bootstrap=True, max_depth=None, max_features=sqrt, min_samples_leaf=5, min_samples_split=1, n_estimators=100; total time=   0.0s\n",
      "[CV] END bootstrap=True, max_depth=None, max_features=sqrt, min_samples_leaf=5, min_samples_split=1, n_estimators=200; total time=   0.0s\n",
      "[CV] END bootstrap=True, max_depth=None, max_features=sqrt, min_samples_leaf=5, min_samples_split=1, n_estimators=200; total time=   0.0s\n",
      "[CV] END bootstrap=True, max_depth=None, max_features=sqrt, min_samples_leaf=5, min_samples_split=2, n_estimators=100; total time=   9.6s\n",
      "[CV] END bootstrap=True, max_depth=None, max_features=sqrt, min_samples_leaf=5, min_samples_split=2, n_estimators=200; total time=  19.3s\n",
      "[CV] END bootstrap=True, max_depth=None, max_features=sqrt, min_samples_leaf=5, min_samples_split=4, n_estimators=200; total time=  20.0s\n",
      "[CV] END bootstrap=True, max_depth=2, max_features=log2, min_samples_leaf=2, min_samples_split=5, n_estimators=105; total time=   5.8s\n",
      "[CV] END bootstrap=True, max_depth=2, max_features=log2, min_samples_leaf=4, min_samples_split=1, n_estimators=105; total time=   0.0s\n",
      "[CV] END bootstrap=True, max_depth=2, max_features=log2, min_samples_leaf=4, min_samples_split=1, n_estimators=105; total time=   0.0s\n",
      "[CV] END bootstrap=True, max_depth=2, max_features=log2, min_samples_leaf=4, min_samples_split=1, n_estimators=105; total time=   0.0s\n",
      "[CV] END bootstrap=False, max_depth=2, max_features=log2, min_samples_leaf=4, min_samples_split=5, n_estimators=152; total time=   9.6s\n",
      "[CV] END bootstrap=False, max_depth=2, max_features=sqrt, min_samples_leaf=2, min_samples_split=2, n_estimators=200; total time=  12.5s\n",
      "[CV] END bootstrap=False, max_depth=10, max_features=log2, min_samples_leaf=4, min_samples_split=2, n_estimators=57; total time=  16.8s\n",
      "[CV] END bootstrap=False, max_depth=2, max_features=sqrt, min_samples_leaf=4, min_samples_split=1, n_estimators=105; total time=   0.0s\n",
      "[CV] END bootstrap=False, max_depth=2, max_features=sqrt, min_samples_leaf=4, min_samples_split=1, n_estimators=105; total time=   0.0s\n",
      "[CV] END bootstrap=False, max_depth=2, max_features=sqrt, min_samples_leaf=4, min_samples_split=1, n_estimators=105; total time=   0.0s\n",
      "[CV] END bootstrap=False, max_depth=10, max_features=1.0, min_samples_leaf=4, min_samples_split=1, n_estimators=200; total time=   0.0s\n",
      "[CV] END bootstrap=False, max_depth=10, max_features=1.0, min_samples_leaf=4, min_samples_split=1, n_estimators=200; total time=   0.0s\n",
      "[CV] END bootstrap=False, max_depth=10, max_features=1.0, min_samples_leaf=4, min_samples_split=1, n_estimators=200; total time=   0.0s\n",
      "[CV] END bootstrap=False, max_depth=6, max_features=sqrt, min_samples_leaf=1, min_samples_split=1, n_estimators=200; total time=   0.0s\n",
      "[CV] END bootstrap=False, max_depth=6, max_features=sqrt, min_samples_leaf=1, min_samples_split=1, n_estimators=200; total time=   0.0s\n",
      "[CV] END bootstrap=False, max_depth=6, max_features=sqrt, min_samples_leaf=1, min_samples_split=1, n_estimators=200; total time=   0.0s\n",
      "[CV] END bootstrap=True, max_depth=10, max_features=sqrt, min_samples_leaf=1, min_samples_split=1, n_estimators=57; total time=   0.0s\n",
      "[CV] END bootstrap=True, max_depth=10, max_features=sqrt, min_samples_leaf=1, min_samples_split=1, n_estimators=57; total time=   0.0s\n",
      "[CV] END bootstrap=True, max_depth=10, max_features=sqrt, min_samples_leaf=1, min_samples_split=1, n_estimators=57; total time=   0.0s\n",
      "[CV] END bootstrap=False, max_depth=2, max_features=log2, min_samples_leaf=4, min_samples_split=2, n_estimators=10; total time=   0.7s\n",
      "[CV] END bootstrap=False, max_depth=2, max_features=log2, min_samples_leaf=4, min_samples_split=2, n_estimators=10; total time=   0.7s\n",
      "[CV] END bootstrap=False, max_depth=2, max_features=log2, min_samples_leaf=4, min_samples_split=2, n_estimators=10; total time=   0.7s\n",
      "[CV] END bootstrap=False, max_depth=6, max_features=log2, min_samples_leaf=1, min_samples_split=1, n_estimators=10; total time=   0.0s\n",
      "[CV] END bootstrap=False, max_depth=6, max_features=log2, min_samples_leaf=1, min_samples_split=1, n_estimators=10; total time=   0.0s\n",
      "[CV] END bootstrap=False, max_depth=6, max_features=log2, min_samples_leaf=1, min_samples_split=1, n_estimators=10; total time=   0.0s\n",
      "[CV] END bootstrap=False, max_depth=2, max_features=log2, min_samples_leaf=1, min_samples_split=1, n_estimators=152; total time=   0.0s\n",
      "[CV] END bootstrap=False, max_depth=2, max_features=log2, min_samples_leaf=1, min_samples_split=1, n_estimators=152; total time=   0.0s\n",
      "[CV] END bootstrap=False, max_depth=2, max_features=log2, min_samples_leaf=1, min_samples_split=1, n_estimators=152; total time=   0.0s\n",
      "[CV] END bootstrap=False, max_depth=6, max_features=log2, min_samples_leaf=2, min_samples_split=5, n_estimators=152; total time=  26.5s\n",
      "[CV] END bootstrap=True, max_depth=None, max_features=1.0, min_samples_leaf=1, min_samples_split=1, n_estimators=100; total time=   0.0s\n",
      "[CV] END bootstrap=True, max_depth=None, max_features=1.0, min_samples_leaf=1, min_samples_split=2, n_estimators=100; total time=  16.5s\n",
      "[CV] END bootstrap=True, max_depth=None, max_features=1.0, min_samples_leaf=1, min_samples_split=4, n_estimators=200; total time=  31.6s\n",
      "[CV] END bootstrap=True, max_depth=None, max_features=1.0, min_samples_leaf=1, min_samples_split=4, n_estimators=200; total time=  33.1s\n",
      "[CV] END bootstrap=True, max_depth=None, max_features=1.0, min_samples_leaf=5, min_samples_split=2, n_estimators=100; total time=  16.0s\n",
      "[CV] END bootstrap=True, max_depth=None, max_features=1.0, min_samples_leaf=5, min_samples_split=2, n_estimators=200; total time=  32.5s\n",
      "[CV] END bootstrap=True, max_depth=None, max_features=log2, min_samples_leaf=1, min_samples_split=2, n_estimators=100; total time=  11.7s\n",
      "[CV] END bootstrap=True, max_depth=None, max_features=log2, min_samples_leaf=1, min_samples_split=2, n_estimators=200; total time=  22.1s\n",
      "[CV] END bootstrap=True, max_depth=None, max_features=log2, min_samples_leaf=1, min_samples_split=4, n_estimators=200; total time=  21.5s\n",
      "[CV] END bootstrap=True, max_depth=None, max_features=log2, min_samples_leaf=2, min_samples_split=4, n_estimators=100; total time=  11.5s\n",
      "[CV] END bootstrap=True, max_depth=None, max_features=log2, min_samples_leaf=2, min_samples_split=4, n_estimators=200; total time=  21.0s\n",
      "[CV] END bootstrap=True, max_depth=None, max_features=log2, min_samples_leaf=5, min_samples_split=4, n_estimators=100; total time=  10.3s\n",
      "[CV] END bootstrap=True, max_depth=None, max_features=log2, min_samples_leaf=5, min_samples_split=4, n_estimators=200; total time=  19.6s\n",
      "[CV] END bootstrap=True, max_depth=None, max_features=sqrt, min_samples_leaf=1, min_samples_split=4, n_estimators=100; total time=  11.4s\n",
      "[CV] END bootstrap=True, max_depth=None, max_features=sqrt, min_samples_leaf=1, min_samples_split=4, n_estimators=200; total time=  21.7s\n",
      "[CV] END bootstrap=True, max_depth=None, max_features=sqrt, min_samples_leaf=2, min_samples_split=4, n_estimators=100; total time=  11.1s\n",
      "[CV] END bootstrap=True, max_depth=None, max_features=sqrt, min_samples_leaf=2, min_samples_split=4, n_estimators=200; total time=  21.8s\n",
      "[CV] END bootstrap=True, max_depth=None, max_features=sqrt, min_samples_leaf=5, min_samples_split=4, n_estimators=100; total time=  10.0s\n",
      "[CV] END bootstrap=True, max_depth=2, max_features=1.0, min_samples_leaf=1, min_samples_split=1, n_estimators=100; total time=   0.0s\n",
      "[CV] END bootstrap=True, max_depth=2, max_features=1.0, min_samples_leaf=1, min_samples_split=1, n_estimators=100; total time=   0.0s\n",
      "[CV] END bootstrap=True, max_depth=2, max_features=1.0, min_samples_leaf=1, min_samples_split=1, n_estimators=200; total time=   0.0s\n",
      "[CV] END bootstrap=True, max_depth=2, max_features=1.0, min_samples_leaf=1, min_samples_split=1, n_estimators=200; total time=   0.0s\n",
      "[CV] END bootstrap=True, max_depth=2, max_features=1.0, min_samples_leaf=1, min_samples_split=2, n_estimators=100; total time=   4.5s\n",
      "[CV] END bootstrap=True, max_depth=2, max_features=1.0, min_samples_leaf=1, min_samples_split=2, n_estimators=100; total time=   4.4s\n",
      "[CV] END bootstrap=True, max_depth=2, max_features=1.0, min_samples_leaf=1, min_samples_split=2, n_estimators=200; total time=   9.4s\n",
      "[CV] END bootstrap=True, max_depth=2, max_features=1.0, min_samples_leaf=1, min_samples_split=4, n_estimators=200; total time=   9.0s\n",
      "[CV] END bootstrap=True, max_depth=2, max_features=1.0, min_samples_leaf=2, min_samples_split=4, n_estimators=100; total time=   4.5s\n",
      "[CV] END bootstrap=True, max_depth=2, max_features=1.0, min_samples_leaf=2, min_samples_split=4, n_estimators=200; total time=   8.9s\n",
      "[CV] END bootstrap=True, max_depth=2, max_features=1.0, min_samples_leaf=5, min_samples_split=4, n_estimators=100; total time=   4.4s\n",
      "[CV] END bootstrap=True, max_depth=2, max_features=1.0, min_samples_leaf=5, min_samples_split=4, n_estimators=200; total time=   9.1s\n",
      "[CV] END bootstrap=True, max_depth=2, max_features=log2, min_samples_leaf=1, min_samples_split=4, n_estimators=200; total time=   4.1s\n"
     ]
    },
    {
     "name": "stderr",
     "output_type": "stream",
     "text": [
      "/opt/conda/lib/python3.10/site-packages/sklearn/model_selection/_validation.py:378: FitFailedWarning: \n",
      "72 fits failed out of a total of 216.\n",
      "The score on these train-test partitions for these parameters will be set to nan.\n",
      "If these failures are not expected, you can try to debug them by setting error_score='raise'.\n",
      "\n",
      "Below are more details about the failures:\n",
      "--------------------------------------------------------------------------------\n",
      "72 fits failed with the following error:\n",
      "Traceback (most recent call last):\n",
      "  File \"/opt/conda/lib/python3.10/site-packages/sklearn/model_selection/_validation.py\", line 686, in _fit_and_score\n",
      "    estimator.fit(X_train, y_train, **fit_params)\n",
      "  File \"/opt/conda/lib/python3.10/site-packages/sklearn/ensemble/_forest.py\", line 340, in fit\n",
      "    self._validate_params()\n",
      "  File \"/opt/conda/lib/python3.10/site-packages/sklearn/base.py\", line 600, in _validate_params\n",
      "    validate_parameter_constraints(\n",
      "  File \"/opt/conda/lib/python3.10/site-packages/sklearn/utils/_param_validation.py\", line 97, in validate_parameter_constraints\n",
      "    raise InvalidParameterError(\n",
      "sklearn.utils._param_validation.InvalidParameterError: The 'min_samples_split' parameter of RandomForestRegressor must be an int in the range [2, inf) or a float in the range (0.0, 1.0]. Got 1 instead.\n",
      "\n",
      "  warnings.warn(some_fits_failed_message, FitFailedWarning)\n",
      "/opt/conda/lib/python3.10/site-packages/sklearn/model_selection/_search.py:952: UserWarning: One or more of the test scores are non-finite: [       nan        nan 0.89132404 0.88571128 0.88203593 0.87955698\n",
      "        nan        nan 0.86128359 0.85389849 0.86128359 0.85389849\n",
      "        nan        nan 0.83847205 0.83858231 0.83847205 0.83858231\n",
      "        nan        nan 0.85811345 0.8575177  0.84989774 0.85336284\n",
      "        nan        nan 0.84608447 0.8417875  0.84608447 0.8417875\n",
      "        nan        nan 0.81962291 0.82007314 0.81962291 0.82007314\n",
      "        nan        nan 0.85811345 0.8575177  0.84989774 0.85336284\n",
      "        nan        nan 0.84608447 0.8417875  0.84608447 0.8417875\n",
      "        nan        nan 0.81962291 0.82007314 0.81962291 0.82007314\n",
      "        nan        nan 0.65369352 0.64745093 0.65483479 0.64802889\n",
      "        nan        nan 0.6301128  0.62679206 0.6301128  0.62679206\n",
      "        nan        nan 0.62498718 0.62452226 0.62498718 0.62452226\n",
      "        nan        nan 0.47083904 0.48165327 0.47079939 0.48156921\n",
      "        nan        nan 0.48588427 0.49466053 0.48588427 0.49466053\n",
      "        nan        nan 0.48952158 0.4969429  0.48952158 0.4969429\n",
      "        nan        nan 0.47083904 0.48165327 0.47079939 0.48156921\n",
      "        nan        nan 0.48588427 0.49466053 0.48588427 0.49466053\n",
      "        nan        nan 0.48952158 0.4969429  0.48952158 0.4969429 ]\n",
      "  warnings.warn(\n",
      "/opt/conda/lib/python3.10/site-packages/sklearn/model_selection/_search.py:952: UserWarning: One or more of the train scores are non-finite: [       nan        nan 0.98103931 0.98191998 0.97774147 0.97880872\n",
      "        nan        nan 0.94564787 0.94668427 0.94564787 0.94668427\n",
      "        nan        nan 0.89959878 0.89955252 0.89959878 0.89955252\n",
      "        nan        nan 0.97931577 0.97965655 0.96945398 0.97042845\n",
      "        nan        nan 0.93716029 0.93750698 0.93716029 0.93750698\n",
      "        nan        nan 0.87491275 0.87533467 0.87491275 0.87533467\n",
      "        nan        nan 0.97931577 0.97965655 0.96945398 0.97042845\n",
      "        nan        nan 0.93716029 0.93750698 0.93716029 0.93750698\n",
      "        nan        nan 0.87491275 0.87533467 0.87491275 0.87533467\n",
      "        nan        nan 0.7763456  0.77836559 0.77540177 0.77764027\n",
      "        nan        nan 0.75481923 0.75585807 0.75481923 0.75585807\n",
      "        nan        nan 0.72371566 0.7240289  0.72371566 0.7240289\n",
      "        nan        nan 0.56037125 0.5689454  0.55974363 0.56767002\n",
      "        nan        nan 0.56173095 0.5685422  0.56173095 0.5685422\n",
      "        nan        nan 0.54770034 0.55427756 0.54770034 0.55427756\n",
      "        nan        nan 0.56037125 0.5689454  0.55974363 0.56767002\n",
      "        nan        nan 0.56173095 0.5685422  0.56173095 0.5685422\n",
      "        nan        nan 0.54770034 0.55427756 0.54770034 0.55427756]\n",
      "  warnings.warn(\n"
     ]
    }
   ],
   "source": [
    "# Fit the grid search to the data\n",
    "grid_search.fit(train_features, train_target);"
   ]
  },
  {
   "cell_type": "markdown",
   "id": "f124c62e",
   "metadata": {
    "papermill": {
     "duration": 0.01978,
     "end_time": "2024-02-15T07:49:26.972121",
     "exception": false,
     "start_time": "2024-02-15T07:49:26.952341",
     "status": "completed"
    },
    "tags": []
   },
   "source": [
    "## Train The Model Round 2"
   ]
  },
  {
   "cell_type": "code",
   "execution_count": 28,
   "id": "770f13a8",
   "metadata": {
    "execution": {
     "iopub.execute_input": "2024-02-15T07:49:27.013573Z",
     "iopub.status.busy": "2024-02-15T07:49:27.013199Z",
     "iopub.status.idle": "2024-02-15T07:49:27.108624Z",
     "shell.execute_reply": "2024-02-15T07:49:27.107385Z"
    },
    "papermill": {
     "duration": 0.119256,
     "end_time": "2024-02-15T07:49:27.111242",
     "exception": false,
     "start_time": "2024-02-15T07:49:26.991986",
     "status": "completed"
    },
    "tags": []
   },
   "outputs": [],
   "source": [
    "#Splitting dataset to train and test\n",
    "\n",
    "# Eliminate Useless Columns \n",
    "Data_PAR = Data_PAR[feature_list_Eliminate]\n",
    "\n",
    "X_3 = Data_PAR.drop(['Parqty_Cal', 'Parqty_Adj'], axis=1)  # features\n",
    "\n",
    "y_3 = Data_PAR[['Parqty_Cal']] # target\n",
    "\n",
    "# split data to train 70% and temp set 30%\n",
    "X_train_3, X_temp_3, y_train_3, y_temp_3 = train_test_split(X_3, y_3, test_size=0.3, random_state=42)\n",
    "\n",
    "# split temp set to validation 15% and test 15%\n",
    "X_val_3, X_test_3, y_val_3, y_test_3 = train_test_split(X_temp_3, y_temp_3, test_size=0.5, random_state=42)"
   ]
  },
  {
   "cell_type": "code",
   "execution_count": 29,
   "id": "92af8284",
   "metadata": {
    "execution": {
     "iopub.execute_input": "2024-02-15T07:49:27.152546Z",
     "iopub.status.busy": "2024-02-15T07:49:27.152174Z",
     "iopub.status.idle": "2024-02-15T07:49:44.192219Z",
     "shell.execute_reply": "2024-02-15T07:49:44.190483Z"
    },
    "papermill": {
     "duration": 17.063586,
     "end_time": "2024-02-15T07:49:44.194609",
     "exception": false,
     "start_time": "2024-02-15T07:49:27.131023",
     "status": "completed"
    },
    "tags": []
   },
   "outputs": [
    {
     "name": "stdout",
     "output_type": "stream",
     "text": [
      "Mean Squared Error on Test Set 78.21748137890145\n"
     ]
    }
   ],
   "source": [
    "#Train The Models\n",
    "\n",
    "Model_RF_3 = RandomForestRegressor(n_estimators=200, min_samples_split=2, min_samples_leaf= 1\n",
    "                                  , max_features=1.0, max_depth=None ,bootstrap= False\n",
    "                                  , random_state=42)\n",
    "\n",
    "Model_RF_3.fit(X_val_3, y_val_3.values.ravel())\n",
    "\n",
    "# Evaluate Performance The Model on Test Set\n",
    "y_pred_3 = Model_RF_3.predict(X_test_3)\n",
    "\n",
    "# ประเมินประสิทธิภาพของโมเดล\n",
    "MSE_Train_3 = mean_squared_error(y_test_3, y_pred_3)\n",
    "print(f'Mean Squared Error on Test Set {MSE_Train_3}')"
   ]
  },
  {
   "cell_type": "markdown",
   "id": "8bb1b4e8",
   "metadata": {
    "papermill": {
     "duration": 0.019914,
     "end_time": "2024-02-15T07:49:44.234845",
     "exception": false,
     "start_time": "2024-02-15T07:49:44.214931",
     "status": "completed"
    },
    "tags": []
   },
   "source": [
    "## Load The Train Data set To Train "
   ]
  },
  {
   "cell_type": "code",
   "execution_count": 30,
   "id": "71101b69",
   "metadata": {
    "execution": {
     "iopub.execute_input": "2024-02-15T07:49:44.280933Z",
     "iopub.status.busy": "2024-02-15T07:49:44.280498Z",
     "iopub.status.idle": "2024-02-15T07:49:44.305401Z",
     "shell.execute_reply": "2024-02-15T07:49:44.304215Z"
    },
    "papermill": {
     "duration": 0.051413,
     "end_time": "2024-02-15T07:49:44.307772",
     "exception": false,
     "start_time": "2024-02-15T07:49:44.256359",
     "status": "completed"
    },
    "tags": []
   },
   "outputs": [
    {
     "data": {
      "text/html": [
       "<div>\n",
       "<style scoped>\n",
       "    .dataframe tbody tr th:only-of-type {\n",
       "        vertical-align: middle;\n",
       "    }\n",
       "\n",
       "    .dataframe tbody tr th {\n",
       "        vertical-align: top;\n",
       "    }\n",
       "\n",
       "    .dataframe thead th {\n",
       "        text-align: right;\n",
       "    }\n",
       "</style>\n",
       "<table border=\"1\" class=\"dataframe\">\n",
       "  <thead>\n",
       "    <tr style=\"text-align: right;\">\n",
       "      <th></th>\n",
       "      <th>pr_dpcode</th>\n",
       "      <th>brcode</th>\n",
       "      <th>parqty</th>\n",
       "      <th>sh_daysmin</th>\n",
       "      <th>sd_t_qty_30</th>\n",
       "      <th>on_promotion</th>\n",
       "      <th>Parqty_Cal</th>\n",
       "      <th>Parqty_Adj</th>\n",
       "    </tr>\n",
       "  </thead>\n",
       "  <tbody>\n",
       "    <tr>\n",
       "      <th>0</th>\n",
       "      <td>5</td>\n",
       "      <td>1044</td>\n",
       "      <td>3</td>\n",
       "      <td>450</td>\n",
       "      <td>1.0</td>\n",
       "      <td>1.25</td>\n",
       "      <td>1.0</td>\n",
       "      <td>8</td>\n",
       "    </tr>\n",
       "    <tr>\n",
       "      <th>1</th>\n",
       "      <td>28</td>\n",
       "      <td>1026</td>\n",
       "      <td>6</td>\n",
       "      <td>75</td>\n",
       "      <td>0.0</td>\n",
       "      <td>0.00</td>\n",
       "      <td>0.0</td>\n",
       "      <td>3</td>\n",
       "    </tr>\n",
       "    <tr>\n",
       "      <th>2</th>\n",
       "      <td>23</td>\n",
       "      <td>1022</td>\n",
       "      <td>6</td>\n",
       "      <td>30</td>\n",
       "      <td>21.0</td>\n",
       "      <td>0.00</td>\n",
       "      <td>7.0</td>\n",
       "      <td>7</td>\n",
       "    </tr>\n",
       "    <tr>\n",
       "      <th>3</th>\n",
       "      <td>2</td>\n",
       "      <td>1050</td>\n",
       "      <td>2</td>\n",
       "      <td>389</td>\n",
       "      <td>0.0</td>\n",
       "      <td>0.00</td>\n",
       "      <td>0.0</td>\n",
       "      <td>6</td>\n",
       "    </tr>\n",
       "    <tr>\n",
       "      <th>4</th>\n",
       "      <td>14</td>\n",
       "      <td>1024</td>\n",
       "      <td>4</td>\n",
       "      <td>658</td>\n",
       "      <td>2.0</td>\n",
       "      <td>1.25</td>\n",
       "      <td>3.0</td>\n",
       "      <td>8</td>\n",
       "    </tr>\n",
       "    <tr>\n",
       "      <th>...</th>\n",
       "      <td>...</td>\n",
       "      <td>...</td>\n",
       "      <td>...</td>\n",
       "      <td>...</td>\n",
       "      <td>...</td>\n",
       "      <td>...</td>\n",
       "      <td>...</td>\n",
       "      <td>...</td>\n",
       "    </tr>\n",
       "    <tr>\n",
       "      <th>139482</th>\n",
       "      <td>28</td>\n",
       "      <td>1038</td>\n",
       "      <td>10</td>\n",
       "      <td>135</td>\n",
       "      <td>13.0</td>\n",
       "      <td>0.00</td>\n",
       "      <td>13.0</td>\n",
       "      <td>13</td>\n",
       "    </tr>\n",
       "    <tr>\n",
       "      <th>139483</th>\n",
       "      <td>21</td>\n",
       "      <td>1051</td>\n",
       "      <td>3</td>\n",
       "      <td>700</td>\n",
       "      <td>0.0</td>\n",
       "      <td>0.00</td>\n",
       "      <td>0.0</td>\n",
       "      <td>3</td>\n",
       "    </tr>\n",
       "    <tr>\n",
       "      <th>139484</th>\n",
       "      <td>10</td>\n",
       "      <td>1048</td>\n",
       "      <td>6</td>\n",
       "      <td>864</td>\n",
       "      <td>10.0</td>\n",
       "      <td>1.25</td>\n",
       "      <td>13.0</td>\n",
       "      <td>13</td>\n",
       "    </tr>\n",
       "    <tr>\n",
       "      <th>139485</th>\n",
       "      <td>2</td>\n",
       "      <td>1039</td>\n",
       "      <td>30</td>\n",
       "      <td>212</td>\n",
       "      <td>41.0</td>\n",
       "      <td>0.00</td>\n",
       "      <td>41.0</td>\n",
       "      <td>41</td>\n",
       "    </tr>\n",
       "    <tr>\n",
       "      <th>139486</th>\n",
       "      <td>1</td>\n",
       "      <td>1049</td>\n",
       "      <td>3</td>\n",
       "      <td>329</td>\n",
       "      <td>0.0</td>\n",
       "      <td>0.00</td>\n",
       "      <td>0.0</td>\n",
       "      <td>6</td>\n",
       "    </tr>\n",
       "  </tbody>\n",
       "</table>\n",
       "<p>134773 rows × 8 columns</p>\n",
       "</div>"
      ],
      "text/plain": [
       "        pr_dpcode  brcode  parqty  sh_daysmin  sd_t_qty_30  on_promotion  \\\n",
       "0               5    1044       3         450          1.0          1.25   \n",
       "1              28    1026       6          75          0.0          0.00   \n",
       "2              23    1022       6          30         21.0          0.00   \n",
       "3               2    1050       2         389          0.0          0.00   \n",
       "4              14    1024       4         658          2.0          1.25   \n",
       "...           ...     ...     ...         ...          ...           ...   \n",
       "139482         28    1038      10         135         13.0          0.00   \n",
       "139483         21    1051       3         700          0.0          0.00   \n",
       "139484         10    1048       6         864         10.0          1.25   \n",
       "139485          2    1039      30         212         41.0          0.00   \n",
       "139486          1    1049       3         329          0.0          0.00   \n",
       "\n",
       "        Parqty_Cal  Parqty_Adj  \n",
       "0              1.0           8  \n",
       "1              0.0           3  \n",
       "2              7.0           7  \n",
       "3              0.0           6  \n",
       "4              3.0           8  \n",
       "...            ...         ...  \n",
       "139482        13.0          13  \n",
       "139483         0.0           3  \n",
       "139484        13.0          13  \n",
       "139485        41.0          41  \n",
       "139486         0.0           6  \n",
       "\n",
       "[134773 rows x 8 columns]"
      ]
     },
     "execution_count": 30,
     "metadata": {},
     "output_type": "execute_result"
    }
   ],
   "source": [
    "Data_PAR_test = Data_PAR_test[feature_list_Eliminate]\n",
    "\n",
    "Data_PAR_test"
   ]
  },
  {
   "cell_type": "markdown",
   "id": "b99c34c9",
   "metadata": {
    "papermill": {
     "duration": 0.020219,
     "end_time": "2024-02-15T07:49:44.348991",
     "exception": false,
     "start_time": "2024-02-15T07:49:44.328772",
     "status": "completed"
    },
    "tags": []
   },
   "source": [
    "## Train Model on test Data set"
   ]
  },
  {
   "cell_type": "code",
   "execution_count": 31,
   "id": "8c7b42ec",
   "metadata": {
    "execution": {
     "iopub.execute_input": "2024-02-15T07:49:44.392033Z",
     "iopub.status.busy": "2024-02-15T07:49:44.391627Z",
     "iopub.status.idle": "2024-02-15T07:49:46.179076Z",
     "shell.execute_reply": "2024-02-15T07:49:46.177579Z"
    },
    "papermill": {
     "duration": 1.812099,
     "end_time": "2024-02-15T07:49:46.181773",
     "exception": false,
     "start_time": "2024-02-15T07:49:44.369674",
     "status": "completed"
    },
    "tags": []
   },
   "outputs": [
    {
     "name": "stdout",
     "output_type": "stream",
     "text": [
      "Mean Squared Error: 25.255775506592553\n"
     ]
    }
   ],
   "source": [
    "# Split the new data into features (X_new) and target (y_new)\n",
    "X_4 = Data_PAR_test.drop(['Parqty_Cal', 'Parqty_Adj'], axis=1)  # features\n",
    "y_4 = Data_PAR_test['Parqty_Cal']  # target\n",
    "\n",
    "# Get the column order from the training set\n",
    "column_order_4 = X_train_3.columns\n",
    "\n",
    "# Reorder the columns in X_new\n",
    "X_4 = X_4[column_order_4]\n",
    "y_pred_4 = Model_RF_3.predict(X_4)\n",
    "\n",
    "MSE_Test_4 = mean_squared_error(y_4, y_pred_4)\n",
    "print(f'Mean Squared Error: {MSE_Test_4}')"
   ]
  },
  {
   "cell_type": "markdown",
   "id": "e7d6261c",
   "metadata": {
    "papermill": {
     "duration": 0.019986,
     "end_time": "2024-02-15T07:49:46.222203",
     "exception": false,
     "start_time": "2024-02-15T07:49:46.202217",
     "status": "completed"
    },
    "tags": []
   },
   "source": [
    "## Measure Model Performance"
   ]
  },
  {
   "cell_type": "code",
   "execution_count": 32,
   "id": "5e75ff88",
   "metadata": {
    "execution": {
     "iopub.execute_input": "2024-02-15T07:49:46.266097Z",
     "iopub.status.busy": "2024-02-15T07:49:46.265645Z",
     "iopub.status.idle": "2024-02-15T07:49:46.275172Z",
     "shell.execute_reply": "2024-02-15T07:49:46.273824Z"
    },
    "papermill": {
     "duration": 0.034483,
     "end_time": "2024-02-15T07:49:46.277346",
     "exception": false,
     "start_time": "2024-02-15T07:49:46.242863",
     "status": "completed"
    },
    "tags": []
   },
   "outputs": [
    {
     "name": "stdout",
     "output_type": "stream",
     "text": [
      "MSE Train Before Turning Hyperparameter : 108.69\n",
      "MSE Train Before Turning Hyperparameter : 78.22\n",
      "MSE Test Before Turning Hyperparameter : 42.09\n",
      "MSE Test Before Turning Hyperparameter : 25.26\n",
      "Improvement of MSE : 30.48\n",
      "Final Accuracy : 99.00%.\n"
     ]
    }
   ],
   "source": [
    "#Find The Accuracy Value\n",
    "Parqty_Cal_Pred = y_pred_4.round()\n",
    "\n",
    "Diff = Data_PAR_test['Parqty_Cal'] - Parqty_Cal_Pred\n",
    "\n",
    "count_correct = (Diff == 0).sum()\n",
    "\n",
    "len_Data_All = len(Data_PAR_test)\n",
    "\n",
    "accuracy = count_correct / len_Data_All\n",
    "\n",
    "print('MSE Train Before Turning Hyperparameter : {:0.2f}'.format(MSE_Train))\n",
    "print('MSE Train Before Turning Hyperparameter : {:0.2f}'.format(MSE_Train_3))\n",
    "print('MSE Test Before Turning Hyperparameter : {:0.2f}'.format(MSE_Test_2))\n",
    "print('MSE Test Before Turning Hyperparameter : {:0.2f}'.format(MSE_Test_4))\n",
    "print('Improvement of MSE : {:0.2f}'.format(MSE_Train - MSE_Train_3))\n",
    "print('Final Accuracy : {:0.2f}%.'.format(accuracy *100))"
   ]
  },
  {
   "cell_type": "markdown",
   "id": "ed1bfbc7",
   "metadata": {
    "papermill": {
     "duration": 0.019906,
     "end_time": "2024-02-15T07:49:46.319058",
     "exception": false,
     "start_time": "2024-02-15T07:49:46.299152",
     "status": "completed"
    },
    "tags": []
   },
   "source": [
    "## Save Output For Make To New File "
   ]
  },
  {
   "cell_type": "code",
   "execution_count": 33,
   "id": "9fc6aae2",
   "metadata": {
    "execution": {
     "iopub.execute_input": "2024-02-15T07:49:46.361580Z",
     "iopub.status.busy": "2024-02-15T07:49:46.361190Z",
     "iopub.status.idle": "2024-02-15T07:49:46.377113Z",
     "shell.execute_reply": "2024-02-15T07:49:46.376032Z"
    },
    "papermill": {
     "duration": 0.039578,
     "end_time": "2024-02-15T07:49:46.379181",
     "exception": false,
     "start_time": "2024-02-15T07:49:46.339603",
     "status": "completed"
    },
    "tags": []
   },
   "outputs": [
    {
     "data": {
      "text/html": [
       "<div>\n",
       "<style scoped>\n",
       "    .dataframe tbody tr th:only-of-type {\n",
       "        vertical-align: middle;\n",
       "    }\n",
       "\n",
       "    .dataframe tbody tr th {\n",
       "        vertical-align: top;\n",
       "    }\n",
       "\n",
       "    .dataframe thead th {\n",
       "        text-align: right;\n",
       "    }\n",
       "</style>\n",
       "<table border=\"1\" class=\"dataframe\">\n",
       "  <thead>\n",
       "    <tr style=\"text-align: right;\">\n",
       "      <th></th>\n",
       "      <th>pr_dpcode</th>\n",
       "      <th>brcode</th>\n",
       "      <th>parqty</th>\n",
       "      <th>sh_daysmin</th>\n",
       "      <th>sd_t_qty_30</th>\n",
       "      <th>on_promotion</th>\n",
       "      <th>Parqty_Cal</th>\n",
       "      <th>Parqty_Adj</th>\n",
       "    </tr>\n",
       "  </thead>\n",
       "  <tbody>\n",
       "    <tr>\n",
       "      <th>0</th>\n",
       "      <td>5</td>\n",
       "      <td>1044</td>\n",
       "      <td>3</td>\n",
       "      <td>450</td>\n",
       "      <td>1.0</td>\n",
       "      <td>1.25</td>\n",
       "      <td>1.0</td>\n",
       "      <td>8</td>\n",
       "    </tr>\n",
       "    <tr>\n",
       "      <th>1</th>\n",
       "      <td>28</td>\n",
       "      <td>1026</td>\n",
       "      <td>6</td>\n",
       "      <td>75</td>\n",
       "      <td>0.0</td>\n",
       "      <td>0.00</td>\n",
       "      <td>0.0</td>\n",
       "      <td>3</td>\n",
       "    </tr>\n",
       "    <tr>\n",
       "      <th>2</th>\n",
       "      <td>23</td>\n",
       "      <td>1022</td>\n",
       "      <td>6</td>\n",
       "      <td>30</td>\n",
       "      <td>21.0</td>\n",
       "      <td>0.00</td>\n",
       "      <td>7.0</td>\n",
       "      <td>7</td>\n",
       "    </tr>\n",
       "    <tr>\n",
       "      <th>3</th>\n",
       "      <td>2</td>\n",
       "      <td>1050</td>\n",
       "      <td>2</td>\n",
       "      <td>389</td>\n",
       "      <td>0.0</td>\n",
       "      <td>0.00</td>\n",
       "      <td>0.0</td>\n",
       "      <td>6</td>\n",
       "    </tr>\n",
       "    <tr>\n",
       "      <th>4</th>\n",
       "      <td>14</td>\n",
       "      <td>1024</td>\n",
       "      <td>4</td>\n",
       "      <td>658</td>\n",
       "      <td>2.0</td>\n",
       "      <td>1.25</td>\n",
       "      <td>3.0</td>\n",
       "      <td>8</td>\n",
       "    </tr>\n",
       "    <tr>\n",
       "      <th>...</th>\n",
       "      <td>...</td>\n",
       "      <td>...</td>\n",
       "      <td>...</td>\n",
       "      <td>...</td>\n",
       "      <td>...</td>\n",
       "      <td>...</td>\n",
       "      <td>...</td>\n",
       "      <td>...</td>\n",
       "    </tr>\n",
       "    <tr>\n",
       "      <th>139482</th>\n",
       "      <td>28</td>\n",
       "      <td>1038</td>\n",
       "      <td>10</td>\n",
       "      <td>135</td>\n",
       "      <td>13.0</td>\n",
       "      <td>0.00</td>\n",
       "      <td>13.0</td>\n",
       "      <td>13</td>\n",
       "    </tr>\n",
       "    <tr>\n",
       "      <th>139483</th>\n",
       "      <td>21</td>\n",
       "      <td>1051</td>\n",
       "      <td>3</td>\n",
       "      <td>700</td>\n",
       "      <td>0.0</td>\n",
       "      <td>0.00</td>\n",
       "      <td>0.0</td>\n",
       "      <td>3</td>\n",
       "    </tr>\n",
       "    <tr>\n",
       "      <th>139484</th>\n",
       "      <td>10</td>\n",
       "      <td>1048</td>\n",
       "      <td>6</td>\n",
       "      <td>864</td>\n",
       "      <td>10.0</td>\n",
       "      <td>1.25</td>\n",
       "      <td>13.0</td>\n",
       "      <td>13</td>\n",
       "    </tr>\n",
       "    <tr>\n",
       "      <th>139485</th>\n",
       "      <td>2</td>\n",
       "      <td>1039</td>\n",
       "      <td>30</td>\n",
       "      <td>212</td>\n",
       "      <td>41.0</td>\n",
       "      <td>0.00</td>\n",
       "      <td>41.0</td>\n",
       "      <td>41</td>\n",
       "    </tr>\n",
       "    <tr>\n",
       "      <th>139486</th>\n",
       "      <td>1</td>\n",
       "      <td>1049</td>\n",
       "      <td>3</td>\n",
       "      <td>329</td>\n",
       "      <td>0.0</td>\n",
       "      <td>0.00</td>\n",
       "      <td>0.0</td>\n",
       "      <td>6</td>\n",
       "    </tr>\n",
       "  </tbody>\n",
       "</table>\n",
       "<p>134773 rows × 8 columns</p>\n",
       "</div>"
      ],
      "text/plain": [
       "        pr_dpcode  brcode  parqty  sh_daysmin  sd_t_qty_30  on_promotion  \\\n",
       "0               5    1044       3         450          1.0          1.25   \n",
       "1              28    1026       6          75          0.0          0.00   \n",
       "2              23    1022       6          30         21.0          0.00   \n",
       "3               2    1050       2         389          0.0          0.00   \n",
       "4              14    1024       4         658          2.0          1.25   \n",
       "...           ...     ...     ...         ...          ...           ...   \n",
       "139482         28    1038      10         135         13.0          0.00   \n",
       "139483         21    1051       3         700          0.0          0.00   \n",
       "139484         10    1048       6         864         10.0          1.25   \n",
       "139485          2    1039      30         212         41.0          0.00   \n",
       "139486          1    1049       3         329          0.0          0.00   \n",
       "\n",
       "        Parqty_Cal  Parqty_Adj  \n",
       "0              1.0           8  \n",
       "1              0.0           3  \n",
       "2              7.0           7  \n",
       "3              0.0           6  \n",
       "4              3.0           8  \n",
       "...            ...         ...  \n",
       "139482        13.0          13  \n",
       "139483         0.0           3  \n",
       "139484        13.0          13  \n",
       "139485        41.0          41  \n",
       "139486         0.0           6  \n",
       "\n",
       "[134773 rows x 8 columns]"
      ]
     },
     "execution_count": 33,
     "metadata": {},
     "output_type": "execute_result"
    }
   ],
   "source": [
    "Data_PAR_test"
   ]
  },
  {
   "cell_type": "markdown",
   "id": "a6ee439d",
   "metadata": {
    "papermill": {
     "duration": 0.020188,
     "end_time": "2024-02-15T07:49:46.419863",
     "exception": false,
     "start_time": "2024-02-15T07:49:46.399675",
     "status": "completed"
    },
    "tags": []
   },
   "source": [
    "## update Data For train Model 2 "
   ]
  },
  {
   "cell_type": "code",
   "execution_count": 34,
   "id": "22585050",
   "metadata": {
    "execution": {
     "iopub.execute_input": "2024-02-15T07:49:46.463576Z",
     "iopub.status.busy": "2024-02-15T07:49:46.463128Z",
     "iopub.status.idle": "2024-02-15T07:49:46.480125Z",
     "shell.execute_reply": "2024-02-15T07:49:46.479016Z"
    },
    "papermill": {
     "duration": 0.041372,
     "end_time": "2024-02-15T07:49:46.482501",
     "exception": false,
     "start_time": "2024-02-15T07:49:46.441129",
     "status": "completed"
    },
    "tags": []
   },
   "outputs": [
    {
     "data": {
      "text/html": [
       "<div>\n",
       "<style scoped>\n",
       "    .dataframe tbody tr th:only-of-type {\n",
       "        vertical-align: middle;\n",
       "    }\n",
       "\n",
       "    .dataframe tbody tr th {\n",
       "        vertical-align: top;\n",
       "    }\n",
       "\n",
       "    .dataframe thead th {\n",
       "        text-align: right;\n",
       "    }\n",
       "</style>\n",
       "<table border=\"1\" class=\"dataframe\">\n",
       "  <thead>\n",
       "    <tr style=\"text-align: right;\">\n",
       "      <th></th>\n",
       "      <th>pr_dpcode</th>\n",
       "      <th>brcode</th>\n",
       "      <th>parqty</th>\n",
       "      <th>sh_daysmin</th>\n",
       "      <th>sd_t_qty_30</th>\n",
       "      <th>on_promotion</th>\n",
       "      <th>Parqty_Cal</th>\n",
       "      <th>Parqty_Adj</th>\n",
       "    </tr>\n",
       "  </thead>\n",
       "  <tbody>\n",
       "    <tr>\n",
       "      <th>0</th>\n",
       "      <td>5</td>\n",
       "      <td>1044</td>\n",
       "      <td>3</td>\n",
       "      <td>450</td>\n",
       "      <td>1.0</td>\n",
       "      <td>1.25</td>\n",
       "      <td>1.0</td>\n",
       "      <td>8</td>\n",
       "    </tr>\n",
       "    <tr>\n",
       "      <th>1</th>\n",
       "      <td>28</td>\n",
       "      <td>1026</td>\n",
       "      <td>6</td>\n",
       "      <td>75</td>\n",
       "      <td>0.0</td>\n",
       "      <td>0.00</td>\n",
       "      <td>0.0</td>\n",
       "      <td>3</td>\n",
       "    </tr>\n",
       "    <tr>\n",
       "      <th>2</th>\n",
       "      <td>23</td>\n",
       "      <td>1022</td>\n",
       "      <td>6</td>\n",
       "      <td>30</td>\n",
       "      <td>21.0</td>\n",
       "      <td>0.00</td>\n",
       "      <td>7.0</td>\n",
       "      <td>7</td>\n",
       "    </tr>\n",
       "    <tr>\n",
       "      <th>3</th>\n",
       "      <td>2</td>\n",
       "      <td>1050</td>\n",
       "      <td>2</td>\n",
       "      <td>389</td>\n",
       "      <td>0.0</td>\n",
       "      <td>0.00</td>\n",
       "      <td>0.0</td>\n",
       "      <td>6</td>\n",
       "    </tr>\n",
       "    <tr>\n",
       "      <th>4</th>\n",
       "      <td>14</td>\n",
       "      <td>1024</td>\n",
       "      <td>4</td>\n",
       "      <td>658</td>\n",
       "      <td>2.0</td>\n",
       "      <td>1.25</td>\n",
       "      <td>3.0</td>\n",
       "      <td>8</td>\n",
       "    </tr>\n",
       "    <tr>\n",
       "      <th>...</th>\n",
       "      <td>...</td>\n",
       "      <td>...</td>\n",
       "      <td>...</td>\n",
       "      <td>...</td>\n",
       "      <td>...</td>\n",
       "      <td>...</td>\n",
       "      <td>...</td>\n",
       "      <td>...</td>\n",
       "    </tr>\n",
       "    <tr>\n",
       "      <th>139482</th>\n",
       "      <td>28</td>\n",
       "      <td>1038</td>\n",
       "      <td>10</td>\n",
       "      <td>135</td>\n",
       "      <td>13.0</td>\n",
       "      <td>0.00</td>\n",
       "      <td>13.0</td>\n",
       "      <td>13</td>\n",
       "    </tr>\n",
       "    <tr>\n",
       "      <th>139483</th>\n",
       "      <td>21</td>\n",
       "      <td>1051</td>\n",
       "      <td>3</td>\n",
       "      <td>700</td>\n",
       "      <td>0.0</td>\n",
       "      <td>0.00</td>\n",
       "      <td>0.0</td>\n",
       "      <td>3</td>\n",
       "    </tr>\n",
       "    <tr>\n",
       "      <th>139484</th>\n",
       "      <td>10</td>\n",
       "      <td>1048</td>\n",
       "      <td>6</td>\n",
       "      <td>864</td>\n",
       "      <td>10.0</td>\n",
       "      <td>1.25</td>\n",
       "      <td>13.0</td>\n",
       "      <td>13</td>\n",
       "    </tr>\n",
       "    <tr>\n",
       "      <th>139485</th>\n",
       "      <td>2</td>\n",
       "      <td>1039</td>\n",
       "      <td>30</td>\n",
       "      <td>212</td>\n",
       "      <td>41.0</td>\n",
       "      <td>0.00</td>\n",
       "      <td>41.0</td>\n",
       "      <td>41</td>\n",
       "    </tr>\n",
       "    <tr>\n",
       "      <th>139486</th>\n",
       "      <td>1</td>\n",
       "      <td>1049</td>\n",
       "      <td>3</td>\n",
       "      <td>329</td>\n",
       "      <td>0.0</td>\n",
       "      <td>0.00</td>\n",
       "      <td>0.0</td>\n",
       "      <td>6</td>\n",
       "    </tr>\n",
       "  </tbody>\n",
       "</table>\n",
       "<p>134773 rows × 8 columns</p>\n",
       "</div>"
      ],
      "text/plain": [
       "        pr_dpcode  brcode  parqty  sh_daysmin  sd_t_qty_30  on_promotion  \\\n",
       "0               5    1044       3         450          1.0          1.25   \n",
       "1              28    1026       6          75          0.0          0.00   \n",
       "2              23    1022       6          30         21.0          0.00   \n",
       "3               2    1050       2         389          0.0          0.00   \n",
       "4              14    1024       4         658          2.0          1.25   \n",
       "...           ...     ...     ...         ...          ...           ...   \n",
       "139482         28    1038      10         135         13.0          0.00   \n",
       "139483         21    1051       3         700          0.0          0.00   \n",
       "139484         10    1048       6         864         10.0          1.25   \n",
       "139485          2    1039      30         212         41.0          0.00   \n",
       "139486          1    1049       3         329          0.0          0.00   \n",
       "\n",
       "        Parqty_Cal  Parqty_Adj  \n",
       "0              1.0           8  \n",
       "1              0.0           3  \n",
       "2              7.0           7  \n",
       "3              0.0           6  \n",
       "4              3.0           8  \n",
       "...            ...         ...  \n",
       "139482        13.0          13  \n",
       "139483         0.0           3  \n",
       "139484        13.0          13  \n",
       "139485        41.0          41  \n",
       "139486         0.0           6  \n",
       "\n",
       "[134773 rows x 8 columns]"
      ]
     },
     "execution_count": 34,
     "metadata": {},
     "output_type": "execute_result"
    }
   ],
   "source": [
    "Data_PAR_test_For_Col2 = Data_PAR_test\n",
    "Data_PAR_test_For_Col2.loc[:, 'Parqty_Cal'] = y_pred_4.round()\n",
    "Data_PAR_test_For_Col2"
   ]
  },
  {
   "cell_type": "code",
   "execution_count": 35,
   "id": "19c5ed79",
   "metadata": {
    "execution": {
     "iopub.execute_input": "2024-02-15T07:49:46.525548Z",
     "iopub.status.busy": "2024-02-15T07:49:46.525151Z",
     "iopub.status.idle": "2024-02-15T07:49:46.529874Z",
     "shell.execute_reply": "2024-02-15T07:49:46.528827Z"
    },
    "papermill": {
     "duration": 0.028796,
     "end_time": "2024-02-15T07:49:46.532058",
     "exception": false,
     "start_time": "2024-02-15T07:49:46.503262",
     "status": "completed"
    },
    "tags": []
   },
   "outputs": [],
   "source": [
    "# import numpy as np\n",
    "# output = pd.DataFrame({\"pr_dpcode\": Data_PAR_test[\"pr_dpcode\"],\n",
    "#                         \"brcode\": Data_PAR_test[\"brcode\"],\n",
    "#                         \"parqty\": Data_PAR_test[\"parqty\"],\n",
    "#                         \"sh_daysmin\": Data_PAR_test[\"sh_daysmin\"],\n",
    "#                         \"sd_t_qty_30\": Data_PAR_test[\"sd_t_qty_30\"],\n",
    "#                         \"on_promotion\": Data_PAR_test[\"on_promotion\"],\n",
    "#                         \"Parqty_Cal\": y_pred_4.round(),\n",
    "#                         \"Parqty_Adj\": Data_PAR_test[\"Parqty_Adj\"]});"
   ]
  },
  {
   "cell_type": "code",
   "execution_count": 36,
   "id": "f2ee124e",
   "metadata": {
    "execution": {
     "iopub.execute_input": "2024-02-15T07:49:46.577575Z",
     "iopub.status.busy": "2024-02-15T07:49:46.576622Z",
     "iopub.status.idle": "2024-02-15T07:49:46.593576Z",
     "shell.execute_reply": "2024-02-15T07:49:46.592418Z"
    },
    "papermill": {
     "duration": 0.042941,
     "end_time": "2024-02-15T07:49:46.595855",
     "exception": false,
     "start_time": "2024-02-15T07:49:46.552914",
     "status": "completed"
    },
    "tags": []
   },
   "outputs": [
    {
     "data": {
      "text/html": [
       "<div>\n",
       "<style scoped>\n",
       "    .dataframe tbody tr th:only-of-type {\n",
       "        vertical-align: middle;\n",
       "    }\n",
       "\n",
       "    .dataframe tbody tr th {\n",
       "        vertical-align: top;\n",
       "    }\n",
       "\n",
       "    .dataframe thead th {\n",
       "        text-align: right;\n",
       "    }\n",
       "</style>\n",
       "<table border=\"1\" class=\"dataframe\">\n",
       "  <thead>\n",
       "    <tr style=\"text-align: right;\">\n",
       "      <th></th>\n",
       "      <th>pr_dpcode</th>\n",
       "      <th>brcode</th>\n",
       "      <th>parqty</th>\n",
       "      <th>sh_daysmin</th>\n",
       "      <th>sd_t_qty_30</th>\n",
       "      <th>on_promotion</th>\n",
       "      <th>Parqty_Cal</th>\n",
       "      <th>Parqty_Adj</th>\n",
       "    </tr>\n",
       "  </thead>\n",
       "  <tbody>\n",
       "    <tr>\n",
       "      <th>0</th>\n",
       "      <td>3</td>\n",
       "      <td>1007</td>\n",
       "      <td>4</td>\n",
       "      <td>316</td>\n",
       "      <td>4.0</td>\n",
       "      <td>0.0</td>\n",
       "      <td>4.0</td>\n",
       "      <td>6</td>\n",
       "    </tr>\n",
       "    <tr>\n",
       "      <th>1</th>\n",
       "      <td>5</td>\n",
       "      <td>1024</td>\n",
       "      <td>4</td>\n",
       "      <td>321</td>\n",
       "      <td>3.0</td>\n",
       "      <td>0.0</td>\n",
       "      <td>3.0</td>\n",
       "      <td>6</td>\n",
       "    </tr>\n",
       "    <tr>\n",
       "      <th>2</th>\n",
       "      <td>2</td>\n",
       "      <td>1006</td>\n",
       "      <td>11</td>\n",
       "      <td>365</td>\n",
       "      <td>3.0</td>\n",
       "      <td>0.0</td>\n",
       "      <td>3.0</td>\n",
       "      <td>6</td>\n",
       "    </tr>\n",
       "    <tr>\n",
       "      <th>3</th>\n",
       "      <td>1</td>\n",
       "      <td>1012</td>\n",
       "      <td>3</td>\n",
       "      <td>365</td>\n",
       "      <td>0.0</td>\n",
       "      <td>0.0</td>\n",
       "      <td>0.0</td>\n",
       "      <td>6</td>\n",
       "    </tr>\n",
       "    <tr>\n",
       "      <th>4</th>\n",
       "      <td>2</td>\n",
       "      <td>1046</td>\n",
       "      <td>10</td>\n",
       "      <td>263</td>\n",
       "      <td>17.0</td>\n",
       "      <td>0.0</td>\n",
       "      <td>17.0</td>\n",
       "      <td>17</td>\n",
       "    </tr>\n",
       "    <tr>\n",
       "      <th>...</th>\n",
       "      <td>...</td>\n",
       "      <td>...</td>\n",
       "      <td>...</td>\n",
       "      <td>...</td>\n",
       "      <td>...</td>\n",
       "      <td>...</td>\n",
       "      <td>...</td>\n",
       "      <td>...</td>\n",
       "    </tr>\n",
       "    <tr>\n",
       "      <th>325464</th>\n",
       "      <td>3</td>\n",
       "      <td>1049</td>\n",
       "      <td>4</td>\n",
       "      <td>270</td>\n",
       "      <td>6.0</td>\n",
       "      <td>0.0</td>\n",
       "      <td>6.0</td>\n",
       "      <td>6</td>\n",
       "    </tr>\n",
       "    <tr>\n",
       "      <th>325465</th>\n",
       "      <td>8</td>\n",
       "      <td>1014</td>\n",
       "      <td>4</td>\n",
       "      <td>180</td>\n",
       "      <td>1.0</td>\n",
       "      <td>0.0</td>\n",
       "      <td>1.0</td>\n",
       "      <td>6</td>\n",
       "    </tr>\n",
       "    <tr>\n",
       "      <th>325466</th>\n",
       "      <td>8</td>\n",
       "      <td>1053</td>\n",
       "      <td>12</td>\n",
       "      <td>650</td>\n",
       "      <td>1.0</td>\n",
       "      <td>0.0</td>\n",
       "      <td>1.0</td>\n",
       "      <td>6</td>\n",
       "    </tr>\n",
       "    <tr>\n",
       "      <th>325467</th>\n",
       "      <td>9</td>\n",
       "      <td>1051</td>\n",
       "      <td>4</td>\n",
       "      <td>658</td>\n",
       "      <td>3.0</td>\n",
       "      <td>0.0</td>\n",
       "      <td>3.0</td>\n",
       "      <td>6</td>\n",
       "    </tr>\n",
       "    <tr>\n",
       "      <th>325468</th>\n",
       "      <td>22</td>\n",
       "      <td>1019</td>\n",
       "      <td>3</td>\n",
       "      <td>120</td>\n",
       "      <td>2.0</td>\n",
       "      <td>0.0</td>\n",
       "      <td>2.0</td>\n",
       "      <td>3</td>\n",
       "    </tr>\n",
       "  </tbody>\n",
       "</table>\n",
       "<p>314835 rows × 8 columns</p>\n",
       "</div>"
      ],
      "text/plain": [
       "        pr_dpcode  brcode  parqty  sh_daysmin  sd_t_qty_30  on_promotion  \\\n",
       "0               3    1007       4         316          4.0           0.0   \n",
       "1               5    1024       4         321          3.0           0.0   \n",
       "2               2    1006      11         365          3.0           0.0   \n",
       "3               1    1012       3         365          0.0           0.0   \n",
       "4               2    1046      10         263         17.0           0.0   \n",
       "...           ...     ...     ...         ...          ...           ...   \n",
       "325464          3    1049       4         270          6.0           0.0   \n",
       "325465          8    1014       4         180          1.0           0.0   \n",
       "325466          8    1053      12         650          1.0           0.0   \n",
       "325467          9    1051       4         658          3.0           0.0   \n",
       "325468         22    1019       3         120          2.0           0.0   \n",
       "\n",
       "        Parqty_Cal  Parqty_Adj  \n",
       "0              4.0           6  \n",
       "1              3.0           6  \n",
       "2              3.0           6  \n",
       "3              0.0           6  \n",
       "4             17.0          17  \n",
       "...            ...         ...  \n",
       "325464         6.0           6  \n",
       "325465         1.0           6  \n",
       "325466         1.0           6  \n",
       "325467         3.0           6  \n",
       "325468         2.0           3  \n",
       "\n",
       "[314835 rows x 8 columns]"
      ]
     },
     "execution_count": 36,
     "metadata": {},
     "output_type": "execute_result"
    }
   ],
   "source": [
    "Data_PAR"
   ]
  },
  {
   "cell_type": "markdown",
   "id": "8a27d472",
   "metadata": {
    "papermill": {
     "duration": 0.021715,
     "end_time": "2024-02-15T07:49:46.638936",
     "exception": false,
     "start_time": "2024-02-15T07:49:46.617221",
     "status": "completed"
    },
    "tags": []
   },
   "source": [
    "## update Data For train Model 2 "
   ]
  },
  {
   "cell_type": "code",
   "execution_count": 37,
   "id": "c879bfe0",
   "metadata": {
    "execution": {
     "iopub.execute_input": "2024-02-15T07:49:46.683656Z",
     "iopub.status.busy": "2024-02-15T07:49:46.683254Z",
     "iopub.status.idle": "2024-02-15T07:49:50.809923Z",
     "shell.execute_reply": "2024-02-15T07:49:50.808660Z"
    },
    "papermill": {
     "duration": 4.152432,
     "end_time": "2024-02-15T07:49:50.813085",
     "exception": false,
     "start_time": "2024-02-15T07:49:46.660653",
     "status": "completed"
    },
    "tags": []
   },
   "outputs": [
    {
     "data": {
      "text/html": [
       "<div>\n",
       "<style scoped>\n",
       "    .dataframe tbody tr th:only-of-type {\n",
       "        vertical-align: middle;\n",
       "    }\n",
       "\n",
       "    .dataframe tbody tr th {\n",
       "        vertical-align: top;\n",
       "    }\n",
       "\n",
       "    .dataframe thead th {\n",
       "        text-align: right;\n",
       "    }\n",
       "</style>\n",
       "<table border=\"1\" class=\"dataframe\">\n",
       "  <thead>\n",
       "    <tr style=\"text-align: right;\">\n",
       "      <th></th>\n",
       "      <th>pr_dpcode</th>\n",
       "      <th>brcode</th>\n",
       "      <th>parqty</th>\n",
       "      <th>sh_daysmin</th>\n",
       "      <th>sd_t_qty_30</th>\n",
       "      <th>on_promotion</th>\n",
       "      <th>Parqty_Cal</th>\n",
       "      <th>Parqty_Adj</th>\n",
       "    </tr>\n",
       "  </thead>\n",
       "  <tbody>\n",
       "    <tr>\n",
       "      <th>0</th>\n",
       "      <td>3</td>\n",
       "      <td>1007</td>\n",
       "      <td>4</td>\n",
       "      <td>316</td>\n",
       "      <td>4.0</td>\n",
       "      <td>0.0</td>\n",
       "      <td>4.0</td>\n",
       "      <td>6</td>\n",
       "    </tr>\n",
       "    <tr>\n",
       "      <th>1</th>\n",
       "      <td>5</td>\n",
       "      <td>1024</td>\n",
       "      <td>4</td>\n",
       "      <td>321</td>\n",
       "      <td>3.0</td>\n",
       "      <td>0.0</td>\n",
       "      <td>3.0</td>\n",
       "      <td>6</td>\n",
       "    </tr>\n",
       "    <tr>\n",
       "      <th>2</th>\n",
       "      <td>2</td>\n",
       "      <td>1006</td>\n",
       "      <td>11</td>\n",
       "      <td>365</td>\n",
       "      <td>3.0</td>\n",
       "      <td>0.0</td>\n",
       "      <td>3.0</td>\n",
       "      <td>6</td>\n",
       "    </tr>\n",
       "    <tr>\n",
       "      <th>3</th>\n",
       "      <td>1</td>\n",
       "      <td>1012</td>\n",
       "      <td>3</td>\n",
       "      <td>365</td>\n",
       "      <td>0.0</td>\n",
       "      <td>0.0</td>\n",
       "      <td>0.0</td>\n",
       "      <td>6</td>\n",
       "    </tr>\n",
       "    <tr>\n",
       "      <th>4</th>\n",
       "      <td>2</td>\n",
       "      <td>1046</td>\n",
       "      <td>10</td>\n",
       "      <td>263</td>\n",
       "      <td>17.0</td>\n",
       "      <td>0.0</td>\n",
       "      <td>17.0</td>\n",
       "      <td>17</td>\n",
       "    </tr>\n",
       "    <tr>\n",
       "      <th>...</th>\n",
       "      <td>...</td>\n",
       "      <td>...</td>\n",
       "      <td>...</td>\n",
       "      <td>...</td>\n",
       "      <td>...</td>\n",
       "      <td>...</td>\n",
       "      <td>...</td>\n",
       "      <td>...</td>\n",
       "    </tr>\n",
       "    <tr>\n",
       "      <th>325464</th>\n",
       "      <td>3</td>\n",
       "      <td>1049</td>\n",
       "      <td>4</td>\n",
       "      <td>270</td>\n",
       "      <td>6.0</td>\n",
       "      <td>0.0</td>\n",
       "      <td>6.0</td>\n",
       "      <td>6</td>\n",
       "    </tr>\n",
       "    <tr>\n",
       "      <th>325465</th>\n",
       "      <td>8</td>\n",
       "      <td>1014</td>\n",
       "      <td>4</td>\n",
       "      <td>180</td>\n",
       "      <td>1.0</td>\n",
       "      <td>0.0</td>\n",
       "      <td>1.0</td>\n",
       "      <td>6</td>\n",
       "    </tr>\n",
       "    <tr>\n",
       "      <th>325466</th>\n",
       "      <td>8</td>\n",
       "      <td>1053</td>\n",
       "      <td>12</td>\n",
       "      <td>650</td>\n",
       "      <td>1.0</td>\n",
       "      <td>0.0</td>\n",
       "      <td>1.0</td>\n",
       "      <td>6</td>\n",
       "    </tr>\n",
       "    <tr>\n",
       "      <th>325467</th>\n",
       "      <td>9</td>\n",
       "      <td>1051</td>\n",
       "      <td>4</td>\n",
       "      <td>658</td>\n",
       "      <td>3.0</td>\n",
       "      <td>0.0</td>\n",
       "      <td>3.0</td>\n",
       "      <td>6</td>\n",
       "    </tr>\n",
       "    <tr>\n",
       "      <th>325468</th>\n",
       "      <td>22</td>\n",
       "      <td>1019</td>\n",
       "      <td>3</td>\n",
       "      <td>120</td>\n",
       "      <td>2.0</td>\n",
       "      <td>0.0</td>\n",
       "      <td>2.0</td>\n",
       "      <td>3</td>\n",
       "    </tr>\n",
       "  </tbody>\n",
       "</table>\n",
       "<p>314835 rows × 8 columns</p>\n",
       "</div>"
      ],
      "text/plain": [
       "        pr_dpcode  brcode  parqty  sh_daysmin  sd_t_qty_30  on_promotion  \\\n",
       "0               3    1007       4         316          4.0           0.0   \n",
       "1               5    1024       4         321          3.0           0.0   \n",
       "2               2    1006      11         365          3.0           0.0   \n",
       "3               1    1012       3         365          0.0           0.0   \n",
       "4               2    1046      10         263         17.0           0.0   \n",
       "...           ...     ...     ...         ...          ...           ...   \n",
       "325464          3    1049       4         270          6.0           0.0   \n",
       "325465          8    1014       4         180          1.0           0.0   \n",
       "325466          8    1053      12         650          1.0           0.0   \n",
       "325467          9    1051       4         658          3.0           0.0   \n",
       "325468         22    1019       3         120          2.0           0.0   \n",
       "\n",
       "        Parqty_Cal  Parqty_Adj  \n",
       "0              4.0           6  \n",
       "1              3.0           6  \n",
       "2              3.0           6  \n",
       "3              0.0           6  \n",
       "4             17.0          17  \n",
       "...            ...         ...  \n",
       "325464         6.0           6  \n",
       "325465         1.0           6  \n",
       "325466         1.0           6  \n",
       "325467         3.0           6  \n",
       "325468         2.0           3  \n",
       "\n",
       "[314835 rows x 8 columns]"
      ]
     },
     "execution_count": 37,
     "metadata": {},
     "output_type": "execute_result"
    }
   ],
   "source": [
    "Data_PAR_For_Col2 = Data_PAR\n",
    "Data_PAR_For_Col2.loc[:, 'Parqty_Cal'] = Model_RF_3.predict(Data_PAR.drop(['Parqty_Cal', 'Parqty_Adj'], axis=1))\n",
    "Data_PAR_For_Col2"
   ]
  },
  {
   "cell_type": "code",
   "execution_count": 38,
   "id": "162a9116",
   "metadata": {
    "execution": {
     "iopub.execute_input": "2024-02-15T07:49:50.859615Z",
     "iopub.status.busy": "2024-02-15T07:49:50.858883Z",
     "iopub.status.idle": "2024-02-15T07:49:51.296990Z",
     "shell.execute_reply": "2024-02-15T07:49:51.295823Z"
    },
    "papermill": {
     "duration": 0.464996,
     "end_time": "2024-02-15T07:49:51.299569",
     "exception": false,
     "start_time": "2024-02-15T07:49:50.834573",
     "status": "completed"
    },
    "tags": []
   },
   "outputs": [],
   "source": [
    "#Save Data To CSV File \n",
    "\n",
    "Data_PAR_test.to_csv('Data_Par_Output1.csv', index=False)"
   ]
  },
  {
   "cell_type": "markdown",
   "id": "92eeab48",
   "metadata": {
    "papermill": {
     "duration": 0.021005,
     "end_time": "2024-02-15T07:49:51.342374",
     "exception": false,
     "start_time": "2024-02-15T07:49:51.321369",
     "status": "completed"
    },
    "tags": []
   },
   "source": [
    "## Save Model 1"
   ]
  },
  {
   "cell_type": "code",
   "execution_count": 39,
   "id": "86a1e002",
   "metadata": {
    "execution": {
     "iopub.execute_input": "2024-02-15T07:49:51.387584Z",
     "iopub.status.busy": "2024-02-15T07:49:51.386565Z",
     "iopub.status.idle": "2024-02-15T07:49:51.416206Z",
     "shell.execute_reply": "2024-02-15T07:49:51.415083Z"
    },
    "papermill": {
     "duration": 0.055208,
     "end_time": "2024-02-15T07:49:51.418770",
     "exception": false,
     "start_time": "2024-02-15T07:49:51.363562",
     "status": "completed"
    },
    "tags": []
   },
   "outputs": [],
   "source": [
    "import pickle\n",
    "with open('RF_Model_Product_PAR_1.pkl', 'wb') as file:\n",
    "    pickle.dump(Model_RF_3, file)"
   ]
  },
  {
   "cell_type": "markdown",
   "id": "fb511194",
   "metadata": {
    "papermill": {
     "duration": 0.020918,
     "end_time": "2024-02-15T07:49:51.460938",
     "exception": false,
     "start_time": "2024-02-15T07:49:51.440020",
     "status": "completed"
    },
    "tags": []
   },
   "source": [
    "# Find The Target Column 2"
   ]
  },
  {
   "cell_type": "code",
   "execution_count": 40,
   "id": "4a34223a",
   "metadata": {
    "execution": {
     "iopub.execute_input": "2024-02-15T07:49:51.504940Z",
     "iopub.status.busy": "2024-02-15T07:49:51.504513Z",
     "iopub.status.idle": "2024-02-15T07:49:51.520156Z",
     "shell.execute_reply": "2024-02-15T07:49:51.519377Z"
    },
    "papermill": {
     "duration": 0.0399,
     "end_time": "2024-02-15T07:49:51.522026",
     "exception": false,
     "start_time": "2024-02-15T07:49:51.482126",
     "status": "completed"
    },
    "tags": []
   },
   "outputs": [
    {
     "data": {
      "text/html": [
       "<div>\n",
       "<style scoped>\n",
       "    .dataframe tbody tr th:only-of-type {\n",
       "        vertical-align: middle;\n",
       "    }\n",
       "\n",
       "    .dataframe tbody tr th {\n",
       "        vertical-align: top;\n",
       "    }\n",
       "\n",
       "    .dataframe thead th {\n",
       "        text-align: right;\n",
       "    }\n",
       "</style>\n",
       "<table border=\"1\" class=\"dataframe\">\n",
       "  <thead>\n",
       "    <tr style=\"text-align: right;\">\n",
       "      <th></th>\n",
       "      <th>pr_dpcode</th>\n",
       "      <th>brcode</th>\n",
       "      <th>parqty</th>\n",
       "      <th>sh_daysmin</th>\n",
       "      <th>sd_t_qty_30</th>\n",
       "      <th>on_promotion</th>\n",
       "      <th>Parqty_Cal</th>\n",
       "      <th>Parqty_Adj</th>\n",
       "    </tr>\n",
       "  </thead>\n",
       "  <tbody>\n",
       "    <tr>\n",
       "      <th>0</th>\n",
       "      <td>3</td>\n",
       "      <td>1007</td>\n",
       "      <td>4</td>\n",
       "      <td>316</td>\n",
       "      <td>4.0</td>\n",
       "      <td>0.0</td>\n",
       "      <td>4.0</td>\n",
       "      <td>6</td>\n",
       "    </tr>\n",
       "    <tr>\n",
       "      <th>1</th>\n",
       "      <td>5</td>\n",
       "      <td>1024</td>\n",
       "      <td>4</td>\n",
       "      <td>321</td>\n",
       "      <td>3.0</td>\n",
       "      <td>0.0</td>\n",
       "      <td>3.0</td>\n",
       "      <td>6</td>\n",
       "    </tr>\n",
       "    <tr>\n",
       "      <th>2</th>\n",
       "      <td>2</td>\n",
       "      <td>1006</td>\n",
       "      <td>11</td>\n",
       "      <td>365</td>\n",
       "      <td>3.0</td>\n",
       "      <td>0.0</td>\n",
       "      <td>3.0</td>\n",
       "      <td>6</td>\n",
       "    </tr>\n",
       "    <tr>\n",
       "      <th>3</th>\n",
       "      <td>1</td>\n",
       "      <td>1012</td>\n",
       "      <td>3</td>\n",
       "      <td>365</td>\n",
       "      <td>0.0</td>\n",
       "      <td>0.0</td>\n",
       "      <td>0.0</td>\n",
       "      <td>6</td>\n",
       "    </tr>\n",
       "    <tr>\n",
       "      <th>4</th>\n",
       "      <td>2</td>\n",
       "      <td>1046</td>\n",
       "      <td>10</td>\n",
       "      <td>263</td>\n",
       "      <td>17.0</td>\n",
       "      <td>0.0</td>\n",
       "      <td>17.0</td>\n",
       "      <td>17</td>\n",
       "    </tr>\n",
       "    <tr>\n",
       "      <th>...</th>\n",
       "      <td>...</td>\n",
       "      <td>...</td>\n",
       "      <td>...</td>\n",
       "      <td>...</td>\n",
       "      <td>...</td>\n",
       "      <td>...</td>\n",
       "      <td>...</td>\n",
       "      <td>...</td>\n",
       "    </tr>\n",
       "    <tr>\n",
       "      <th>325464</th>\n",
       "      <td>3</td>\n",
       "      <td>1049</td>\n",
       "      <td>4</td>\n",
       "      <td>270</td>\n",
       "      <td>6.0</td>\n",
       "      <td>0.0</td>\n",
       "      <td>6.0</td>\n",
       "      <td>6</td>\n",
       "    </tr>\n",
       "    <tr>\n",
       "      <th>325465</th>\n",
       "      <td>8</td>\n",
       "      <td>1014</td>\n",
       "      <td>4</td>\n",
       "      <td>180</td>\n",
       "      <td>1.0</td>\n",
       "      <td>0.0</td>\n",
       "      <td>1.0</td>\n",
       "      <td>6</td>\n",
       "    </tr>\n",
       "    <tr>\n",
       "      <th>325466</th>\n",
       "      <td>8</td>\n",
       "      <td>1053</td>\n",
       "      <td>12</td>\n",
       "      <td>650</td>\n",
       "      <td>1.0</td>\n",
       "      <td>0.0</td>\n",
       "      <td>1.0</td>\n",
       "      <td>6</td>\n",
       "    </tr>\n",
       "    <tr>\n",
       "      <th>325467</th>\n",
       "      <td>9</td>\n",
       "      <td>1051</td>\n",
       "      <td>4</td>\n",
       "      <td>658</td>\n",
       "      <td>3.0</td>\n",
       "      <td>0.0</td>\n",
       "      <td>3.0</td>\n",
       "      <td>6</td>\n",
       "    </tr>\n",
       "    <tr>\n",
       "      <th>325468</th>\n",
       "      <td>22</td>\n",
       "      <td>1019</td>\n",
       "      <td>3</td>\n",
       "      <td>120</td>\n",
       "      <td>2.0</td>\n",
       "      <td>0.0</td>\n",
       "      <td>2.0</td>\n",
       "      <td>3</td>\n",
       "    </tr>\n",
       "  </tbody>\n",
       "</table>\n",
       "<p>314835 rows × 8 columns</p>\n",
       "</div>"
      ],
      "text/plain": [
       "        pr_dpcode  brcode  parqty  sh_daysmin  sd_t_qty_30  on_promotion  \\\n",
       "0               3    1007       4         316          4.0           0.0   \n",
       "1               5    1024       4         321          3.0           0.0   \n",
       "2               2    1006      11         365          3.0           0.0   \n",
       "3               1    1012       3         365          0.0           0.0   \n",
       "4               2    1046      10         263         17.0           0.0   \n",
       "...           ...     ...     ...         ...          ...           ...   \n",
       "325464          3    1049       4         270          6.0           0.0   \n",
       "325465          8    1014       4         180          1.0           0.0   \n",
       "325466          8    1053      12         650          1.0           0.0   \n",
       "325467          9    1051       4         658          3.0           0.0   \n",
       "325468         22    1019       3         120          2.0           0.0   \n",
       "\n",
       "        Parqty_Cal  Parqty_Adj  \n",
       "0              4.0           6  \n",
       "1              3.0           6  \n",
       "2              3.0           6  \n",
       "3              0.0           6  \n",
       "4             17.0          17  \n",
       "...            ...         ...  \n",
       "325464         6.0           6  \n",
       "325465         1.0           6  \n",
       "325466         1.0           6  \n",
       "325467         3.0           6  \n",
       "325468         2.0           3  \n",
       "\n",
       "[314835 rows x 8 columns]"
      ]
     },
     "execution_count": 40,
     "metadata": {},
     "output_type": "execute_result"
    }
   ],
   "source": [
    "# Load Train Data Set\n",
    "train_data_5 = Data_PAR_For_Col2\n",
    "\n",
    "train_data_5"
   ]
  },
  {
   "cell_type": "markdown",
   "id": "7f7fc518",
   "metadata": {
    "papermill": {
     "duration": 0.021268,
     "end_time": "2024-02-15T07:49:51.565323",
     "exception": false,
     "start_time": "2024-02-15T07:49:51.544055",
     "status": "completed"
    },
    "tags": []
   },
   "source": [
    "## Data Preparation"
   ]
  },
  {
   "cell_type": "code",
   "execution_count": 41,
   "id": "88408cc7",
   "metadata": {
    "execution": {
     "iopub.execute_input": "2024-02-15T07:49:51.611049Z",
     "iopub.status.busy": "2024-02-15T07:49:51.610418Z",
     "iopub.status.idle": "2024-02-15T07:49:51.623188Z",
     "shell.execute_reply": "2024-02-15T07:49:51.621895Z"
    },
    "papermill": {
     "duration": 0.038531,
     "end_time": "2024-02-15T07:49:51.625280",
     "exception": false,
     "start_time": "2024-02-15T07:49:51.586749",
     "status": "completed"
    },
    "tags": []
   },
   "outputs": [
    {
     "name": "stdout",
     "output_type": "stream",
     "text": [
      "Total amount of data before removing missing values.: 314835\n",
      "Total amount of data after removing missing values.: 314835\n"
     ]
    }
   ],
   "source": [
    "# To Remove NA Value\n",
    "print(\"Total amount of data before removing missing values.:\", len(train_data_5))\n",
    "train_data_5 = train_data_5.dropna()\n",
    "print(\"Total amount of data after removing missing values.:\", len(train_data_5))"
   ]
  },
  {
   "cell_type": "markdown",
   "id": "a5edaad7",
   "metadata": {
    "papermill": {
     "duration": 0.022157,
     "end_time": "2024-02-15T07:49:51.669158",
     "exception": false,
     "start_time": "2024-02-15T07:49:51.647001",
     "status": "completed"
    },
    "tags": []
   },
   "source": [
    "## Train The Model On Train Data Set"
   ]
  },
  {
   "cell_type": "code",
   "execution_count": 42,
   "id": "a43518e7",
   "metadata": {
    "execution": {
     "iopub.execute_input": "2024-02-15T07:49:51.717262Z",
     "iopub.status.busy": "2024-02-15T07:49:51.716514Z",
     "iopub.status.idle": "2024-02-15T07:49:51.804344Z",
     "shell.execute_reply": "2024-02-15T07:49:51.803471Z"
    },
    "papermill": {
     "duration": 0.114378,
     "end_time": "2024-02-15T07:49:51.806702",
     "exception": false,
     "start_time": "2024-02-15T07:49:51.692324",
     "status": "completed"
    },
    "tags": []
   },
   "outputs": [],
   "source": [
    "#Splitting dataset to train and test\n",
    "\n",
    "X_5 = train_data_5.drop(['Parqty_Adj'], axis=1) # features \n",
    "\n",
    "y_5 = train_data_5[['Parqty_Adj']] # target\n",
    "\n",
    "# แบ่งข้อมูลเป็น train 70% และ temp set 30%\n",
    "X_train_5, X_temp_5, y_train_5, y_temp_5 = train_test_split(X_5, y_5, test_size=0.3, random_state=42)\n",
    "\n",
    "# แบ่ง temp set เป็น validation 15% และ test 15%\n",
    "X_val_5, X_test_5, y_val_5, y_test_5 = train_test_split(X_temp_5, y_temp_5, test_size=0.5, random_state=42)\n"
   ]
  },
  {
   "cell_type": "code",
   "execution_count": 43,
   "id": "ff6b08d1",
   "metadata": {
    "execution": {
     "iopub.execute_input": "2024-02-15T07:49:51.854438Z",
     "iopub.status.busy": "2024-02-15T07:49:51.853681Z",
     "iopub.status.idle": "2024-02-15T07:50:13.823188Z",
     "shell.execute_reply": "2024-02-15T07:50:13.821953Z"
    },
    "papermill": {
     "duration": 21.997047,
     "end_time": "2024-02-15T07:50:13.826102",
     "exception": false,
     "start_time": "2024-02-15T07:49:51.829055",
     "status": "completed"
    },
    "tags": []
   },
   "outputs": [
    {
     "name": "stdout",
     "output_type": "stream",
     "text": [
      "Mean Squared Error on Train Set : 78.32635301203086\n"
     ]
    }
   ],
   "source": [
    "#Train The Model 2\n",
    "new_model_5 = RandomForestRegressor(n_estimators=200, min_samples_split=2, min_samples_leaf= 1\n",
    "                                  , max_features=1.0, max_depth=None ,bootstrap= False\n",
    "                                  , random_state=42)\n",
    "new_model_5.fit(X_val_5, y_val_5.values.ravel())\n",
    "\n",
    "# ประเมินประสิทธิภาพบนชุดทดสอบ\n",
    "y_pred_5 = new_model_5.predict(X_test_5)\n",
    "\n",
    "# ประเมินประสิทธิภาพของโมเดล\n",
    "MSE_Train_5 = mean_squared_error(y_test_5, y_pred_5)\n",
    "print(f'Mean Squared Error on Train Set : {MSE_Train_5}')"
   ]
  },
  {
   "cell_type": "markdown",
   "id": "8eecbff2",
   "metadata": {
    "papermill": {
     "duration": 0.021459,
     "end_time": "2024-02-15T07:50:13.870305",
     "exception": false,
     "start_time": "2024-02-15T07:50:13.848846",
     "status": "completed"
    },
    "tags": []
   },
   "source": [
    "## Load The Test Dataset To Test"
   ]
  },
  {
   "cell_type": "code",
   "execution_count": 44,
   "id": "89a78e22",
   "metadata": {
    "execution": {
     "iopub.execute_input": "2024-02-15T07:50:13.916545Z",
     "iopub.status.busy": "2024-02-15T07:50:13.916161Z",
     "iopub.status.idle": "2024-02-15T07:50:13.938391Z",
     "shell.execute_reply": "2024-02-15T07:50:13.937311Z"
    },
    "papermill": {
     "duration": 0.048248,
     "end_time": "2024-02-15T07:50:13.940611",
     "exception": false,
     "start_time": "2024-02-15T07:50:13.892363",
     "status": "completed"
    },
    "tags": []
   },
   "outputs": [
    {
     "data": {
      "text/html": [
       "<div>\n",
       "<style scoped>\n",
       "    .dataframe tbody tr th:only-of-type {\n",
       "        vertical-align: middle;\n",
       "    }\n",
       "\n",
       "    .dataframe tbody tr th {\n",
       "        vertical-align: top;\n",
       "    }\n",
       "\n",
       "    .dataframe thead th {\n",
       "        text-align: right;\n",
       "    }\n",
       "</style>\n",
       "<table border=\"1\" class=\"dataframe\">\n",
       "  <thead>\n",
       "    <tr style=\"text-align: right;\">\n",
       "      <th></th>\n",
       "      <th>pr_dpcode</th>\n",
       "      <th>brcode</th>\n",
       "      <th>parqty</th>\n",
       "      <th>sh_daysmin</th>\n",
       "      <th>sd_t_qty_30</th>\n",
       "      <th>on_promotion</th>\n",
       "      <th>Parqty_Cal</th>\n",
       "      <th>Parqty_Adj</th>\n",
       "    </tr>\n",
       "  </thead>\n",
       "  <tbody>\n",
       "    <tr>\n",
       "      <th>0</th>\n",
       "      <td>5</td>\n",
       "      <td>1044</td>\n",
       "      <td>3</td>\n",
       "      <td>450</td>\n",
       "      <td>1.0</td>\n",
       "      <td>1.25</td>\n",
       "      <td>1.0</td>\n",
       "      <td>8</td>\n",
       "    </tr>\n",
       "    <tr>\n",
       "      <th>1</th>\n",
       "      <td>28</td>\n",
       "      <td>1026</td>\n",
       "      <td>6</td>\n",
       "      <td>75</td>\n",
       "      <td>0.0</td>\n",
       "      <td>0.00</td>\n",
       "      <td>0.0</td>\n",
       "      <td>3</td>\n",
       "    </tr>\n",
       "    <tr>\n",
       "      <th>2</th>\n",
       "      <td>23</td>\n",
       "      <td>1022</td>\n",
       "      <td>6</td>\n",
       "      <td>30</td>\n",
       "      <td>21.0</td>\n",
       "      <td>0.00</td>\n",
       "      <td>7.0</td>\n",
       "      <td>7</td>\n",
       "    </tr>\n",
       "    <tr>\n",
       "      <th>3</th>\n",
       "      <td>2</td>\n",
       "      <td>1050</td>\n",
       "      <td>2</td>\n",
       "      <td>389</td>\n",
       "      <td>0.0</td>\n",
       "      <td>0.00</td>\n",
       "      <td>0.0</td>\n",
       "      <td>6</td>\n",
       "    </tr>\n",
       "    <tr>\n",
       "      <th>4</th>\n",
       "      <td>14</td>\n",
       "      <td>1024</td>\n",
       "      <td>4</td>\n",
       "      <td>658</td>\n",
       "      <td>2.0</td>\n",
       "      <td>1.25</td>\n",
       "      <td>3.0</td>\n",
       "      <td>8</td>\n",
       "    </tr>\n",
       "    <tr>\n",
       "      <th>...</th>\n",
       "      <td>...</td>\n",
       "      <td>...</td>\n",
       "      <td>...</td>\n",
       "      <td>...</td>\n",
       "      <td>...</td>\n",
       "      <td>...</td>\n",
       "      <td>...</td>\n",
       "      <td>...</td>\n",
       "    </tr>\n",
       "    <tr>\n",
       "      <th>139482</th>\n",
       "      <td>28</td>\n",
       "      <td>1038</td>\n",
       "      <td>10</td>\n",
       "      <td>135</td>\n",
       "      <td>13.0</td>\n",
       "      <td>0.00</td>\n",
       "      <td>13.0</td>\n",
       "      <td>13</td>\n",
       "    </tr>\n",
       "    <tr>\n",
       "      <th>139483</th>\n",
       "      <td>21</td>\n",
       "      <td>1051</td>\n",
       "      <td>3</td>\n",
       "      <td>700</td>\n",
       "      <td>0.0</td>\n",
       "      <td>0.00</td>\n",
       "      <td>0.0</td>\n",
       "      <td>3</td>\n",
       "    </tr>\n",
       "    <tr>\n",
       "      <th>139484</th>\n",
       "      <td>10</td>\n",
       "      <td>1048</td>\n",
       "      <td>6</td>\n",
       "      <td>864</td>\n",
       "      <td>10.0</td>\n",
       "      <td>1.25</td>\n",
       "      <td>13.0</td>\n",
       "      <td>13</td>\n",
       "    </tr>\n",
       "    <tr>\n",
       "      <th>139485</th>\n",
       "      <td>2</td>\n",
       "      <td>1039</td>\n",
       "      <td>30</td>\n",
       "      <td>212</td>\n",
       "      <td>41.0</td>\n",
       "      <td>0.00</td>\n",
       "      <td>41.0</td>\n",
       "      <td>41</td>\n",
       "    </tr>\n",
       "    <tr>\n",
       "      <th>139486</th>\n",
       "      <td>1</td>\n",
       "      <td>1049</td>\n",
       "      <td>3</td>\n",
       "      <td>329</td>\n",
       "      <td>0.0</td>\n",
       "      <td>0.00</td>\n",
       "      <td>0.0</td>\n",
       "      <td>6</td>\n",
       "    </tr>\n",
       "  </tbody>\n",
       "</table>\n",
       "<p>134773 rows × 8 columns</p>\n",
       "</div>"
      ],
      "text/plain": [
       "        pr_dpcode  brcode  parqty  sh_daysmin  sd_t_qty_30  on_promotion  \\\n",
       "0               5    1044       3         450          1.0          1.25   \n",
       "1              28    1026       6          75          0.0          0.00   \n",
       "2              23    1022       6          30         21.0          0.00   \n",
       "3               2    1050       2         389          0.0          0.00   \n",
       "4              14    1024       4         658          2.0          1.25   \n",
       "...           ...     ...     ...         ...          ...           ...   \n",
       "139482         28    1038      10         135         13.0          0.00   \n",
       "139483         21    1051       3         700          0.0          0.00   \n",
       "139484         10    1048       6         864         10.0          1.25   \n",
       "139485          2    1039      30         212         41.0          0.00   \n",
       "139486          1    1049       3         329          0.0          0.00   \n",
       "\n",
       "        Parqty_Cal  Parqty_Adj  \n",
       "0              1.0           8  \n",
       "1              0.0           3  \n",
       "2              7.0           7  \n",
       "3              0.0           6  \n",
       "4              3.0           8  \n",
       "...            ...         ...  \n",
       "139482        13.0          13  \n",
       "139483         0.0           3  \n",
       "139484        13.0          13  \n",
       "139485        41.0          41  \n",
       "139486         0.0           6  \n",
       "\n",
       "[134773 rows x 8 columns]"
      ]
     },
     "execution_count": 44,
     "metadata": {},
     "output_type": "execute_result"
    }
   ],
   "source": [
    "test_data_6 = Data_PAR_test_For_Col2\n",
    "\n",
    "test_data_6 = test_data_6.dropna()\n",
    "\n",
    "test_data_6"
   ]
  },
  {
   "cell_type": "code",
   "execution_count": 45,
   "id": "af57e76b",
   "metadata": {
    "execution": {
     "iopub.execute_input": "2024-02-15T07:50:13.986669Z",
     "iopub.status.busy": "2024-02-15T07:50:13.986275Z",
     "iopub.status.idle": "2024-02-15T07:50:15.869762Z",
     "shell.execute_reply": "2024-02-15T07:50:15.868531Z"
    },
    "papermill": {
     "duration": 1.909468,
     "end_time": "2024-02-15T07:50:15.872006",
     "exception": false,
     "start_time": "2024-02-15T07:50:13.962538",
     "status": "completed"
    },
    "tags": []
   },
   "outputs": [
    {
     "name": "stdout",
     "output_type": "stream",
     "text": [
      "Mean Squared Error: 33.14255096544237\n"
     ]
    }
   ],
   "source": [
    "# Split the new data into features (X_new) and target (y_new)\n",
    "X_new_6 = test_data_6.drop(['Parqty_Adj'], axis=1)  # features\n",
    "y_new_6 = test_data_6['Parqty_Adj']  # target\n",
    "\n",
    "\n",
    "# Reorder the columns in X_new\n",
    "y_pred_new_6 = new_model_5.predict(X_new_6)\n",
    "\n",
    "MSE_Test_6 = mean_squared_error(y_new_6, y_pred_new_6)\n",
    "print(f'Mean Squared Error: {MSE_Test_6}')"
   ]
  },
  {
   "cell_type": "code",
   "execution_count": 46,
   "id": "68b077e4",
   "metadata": {
    "execution": {
     "iopub.execute_input": "2024-02-15T07:50:15.920224Z",
     "iopub.status.busy": "2024-02-15T07:50:15.919610Z",
     "iopub.status.idle": "2024-02-15T07:50:15.925828Z",
     "shell.execute_reply": "2024-02-15T07:50:15.924852Z"
    },
    "papermill": {
     "duration": 0.033177,
     "end_time": "2024-02-15T07:50:15.928006",
     "exception": false,
     "start_time": "2024-02-15T07:50:15.894829",
     "status": "completed"
    },
    "tags": []
   },
   "outputs": [],
   "source": [
    "test_data_6['Parqty_Adj_predict'] = y_pred_new_6.round()"
   ]
  },
  {
   "cell_type": "code",
   "execution_count": 47,
   "id": "457e5ff9",
   "metadata": {
    "execution": {
     "iopub.execute_input": "2024-02-15T07:50:15.974827Z",
     "iopub.status.busy": "2024-02-15T07:50:15.974153Z",
     "iopub.status.idle": "2024-02-15T07:50:15.989620Z",
     "shell.execute_reply": "2024-02-15T07:50:15.988459Z"
    },
    "papermill": {
     "duration": 0.041335,
     "end_time": "2024-02-15T07:50:15.991875",
     "exception": false,
     "start_time": "2024-02-15T07:50:15.950540",
     "status": "completed"
    },
    "tags": []
   },
   "outputs": [
    {
     "name": "stdout",
     "output_type": "stream",
     "text": [
      "ความแม่นยำของโมเดลในการหา Parqty_Adj : 96.32%.\n"
     ]
    }
   ],
   "source": [
    "test_data_6[\"Diff\"] = test_data_6['Parqty_Adj'] - test_data_6['Parqty_Adj_predict']\n",
    "\n",
    "len_Data_correct = len(test_data_6[(test_data_6[\"Diff\"] == 0)])\n",
    "len_Data_All = len(test_data_6)\n",
    "\n",
    "accuracy_Model2 = len_Data_correct / len_Data_All\n",
    "\n",
    "print('ความแม่นยำของโมเดลในการหา Parqty_Adj : {:0.2f}%.'.format(accuracy_Model2 *100))"
   ]
  },
  {
   "cell_type": "markdown",
   "id": "f3de7d03",
   "metadata": {
    "papermill": {
     "duration": 0.022665,
     "end_time": "2024-02-15T07:50:16.037064",
     "exception": false,
     "start_time": "2024-02-15T07:50:16.014399",
     "status": "completed"
    },
    "tags": []
   },
   "source": [
    "# Measure Model"
   ]
  },
  {
   "cell_type": "code",
   "execution_count": 48,
   "id": "9997ab22",
   "metadata": {
    "execution": {
     "iopub.execute_input": "2024-02-15T07:50:16.083827Z",
     "iopub.status.busy": "2024-02-15T07:50:16.083409Z",
     "iopub.status.idle": "2024-02-15T07:50:16.089790Z",
     "shell.execute_reply": "2024-02-15T07:50:16.088303Z"
    },
    "papermill": {
     "duration": 0.032582,
     "end_time": "2024-02-15T07:50:16.091912",
     "exception": false,
     "start_time": "2024-02-15T07:50:16.059330",
     "status": "completed"
    },
    "tags": []
   },
   "outputs": [
    {
     "name": "stdout",
     "output_type": "stream",
     "text": [
      "MSE Train Data Set : 78.33\n",
      "MSE Test Data Set : 33.14\n",
      "Final Accuracy : 96.32%.\n"
     ]
    }
   ],
   "source": [
    "print('MSE Train Data Set : {:0.2f}'.format(MSE_Train_5))\n",
    "print('MSE Test Data Set : {:0.2f}'.format(MSE_Test_6))\n",
    "\n",
    "print('Final Accuracy : {:0.2f}%.'.format(accuracy_Model2 *100))"
   ]
  },
  {
   "cell_type": "markdown",
   "id": "5a2aad80",
   "metadata": {
    "papermill": {
     "duration": 0.021981,
     "end_time": "2024-02-15T07:50:16.137020",
     "exception": false,
     "start_time": "2024-02-15T07:50:16.115039",
     "status": "completed"
    },
    "tags": []
   },
   "source": [
    "## Save Output2 For Make To New File 2"
   ]
  },
  {
   "cell_type": "code",
   "execution_count": 49,
   "id": "eaa5d33a",
   "metadata": {
    "execution": {
     "iopub.execute_input": "2024-02-15T07:50:16.183185Z",
     "iopub.status.busy": "2024-02-15T07:50:16.182785Z",
     "iopub.status.idle": "2024-02-15T07:50:16.685636Z",
     "shell.execute_reply": "2024-02-15T07:50:16.684802Z"
    },
    "papermill": {
     "duration": 0.529039,
     "end_time": "2024-02-15T07:50:16.688161",
     "exception": false,
     "start_time": "2024-02-15T07:50:16.159122",
     "status": "completed"
    },
    "tags": []
   },
   "outputs": [],
   "source": [
    "#Save Data To CSV File \n",
    "test_data_6 = test_data_6.drop(['Diff'], axis=1)\n",
    "test_data_6.to_csv('Data_Par_Output2.csv', index=False)"
   ]
  },
  {
   "cell_type": "markdown",
   "id": "cbf6e7c4",
   "metadata": {
    "papermill": {
     "duration": 0.02261,
     "end_time": "2024-02-15T07:50:16.733088",
     "exception": false,
     "start_time": "2024-02-15T07:50:16.710478",
     "status": "completed"
    },
    "tags": []
   },
   "source": [
    "## Save Model 2"
   ]
  },
  {
   "cell_type": "code",
   "execution_count": 50,
   "id": "fb54d1f6",
   "metadata": {
    "execution": {
     "iopub.execute_input": "2024-02-15T07:50:16.780797Z",
     "iopub.status.busy": "2024-02-15T07:50:16.779659Z",
     "iopub.status.idle": "2024-02-15T07:50:16.843523Z",
     "shell.execute_reply": "2024-02-15T07:50:16.842222Z"
    },
    "papermill": {
     "duration": 0.090679,
     "end_time": "2024-02-15T07:50:16.846244",
     "exception": false,
     "start_time": "2024-02-15T07:50:16.755565",
     "status": "completed"
    },
    "tags": []
   },
   "outputs": [],
   "source": [
    "import pickle\n",
    "with open('RF_Model_Product_PAR_2.pkl', 'wb') as file:\n",
    "    pickle.dump(new_model_5, file)"
   ]
  }
 ],
 "metadata": {
  "kaggle": {
   "accelerator": "none",
   "dataSources": [
    {
     "datasetId": 4352486,
     "sourceId": 7621637,
     "sourceType": "datasetVersion"
    }
   ],
   "dockerImageVersionId": 30646,
   "isGpuEnabled": false,
   "isInternetEnabled": true,
   "language": "python",
   "sourceType": "notebook"
  },
  "kernelspec": {
   "display_name": "Python 3",
   "language": "python",
   "name": "python3"
  },
  "language_info": {
   "codemirror_mode": {
    "name": "ipython",
    "version": 3
   },
   "file_extension": ".py",
   "mimetype": "text/x-python",
   "name": "python",
   "nbconvert_exporter": "python",
   "pygments_lexer": "ipython3",
   "version": "3.10.13"
  },
  "papermill": {
   "default_parameters": {},
   "duration": 2134.982758,
   "end_time": "2024-02-15T07:50:19.494366",
   "environment_variables": {},
   "exception": null,
   "input_path": "__notebook__.ipynb",
   "output_path": "__notebook__.ipynb",
   "parameters": {},
   "start_time": "2024-02-15T07:14:44.511608",
   "version": "2.5.0"
  }
 },
 "nbformat": 4,
 "nbformat_minor": 5
}
